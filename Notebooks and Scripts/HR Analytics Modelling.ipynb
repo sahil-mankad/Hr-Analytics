{
 "cells": [
  {
   "cell_type": "markdown",
   "metadata": {
    "id": "4PChjTkjNc9n"
   },
   "source": [
    "# Setup"
   ]
  },
  {
   "cell_type": "code",
   "execution_count": 2,
   "metadata": {
    "colab": {
     "base_uri": "https://localhost:8080/",
     "height": 870
    },
    "executionInfo": {
     "elapsed": 66685,
     "status": "ok",
     "timestamp": 1603691971170,
     "user": {
      "displayName": "SAHIL MANKAD",
      "photoUrl": "",
      "userId": "01524592176474520459"
     },
     "user_tz": -330
    },
    "id": "23ff-3R7If0L",
    "outputId": "faf5b9bb-e457-425e-b456-f3b94ff5be74"
   },
   "outputs": [],
   "source": [
    "import os\n",
    "# path = input(\"Enter the path:\")\n",
    "# from google.colab import drive\n",
    "# drive.mount('/content/drive/')\n",
    "# os.chdir(path)\n",
    "\n",
    "import numpy as np\n",
    "import pandas as pd\n",
    "from sklearn.preprocessing import MinMaxScaler\n",
    "import matplotlib.pyplot as plt\n",
    "import seaborn as sns\n",
    "sns.set()\n",
    "sns.set(style=\"darkgrid\")\n",
    "import pickle\n",
    "import warnings\n",
    "warnings.filterwarnings('ignore')\n",
    "import matplotlib.pyplot as plt\n",
    "from sklearn.metrics import f1_score\n",
    "from sklearn.svm import SVC\n",
    "from math import sqrt\n",
    "from sklearn.linear_model import LogisticRegression\n",
    "from sklearn.tree import DecisionTreeClassifier\n",
    "from sklearn.ensemble import RandomForestClassifier\n",
    "from sklearn.ensemble import AdaBoostClassifier\n",
    "from xgboost import XGBClassifier\n",
    "from sklearn.model_selection import cross_val_score\n",
    "from sklearn.model_selection import cross_validate\n",
    "from sklearn.model_selection import StratifiedKFold\n",
    "from statistics import mean\n",
    "from collections import Counter\n",
    "from imblearn.combine import SMOTEENN\n",
    "import random\n",
    "from xgboost import XGBClassifier\n",
    "from sklearn.naive_bayes import ComplementNB\n",
    "from lightgbm import LGBMClassifier\n",
    "from catboost import CatBoostClassifier\n",
    "from sklearn.metrics import f1_score\n",
    "from hyperopt import tpe, hp, fmin, STATUS_OK,Trials\n",
    "from hyperopt.pyll.base import scope\n",
    "from pandas.api.types import is_numeric_dtype\n",
    "from sklearn.ensemble import VotingClassifier\n",
    "from sklearn.model_selection import RandomizedSearchCV\n",
    "from sklearn.model_selection import train_test_split\n",
    "from sklearn.preprocessing import LabelEncoder\n",
    "from sklearn.ensemble import StackingClassifier\n",
    "import joblib\n",
    "from sklearn.model_selection import KFold\n",
    "from dask.distributed import Client\n",
    "client = Client(processes=False)"
   ]
  },
  {
   "cell_type": "code",
   "execution_count": 3,
   "metadata": {},
   "outputs": [],
   "source": [
    "import util as ut"
   ]
  },
  {
   "cell_type": "markdown",
   "metadata": {
    "id": "QbNhZfdJTJMW"
   },
   "source": [
    "# Importing Data"
   ]
  },
  {
   "cell_type": "code",
   "execution_count": 4,
   "metadata": {},
   "outputs": [],
   "source": [
    "# path = r'D:\\Projects\\HR-Analytics\\HR Analytics\\Data'\n",
    "path = input(\"Enter the data path:\")"
   ]
  },
  {
   "cell_type": "code",
   "execution_count": 5,
   "metadata": {
    "id": "g7txSUkWQyZb"
   },
   "outputs": [],
   "source": [
    "train = pd.read_csv(os.path.join(path,\"train.csv\"))"
   ]
  },
  {
   "cell_type": "code",
   "execution_count": 6,
   "metadata": {
    "colab": {
     "base_uri": "https://localhost:8080/"
    },
    "executionInfo": {
     "elapsed": 9838,
     "status": "ok",
     "timestamp": 1601535417427,
     "user": {
      "displayName": "SAHIL MANKAD",
      "photoUrl": "",
      "userId": "01524592176474520459"
     },
     "user_tz": -330
    },
    "id": "nlqyoMtNQ6oF",
    "outputId": "546d8741-f1f1-4088-8d70-aab676367dd7"
   },
   "outputs": [
    {
     "data": {
      "text/html": [
       "<div>\n",
       "<style scoped>\n",
       "    .dataframe tbody tr th:only-of-type {\n",
       "        vertical-align: middle;\n",
       "    }\n",
       "\n",
       "    .dataframe tbody tr th {\n",
       "        vertical-align: top;\n",
       "    }\n",
       "\n",
       "    .dataframe thead th {\n",
       "        text-align: right;\n",
       "    }\n",
       "</style>\n",
       "<table border=\"1\" class=\"dataframe\">\n",
       "  <thead>\n",
       "    <tr style=\"text-align: right;\">\n",
       "      <th></th>\n",
       "      <th>employee_id</th>\n",
       "      <th>department</th>\n",
       "      <th>region</th>\n",
       "      <th>education</th>\n",
       "      <th>gender</th>\n",
       "      <th>recruitment_channel</th>\n",
       "      <th>no_of_trainings</th>\n",
       "      <th>age</th>\n",
       "      <th>previous_year_rating</th>\n",
       "      <th>length_of_service</th>\n",
       "      <th>KPIs_met &gt;80%</th>\n",
       "      <th>awards_won?</th>\n",
       "      <th>avg_training_score</th>\n",
       "      <th>is_promoted</th>\n",
       "    </tr>\n",
       "  </thead>\n",
       "  <tbody>\n",
       "    <tr>\n",
       "      <th>0</th>\n",
       "      <td>65438</td>\n",
       "      <td>Sales &amp; Marketing</td>\n",
       "      <td>region_7</td>\n",
       "      <td>Master's &amp; above</td>\n",
       "      <td>f</td>\n",
       "      <td>sourcing</td>\n",
       "      <td>1</td>\n",
       "      <td>35</td>\n",
       "      <td>5.0</td>\n",
       "      <td>8</td>\n",
       "      <td>1</td>\n",
       "      <td>0</td>\n",
       "      <td>49</td>\n",
       "      <td>0</td>\n",
       "    </tr>\n",
       "    <tr>\n",
       "      <th>1</th>\n",
       "      <td>65141</td>\n",
       "      <td>Operations</td>\n",
       "      <td>region_22</td>\n",
       "      <td>Bachelor's</td>\n",
       "      <td>m</td>\n",
       "      <td>other</td>\n",
       "      <td>1</td>\n",
       "      <td>30</td>\n",
       "      <td>5.0</td>\n",
       "      <td>4</td>\n",
       "      <td>0</td>\n",
       "      <td>0</td>\n",
       "      <td>60</td>\n",
       "      <td>0</td>\n",
       "    </tr>\n",
       "    <tr>\n",
       "      <th>2</th>\n",
       "      <td>7513</td>\n",
       "      <td>Sales &amp; Marketing</td>\n",
       "      <td>region_19</td>\n",
       "      <td>Bachelor's</td>\n",
       "      <td>m</td>\n",
       "      <td>sourcing</td>\n",
       "      <td>1</td>\n",
       "      <td>34</td>\n",
       "      <td>3.0</td>\n",
       "      <td>7</td>\n",
       "      <td>0</td>\n",
       "      <td>0</td>\n",
       "      <td>50</td>\n",
       "      <td>0</td>\n",
       "    </tr>\n",
       "    <tr>\n",
       "      <th>3</th>\n",
       "      <td>2542</td>\n",
       "      <td>Sales &amp; Marketing</td>\n",
       "      <td>region_23</td>\n",
       "      <td>Bachelor's</td>\n",
       "      <td>m</td>\n",
       "      <td>other</td>\n",
       "      <td>2</td>\n",
       "      <td>39</td>\n",
       "      <td>1.0</td>\n",
       "      <td>10</td>\n",
       "      <td>0</td>\n",
       "      <td>0</td>\n",
       "      <td>50</td>\n",
       "      <td>0</td>\n",
       "    </tr>\n",
       "    <tr>\n",
       "      <th>4</th>\n",
       "      <td>48945</td>\n",
       "      <td>Technology</td>\n",
       "      <td>region_26</td>\n",
       "      <td>Bachelor's</td>\n",
       "      <td>m</td>\n",
       "      <td>other</td>\n",
       "      <td>1</td>\n",
       "      <td>45</td>\n",
       "      <td>3.0</td>\n",
       "      <td>2</td>\n",
       "      <td>0</td>\n",
       "      <td>0</td>\n",
       "      <td>73</td>\n",
       "      <td>0</td>\n",
       "    </tr>\n",
       "  </tbody>\n",
       "</table>\n",
       "</div>"
      ],
      "text/plain": [
       "   employee_id         department     region         education gender  \\\n",
       "0        65438  Sales & Marketing   region_7  Master's & above      f   \n",
       "1        65141         Operations  region_22        Bachelor's      m   \n",
       "2         7513  Sales & Marketing  region_19        Bachelor's      m   \n",
       "3         2542  Sales & Marketing  region_23        Bachelor's      m   \n",
       "4        48945         Technology  region_26        Bachelor's      m   \n",
       "\n",
       "  recruitment_channel  no_of_trainings  age  previous_year_rating  \\\n",
       "0            sourcing                1   35                   5.0   \n",
       "1               other                1   30                   5.0   \n",
       "2            sourcing                1   34                   3.0   \n",
       "3               other                2   39                   1.0   \n",
       "4               other                1   45                   3.0   \n",
       "\n",
       "   length_of_service  KPIs_met >80%  awards_won?  avg_training_score  \\\n",
       "0                  8              1            0                  49   \n",
       "1                  4              0            0                  60   \n",
       "2                  7              0            0                  50   \n",
       "3                 10              0            0                  50   \n",
       "4                  2              0            0                  73   \n",
       "\n",
       "   is_promoted  \n",
       "0            0  \n",
       "1            0  \n",
       "2            0  \n",
       "3            0  \n",
       "4            0  "
      ]
     },
     "execution_count": 6,
     "metadata": {},
     "output_type": "execute_result"
    }
   ],
   "source": [
    "train.head()"
   ]
  },
  {
   "cell_type": "code",
   "execution_count": 7,
   "metadata": {
    "colab": {
     "base_uri": "https://localhost:8080/"
    },
    "executionInfo": {
     "elapsed": 9823,
     "status": "ok",
     "timestamp": 1601535417428,
     "user": {
      "displayName": "SAHIL MANKAD",
      "photoUrl": "",
      "userId": "01524592176474520459"
     },
     "user_tz": -330
    },
    "id": "bli96_G9RJFK",
    "outputId": "66796984-c929-407c-fe54-3eb5c202f689"
   },
   "outputs": [
    {
     "data": {
      "text/plain": [
       "(54808, 14)"
      ]
     },
     "execution_count": 7,
     "metadata": {},
     "output_type": "execute_result"
    }
   ],
   "source": [
    "train.shape"
   ]
  },
  {
   "cell_type": "markdown",
   "metadata": {
    "id": "uKQkngiZNhj4"
   },
   "source": [
    "# Checking for missing values\n"
   ]
  },
  {
   "cell_type": "code",
   "execution_count": 8,
   "metadata": {
    "colab": {
     "base_uri": "https://localhost:8080/"
    },
    "executionInfo": {
     "elapsed": 9798,
     "status": "ok",
     "timestamp": 1601535417428,
     "user": {
      "displayName": "SAHIL MANKAD",
      "photoUrl": "",
      "userId": "01524592176474520459"
     },
     "user_tz": -330
    },
    "id": "kI5Yn3kdRR0J",
    "outputId": "36cb6f3f-34cd-4e4e-83b4-040bf735174e"
   },
   "outputs": [
    {
     "data": {
      "text/plain": [
       "employee_id                0\n",
       "department                 0\n",
       "region                     0\n",
       "education               2409\n",
       "gender                     0\n",
       "recruitment_channel        0\n",
       "no_of_trainings            0\n",
       "age                        0\n",
       "previous_year_rating    4124\n",
       "length_of_service          0\n",
       "KPIs_met >80%              0\n",
       "awards_won?                0\n",
       "avg_training_score         0\n",
       "is_promoted                0\n",
       "dtype: int64"
      ]
     },
     "execution_count": 8,
     "metadata": {},
     "output_type": "execute_result"
    }
   ],
   "source": [
    "train.isnull().sum()"
   ]
  },
  {
   "cell_type": "code",
   "execution_count": 9,
   "metadata": {
    "colab": {
     "base_uri": "https://localhost:8080/"
    },
    "executionInfo": {
     "elapsed": 9777,
     "status": "ok",
     "timestamp": 1601535417429,
     "user": {
      "displayName": "SAHIL MANKAD",
      "photoUrl": "",
      "userId": "01524592176474520459"
     },
     "user_tz": -330
    },
    "id": "yDYenusPPstX",
    "outputId": "6623df61-c3aa-4732-a8aa-69df54e296c4"
   },
   "outputs": [
    {
     "data": {
      "text/plain": [
       "employee_id             0.000000\n",
       "department              0.000000\n",
       "region                  0.000000\n",
       "education               4.395344\n",
       "gender                  0.000000\n",
       "recruitment_channel     0.000000\n",
       "no_of_trainings         0.000000\n",
       "age                     0.000000\n",
       "previous_year_rating    7.524449\n",
       "length_of_service       0.000000\n",
       "KPIs_met >80%           0.000000\n",
       "awards_won?             0.000000\n",
       "avg_training_score      0.000000\n",
       "is_promoted             0.000000\n",
       "dtype: float64"
      ]
     },
     "execution_count": 9,
     "metadata": {},
     "output_type": "execute_result"
    }
   ],
   "source": [
    "train.isnull().sum()/train.shape[0] * 100"
   ]
  },
  {
   "cell_type": "markdown",
   "metadata": {
    "id": "mtuFgxJ3QY-0"
   },
   "source": [
    "Only 7.5% of values are missing for previous_year_rating and 4.4% for education. Which means we will have to impute these values, rather than deleting the columns. Let us fill these values with 0.0 for previous year ratings and 'other' for education"
   ]
  },
  {
   "cell_type": "code",
   "execution_count": 10,
   "metadata": {
    "id": "pQHMWiplZyiq"
   },
   "outputs": [],
   "source": [
    "train['education'].fillna('null',inplace=True)\n",
    "train['previous_year_rating'].fillna(0.0,inplace=True) "
   ]
  },
  {
   "cell_type": "code",
   "execution_count": 11,
   "metadata": {
    "colab": {
     "base_uri": "https://localhost:8080/"
    },
    "executionInfo": {
     "elapsed": 9762,
     "status": "ok",
     "timestamp": 1601535417430,
     "user": {
      "displayName": "SAHIL MANKAD",
      "photoUrl": "",
      "userId": "01524592176474520459"
     },
     "user_tz": -330
    },
    "id": "YU2rkU2UaRFc",
    "outputId": "b0f87f34-1d9f-4ab2-adf6-e8c5f1da565e"
   },
   "outputs": [
    {
     "data": {
      "text/plain": [
       "employee_id             0\n",
       "department              0\n",
       "region                  0\n",
       "education               0\n",
       "gender                  0\n",
       "recruitment_channel     0\n",
       "no_of_trainings         0\n",
       "age                     0\n",
       "previous_year_rating    0\n",
       "length_of_service       0\n",
       "KPIs_met >80%           0\n",
       "awards_won?             0\n",
       "avg_training_score      0\n",
       "is_promoted             0\n",
       "dtype: int64"
      ]
     },
     "execution_count": 11,
     "metadata": {},
     "output_type": "execute_result"
    }
   ],
   "source": [
    "train.isnull().sum()"
   ]
  },
  {
   "cell_type": "code",
   "execution_count": 12,
   "metadata": {
    "colab": {
     "base_uri": "https://localhost:8080/"
    },
    "executionInfo": {
     "elapsed": 9750,
     "status": "ok",
     "timestamp": 1601535417430,
     "user": {
      "displayName": "SAHIL MANKAD",
      "photoUrl": "",
      "userId": "01524592176474520459"
     },
     "user_tz": -330
    },
    "id": "M6A2m3zXaUaJ",
    "outputId": "b68abfdc-c5d3-441a-819f-2752fad0a01f"
   },
   "outputs": [
    {
     "name": "stdout",
     "output_type": "stream",
     "text": [
      "education\n",
      "Bachelor's          36669\n",
      "Master's & above    14925\n",
      "null                 2409\n",
      "Below Secondary       805\n",
      "Name: count, dtype: int64\n",
      "previous_year_rating\n",
      "3.0    18618\n",
      "5.0    11741\n",
      "4.0     9877\n",
      "1.0     6223\n",
      "2.0     4225\n",
      "0.0     4124\n",
      "Name: count, dtype: int64\n"
     ]
    }
   ],
   "source": [
    "print(train['education'].value_counts())\n",
    "print(train['previous_year_rating'].value_counts())"
   ]
  },
  {
   "cell_type": "markdown",
   "metadata": {
    "id": "IOVvitFta9G_"
   },
   "source": [
    "# Feature Engineering"
   ]
  },
  {
   "cell_type": "code",
   "execution_count": 13,
   "metadata": {
    "colab": {
     "base_uri": "https://localhost:8080/"
    },
    "executionInfo": {
     "elapsed": 9740,
     "status": "ok",
     "timestamp": 1601535417431,
     "user": {
      "displayName": "SAHIL MANKAD",
      "photoUrl": "",
      "userId": "01524592176474520459"
     },
     "user_tz": -330
    },
    "id": "TVxJDu6MX6f6",
    "outputId": "6df24dd5-a2c5-4834-f427-6a6798152f30"
   },
   "outputs": [
    {
     "data": {
      "text/plain": [
       "employee_id               int64\n",
       "department               object\n",
       "region                   object\n",
       "education                object\n",
       "gender                   object\n",
       "recruitment_channel      object\n",
       "no_of_trainings           int64\n",
       "age                       int64\n",
       "previous_year_rating    float64\n",
       "length_of_service         int64\n",
       "KPIs_met >80%             int64\n",
       "awards_won?               int64\n",
       "avg_training_score        int64\n",
       "is_promoted               int64\n",
       "dtype: object"
      ]
     },
     "execution_count": 13,
     "metadata": {},
     "output_type": "execute_result"
    }
   ],
   "source": [
    "train.dtypes"
   ]
  },
  {
   "cell_type": "code",
   "execution_count": 14,
   "metadata": {
    "colab": {
     "base_uri": "https://localhost:8080/"
    },
    "executionInfo": {
     "elapsed": 9728,
     "status": "ok",
     "timestamp": 1601535417431,
     "user": {
      "displayName": "SAHIL MANKAD",
      "photoUrl": "",
      "userId": "01524592176474520459"
     },
     "user_tz": -330
    },
    "id": "TgbU406vMgCU",
    "outputId": "0b18101e-1118-41ad-857f-7ebb71dad02f"
   },
   "outputs": [
    {
     "data": {
      "text/html": [
       "<div>\n",
       "<style scoped>\n",
       "    .dataframe tbody tr th:only-of-type {\n",
       "        vertical-align: middle;\n",
       "    }\n",
       "\n",
       "    .dataframe tbody tr th {\n",
       "        vertical-align: top;\n",
       "    }\n",
       "\n",
       "    .dataframe thead th {\n",
       "        text-align: right;\n",
       "    }\n",
       "</style>\n",
       "<table border=\"1\" class=\"dataframe\">\n",
       "  <thead>\n",
       "    <tr style=\"text-align: right;\">\n",
       "      <th></th>\n",
       "      <th>employee_id</th>\n",
       "      <th>department</th>\n",
       "      <th>region</th>\n",
       "      <th>education</th>\n",
       "      <th>gender</th>\n",
       "      <th>recruitment_channel</th>\n",
       "      <th>no_of_trainings</th>\n",
       "      <th>age</th>\n",
       "      <th>previous_year_rating</th>\n",
       "      <th>length_of_service</th>\n",
       "      <th>KPIs_met &gt;80%</th>\n",
       "      <th>awards_won?</th>\n",
       "      <th>avg_training_score</th>\n",
       "      <th>is_promoted</th>\n",
       "    </tr>\n",
       "  </thead>\n",
       "  <tbody>\n",
       "    <tr>\n",
       "      <th>0</th>\n",
       "      <td>65438</td>\n",
       "      <td>Sales &amp; Marketing</td>\n",
       "      <td>region_7</td>\n",
       "      <td>Master's &amp; above</td>\n",
       "      <td>f</td>\n",
       "      <td>sourcing</td>\n",
       "      <td>1</td>\n",
       "      <td>35</td>\n",
       "      <td>5.0</td>\n",
       "      <td>8</td>\n",
       "      <td>1</td>\n",
       "      <td>0</td>\n",
       "      <td>49</td>\n",
       "      <td>0</td>\n",
       "    </tr>\n",
       "    <tr>\n",
       "      <th>1</th>\n",
       "      <td>65141</td>\n",
       "      <td>Operations</td>\n",
       "      <td>region_22</td>\n",
       "      <td>Bachelor's</td>\n",
       "      <td>m</td>\n",
       "      <td>other</td>\n",
       "      <td>1</td>\n",
       "      <td>30</td>\n",
       "      <td>5.0</td>\n",
       "      <td>4</td>\n",
       "      <td>0</td>\n",
       "      <td>0</td>\n",
       "      <td>60</td>\n",
       "      <td>0</td>\n",
       "    </tr>\n",
       "    <tr>\n",
       "      <th>2</th>\n",
       "      <td>7513</td>\n",
       "      <td>Sales &amp; Marketing</td>\n",
       "      <td>region_19</td>\n",
       "      <td>Bachelor's</td>\n",
       "      <td>m</td>\n",
       "      <td>sourcing</td>\n",
       "      <td>1</td>\n",
       "      <td>34</td>\n",
       "      <td>3.0</td>\n",
       "      <td>7</td>\n",
       "      <td>0</td>\n",
       "      <td>0</td>\n",
       "      <td>50</td>\n",
       "      <td>0</td>\n",
       "    </tr>\n",
       "    <tr>\n",
       "      <th>3</th>\n",
       "      <td>2542</td>\n",
       "      <td>Sales &amp; Marketing</td>\n",
       "      <td>region_23</td>\n",
       "      <td>Bachelor's</td>\n",
       "      <td>m</td>\n",
       "      <td>other</td>\n",
       "      <td>2</td>\n",
       "      <td>39</td>\n",
       "      <td>1.0</td>\n",
       "      <td>10</td>\n",
       "      <td>0</td>\n",
       "      <td>0</td>\n",
       "      <td>50</td>\n",
       "      <td>0</td>\n",
       "    </tr>\n",
       "    <tr>\n",
       "      <th>4</th>\n",
       "      <td>48945</td>\n",
       "      <td>Technology</td>\n",
       "      <td>region_26</td>\n",
       "      <td>Bachelor's</td>\n",
       "      <td>m</td>\n",
       "      <td>other</td>\n",
       "      <td>1</td>\n",
       "      <td>45</td>\n",
       "      <td>3.0</td>\n",
       "      <td>2</td>\n",
       "      <td>0</td>\n",
       "      <td>0</td>\n",
       "      <td>73</td>\n",
       "      <td>0</td>\n",
       "    </tr>\n",
       "  </tbody>\n",
       "</table>\n",
       "</div>"
      ],
      "text/plain": [
       "   employee_id         department     region         education gender  \\\n",
       "0        65438  Sales & Marketing   region_7  Master's & above      f   \n",
       "1        65141         Operations  region_22        Bachelor's      m   \n",
       "2         7513  Sales & Marketing  region_19        Bachelor's      m   \n",
       "3         2542  Sales & Marketing  region_23        Bachelor's      m   \n",
       "4        48945         Technology  region_26        Bachelor's      m   \n",
       "\n",
       "  recruitment_channel  no_of_trainings  age  previous_year_rating  \\\n",
       "0            sourcing                1   35                   5.0   \n",
       "1               other                1   30                   5.0   \n",
       "2            sourcing                1   34                   3.0   \n",
       "3               other                2   39                   1.0   \n",
       "4               other                1   45                   3.0   \n",
       "\n",
       "   length_of_service  KPIs_met >80%  awards_won?  avg_training_score  \\\n",
       "0                  8              1            0                  49   \n",
       "1                  4              0            0                  60   \n",
       "2                  7              0            0                  50   \n",
       "3                 10              0            0                  50   \n",
       "4                  2              0            0                  73   \n",
       "\n",
       "   is_promoted  \n",
       "0            0  \n",
       "1            0  \n",
       "2            0  \n",
       "3            0  \n",
       "4            0  "
      ]
     },
     "execution_count": 14,
     "metadata": {},
     "output_type": "execute_result"
    }
   ],
   "source": [
    "train.head()"
   ]
  },
  {
   "cell_type": "markdown",
   "metadata": {
    "id": "p6IlNzQzbIQr"
   },
   "source": [
    "A few insights from EDA and observation:\n",
    "\n",
    "1. KPIs_met >80%, awards_won? and is_promoted have only 2 unique values, these can be converted into categorical variables.\n",
    "\n",
    "2. employee_id is an id, which won't provide us with insights\n",
    "\n",
    "3. no_of_trainings: Maximum number of employees have completed only 1 training. This can be converted into a categorical variable,is_multiple_training_completed.\n",
    "\n",
    "4. There are multiple sparse values for region, which we can merge.\n",
    "\n",
    "We can uncover greater insights, from further analysis\n",
    "\n",
    "We can also store the total count of employees having same region,gender,recruitment_channel and department, for each employee to see how those factors matter for promotion."
   ]
  },
  {
   "cell_type": "code",
   "execution_count": 15,
   "metadata": {
    "colab": {
     "base_uri": "https://localhost:8080/"
    },
    "executionInfo": {
     "elapsed": 10337,
     "status": "ok",
     "timestamp": 1601535418059,
     "user": {
      "displayName": "SAHIL MANKAD",
      "photoUrl": "",
      "userId": "01524592176474520459"
     },
     "user_tz": -330
    },
    "id": "QXqSS3F1QTN7",
    "outputId": "fee0e71b-c7f1-458c-afac-3fc3a5bd8fe2"
   },
   "outputs": [],
   "source": [
    "columns = ['gender','region','department','recruitment_channel']\n",
    "\n",
    "for column in columns:\n",
    "  d = {}\n",
    "  for value in train[column].unique():\n",
    "    d[value] = train.loc[train[column] == value][column].shape[0]\n",
    "\n",
    "  train[column+'_count'] = train[column].apply(lambda x:d[x])\n",
    "  # print(train[column+'_count'].head())\n",
    "  # print(train[column+'_count'].value_counts())"
   ]
  },
  {
   "cell_type": "code",
   "execution_count": 16,
   "metadata": {},
   "outputs": [
    {
     "data": {
      "text/html": [
       "<div>\n",
       "<style scoped>\n",
       "    .dataframe tbody tr th:only-of-type {\n",
       "        vertical-align: middle;\n",
       "    }\n",
       "\n",
       "    .dataframe tbody tr th {\n",
       "        vertical-align: top;\n",
       "    }\n",
       "\n",
       "    .dataframe thead th {\n",
       "        text-align: right;\n",
       "    }\n",
       "</style>\n",
       "<table border=\"1\" class=\"dataframe\">\n",
       "  <thead>\n",
       "    <tr style=\"text-align: right;\">\n",
       "      <th></th>\n",
       "      <th>employee_id</th>\n",
       "      <th>department</th>\n",
       "      <th>region</th>\n",
       "      <th>education</th>\n",
       "      <th>gender</th>\n",
       "      <th>recruitment_channel</th>\n",
       "      <th>no_of_trainings</th>\n",
       "      <th>age</th>\n",
       "      <th>previous_year_rating</th>\n",
       "      <th>length_of_service</th>\n",
       "      <th>KPIs_met &gt;80%</th>\n",
       "      <th>awards_won?</th>\n",
       "      <th>avg_training_score</th>\n",
       "      <th>is_promoted</th>\n",
       "      <th>gender_count</th>\n",
       "      <th>region_count</th>\n",
       "      <th>department_count</th>\n",
       "      <th>recruitment_channel_count</th>\n",
       "    </tr>\n",
       "  </thead>\n",
       "  <tbody>\n",
       "    <tr>\n",
       "      <th>0</th>\n",
       "      <td>65438</td>\n",
       "      <td>Sales &amp; Marketing</td>\n",
       "      <td>region_7</td>\n",
       "      <td>Master's &amp; above</td>\n",
       "      <td>f</td>\n",
       "      <td>sourcing</td>\n",
       "      <td>1</td>\n",
       "      <td>35</td>\n",
       "      <td>5.0</td>\n",
       "      <td>8</td>\n",
       "      <td>1</td>\n",
       "      <td>0</td>\n",
       "      <td>49</td>\n",
       "      <td>0</td>\n",
       "      <td>16312</td>\n",
       "      <td>4843</td>\n",
       "      <td>16840</td>\n",
       "      <td>23220</td>\n",
       "    </tr>\n",
       "    <tr>\n",
       "      <th>1</th>\n",
       "      <td>65141</td>\n",
       "      <td>Operations</td>\n",
       "      <td>region_22</td>\n",
       "      <td>Bachelor's</td>\n",
       "      <td>m</td>\n",
       "      <td>other</td>\n",
       "      <td>1</td>\n",
       "      <td>30</td>\n",
       "      <td>5.0</td>\n",
       "      <td>4</td>\n",
       "      <td>0</td>\n",
       "      <td>0</td>\n",
       "      <td>60</td>\n",
       "      <td>0</td>\n",
       "      <td>38496</td>\n",
       "      <td>6428</td>\n",
       "      <td>11348</td>\n",
       "      <td>30446</td>\n",
       "    </tr>\n",
       "    <tr>\n",
       "      <th>2</th>\n",
       "      <td>7513</td>\n",
       "      <td>Sales &amp; Marketing</td>\n",
       "      <td>region_19</td>\n",
       "      <td>Bachelor's</td>\n",
       "      <td>m</td>\n",
       "      <td>sourcing</td>\n",
       "      <td>1</td>\n",
       "      <td>34</td>\n",
       "      <td>3.0</td>\n",
       "      <td>7</td>\n",
       "      <td>0</td>\n",
       "      <td>0</td>\n",
       "      <td>50</td>\n",
       "      <td>0</td>\n",
       "      <td>38496</td>\n",
       "      <td>874</td>\n",
       "      <td>16840</td>\n",
       "      <td>23220</td>\n",
       "    </tr>\n",
       "    <tr>\n",
       "      <th>3</th>\n",
       "      <td>2542</td>\n",
       "      <td>Sales &amp; Marketing</td>\n",
       "      <td>region_23</td>\n",
       "      <td>Bachelor's</td>\n",
       "      <td>m</td>\n",
       "      <td>other</td>\n",
       "      <td>2</td>\n",
       "      <td>39</td>\n",
       "      <td>1.0</td>\n",
       "      <td>10</td>\n",
       "      <td>0</td>\n",
       "      <td>0</td>\n",
       "      <td>50</td>\n",
       "      <td>0</td>\n",
       "      <td>38496</td>\n",
       "      <td>1175</td>\n",
       "      <td>16840</td>\n",
       "      <td>30446</td>\n",
       "    </tr>\n",
       "    <tr>\n",
       "      <th>4</th>\n",
       "      <td>48945</td>\n",
       "      <td>Technology</td>\n",
       "      <td>region_26</td>\n",
       "      <td>Bachelor's</td>\n",
       "      <td>m</td>\n",
       "      <td>other</td>\n",
       "      <td>1</td>\n",
       "      <td>45</td>\n",
       "      <td>3.0</td>\n",
       "      <td>2</td>\n",
       "      <td>0</td>\n",
       "      <td>0</td>\n",
       "      <td>73</td>\n",
       "      <td>0</td>\n",
       "      <td>38496</td>\n",
       "      <td>2260</td>\n",
       "      <td>7138</td>\n",
       "      <td>30446</td>\n",
       "    </tr>\n",
       "  </tbody>\n",
       "</table>\n",
       "</div>"
      ],
      "text/plain": [
       "   employee_id         department     region         education gender  \\\n",
       "0        65438  Sales & Marketing   region_7  Master's & above      f   \n",
       "1        65141         Operations  region_22        Bachelor's      m   \n",
       "2         7513  Sales & Marketing  region_19        Bachelor's      m   \n",
       "3         2542  Sales & Marketing  region_23        Bachelor's      m   \n",
       "4        48945         Technology  region_26        Bachelor's      m   \n",
       "\n",
       "  recruitment_channel  no_of_trainings  age  previous_year_rating  \\\n",
       "0            sourcing                1   35                   5.0   \n",
       "1               other                1   30                   5.0   \n",
       "2            sourcing                1   34                   3.0   \n",
       "3               other                2   39                   1.0   \n",
       "4               other                1   45                   3.0   \n",
       "\n",
       "   length_of_service  KPIs_met >80%  awards_won?  avg_training_score  \\\n",
       "0                  8              1            0                  49   \n",
       "1                  4              0            0                  60   \n",
       "2                  7              0            0                  50   \n",
       "3                 10              0            0                  50   \n",
       "4                  2              0            0                  73   \n",
       "\n",
       "   is_promoted  gender_count  region_count  department_count  \\\n",
       "0            0         16312          4843             16840   \n",
       "1            0         38496          6428             11348   \n",
       "2            0         38496           874             16840   \n",
       "3            0         38496          1175             16840   \n",
       "4            0         38496          2260              7138   \n",
       "\n",
       "   recruitment_channel_count  \n",
       "0                      23220  \n",
       "1                      30446  \n",
       "2                      23220  \n",
       "3                      30446  \n",
       "4                      30446  "
      ]
     },
     "execution_count": 16,
     "metadata": {},
     "output_type": "execute_result"
    }
   ],
   "source": [
    "train.head()"
   ]
  },
  {
   "cell_type": "code",
   "execution_count": 18,
   "metadata": {
    "id": "SF2_mkapgI1F"
   },
   "outputs": [],
   "source": [
    "train['KPIs_met >80%'] = ut.convert_to_categorical(train,'KPIs_met >80%')\n",
    "train['awards_won?'] = ut.convert_to_categorical(train,'awards_won?')\n",
    "train['is_promoted'] = ut.convert_to_categorical(train,'is_promoted')"
   ]
  },
  {
   "cell_type": "code",
   "execution_count": 20,
   "metadata": {
    "colab": {
     "base_uri": "https://localhost:8080/"
    },
    "executionInfo": {
     "elapsed": 10889,
     "status": "ok",
     "timestamp": 1601535418639,
     "user": {
      "displayName": "SAHIL MANKAD",
      "photoUrl": "",
      "userId": "01524592176474520459"
     },
     "user_tz": -330
    },
    "id": "TLfgtjvwpXp7",
    "outputId": "55184a13-5daf-4305-8aae-04661003f60b"
   },
   "outputs": [
    {
     "name": "stdout",
     "output_type": "stream",
     "text": [
      "is_multiple_training_completed\n",
      "0    44378\n",
      "1    10430\n",
      "Name: count, dtype: int64\n"
     ]
    }
   ],
   "source": [
    "train = ut.cont_to_cat(train,'is_multiple_training_completed','no_of_trainings')"
   ]
  },
  {
   "cell_type": "markdown",
   "metadata": {
    "id": "0kAwhdvM44Qg"
   },
   "source": [
    "From eda done earlier, we can infer that age and lenght of service don't provide much information, but they can be binned in order to do so. "
   ]
  },
  {
   "cell_type": "code",
   "execution_count": 21,
   "metadata": {
    "id": "-aQmbGHS4jbz"
   },
   "outputs": [],
   "source": [
    "bins = [-1,2,5,7,10,train['length_of_service'].max()]\n",
    "labels = ['0-2','3-5','5-7','8-10','more_than_10']\n",
    "train['length_of_service_binned'] = pd.cut(train['length_of_service'], bins,labels=labels)\n",
    "\n",
    "\n",
    "bins = [-1, 29, 39, 49,train['age'].max()]\n",
    "labels = ['less_than_30','30-39','40-49','more_equal_to_50']\n",
    "train['age_binned'] = pd.cut(train['age'], bins,labels=labels)"
   ]
  },
  {
   "cell_type": "code",
   "execution_count": 22,
   "metadata": {
    "id": "jXPtkCj_io7z"
   },
   "outputs": [],
   "source": [
    "train.drop(['employee_id'],axis=1,inplace=True)"
   ]
  },
  {
   "cell_type": "code",
   "execution_count": 23,
   "metadata": {
    "colab": {
     "base_uri": "https://localhost:8080/"
    },
    "executionInfo": {
     "elapsed": 10862,
     "status": "ok",
     "timestamp": 1601535418643,
     "user": {
      "displayName": "SAHIL MANKAD",
      "photoUrl": "",
      "userId": "01524592176474520459"
     },
     "user_tz": -330
    },
    "id": "_8XUtwhXkcU3",
    "outputId": "50b65afd-9e61-4c21-cf3d-2cc79c10435a"
   },
   "outputs": [
    {
     "data": {
      "text/plain": [
       "(54808, 20)"
      ]
     },
     "execution_count": 23,
     "metadata": {},
     "output_type": "execute_result"
    }
   ],
   "source": [
    "train.shape"
   ]
  },
  {
   "cell_type": "code",
   "execution_count": 24,
   "metadata": {
    "colab": {
     "base_uri": "https://localhost:8080/"
    },
    "executionInfo": {
     "elapsed": 10848,
     "status": "ok",
     "timestamp": 1601535418644,
     "user": {
      "displayName": "SAHIL MANKAD",
      "photoUrl": "",
      "userId": "01524592176474520459"
     },
     "user_tz": -330
    },
    "id": "QSNHkdaylFzA",
    "outputId": "5814027c-4efc-45bb-9524-dc4490812bb0"
   },
   "outputs": [
    {
     "data": {
      "text/plain": [
       "department                          object\n",
       "region                              object\n",
       "education                           object\n",
       "gender                              object\n",
       "recruitment_channel                 object\n",
       "no_of_trainings                      int64\n",
       "age                                  int64\n",
       "previous_year_rating               float64\n",
       "length_of_service                    int64\n",
       "KPIs_met >80%                       object\n",
       "awards_won?                         object\n",
       "avg_training_score                   int64\n",
       "is_promoted                         object\n",
       "gender_count                         int64\n",
       "region_count                         int64\n",
       "department_count                     int64\n",
       "recruitment_channel_count            int64\n",
       "is_multiple_training_completed      object\n",
       "length_of_service_binned          category\n",
       "age_binned                        category\n",
       "dtype: object"
      ]
     },
     "execution_count": 24,
     "metadata": {},
     "output_type": "execute_result"
    }
   ],
   "source": [
    "train.dtypes"
   ]
  },
  {
   "cell_type": "code",
   "execution_count": 25,
   "metadata": {
    "colab": {
     "base_uri": "https://localhost:8080/"
    },
    "executionInfo": {
     "elapsed": 10832,
     "status": "ok",
     "timestamp": 1601535418646,
     "user": {
      "displayName": "SAHIL MANKAD",
      "photoUrl": "",
      "userId": "01524592176474520459"
     },
     "user_tz": -330
    },
    "id": "YgVVWABulQz-",
    "outputId": "7a4d6c3e-d404-46c6-e541-2fb2640f52c3"
   },
   "outputs": [
    {
     "data": {
      "text/html": [
       "<div>\n",
       "<style scoped>\n",
       "    .dataframe tbody tr th:only-of-type {\n",
       "        vertical-align: middle;\n",
       "    }\n",
       "\n",
       "    .dataframe tbody tr th {\n",
       "        vertical-align: top;\n",
       "    }\n",
       "\n",
       "    .dataframe thead th {\n",
       "        text-align: right;\n",
       "    }\n",
       "</style>\n",
       "<table border=\"1\" class=\"dataframe\">\n",
       "  <thead>\n",
       "    <tr style=\"text-align: right;\">\n",
       "      <th></th>\n",
       "      <th>department</th>\n",
       "      <th>region</th>\n",
       "      <th>education</th>\n",
       "      <th>gender</th>\n",
       "      <th>recruitment_channel</th>\n",
       "      <th>no_of_trainings</th>\n",
       "      <th>age</th>\n",
       "      <th>previous_year_rating</th>\n",
       "      <th>length_of_service</th>\n",
       "      <th>KPIs_met &gt;80%</th>\n",
       "      <th>awards_won?</th>\n",
       "      <th>avg_training_score</th>\n",
       "      <th>is_promoted</th>\n",
       "      <th>gender_count</th>\n",
       "      <th>region_count</th>\n",
       "      <th>department_count</th>\n",
       "      <th>recruitment_channel_count</th>\n",
       "      <th>is_multiple_training_completed</th>\n",
       "      <th>length_of_service_binned</th>\n",
       "      <th>age_binned</th>\n",
       "    </tr>\n",
       "  </thead>\n",
       "  <tbody>\n",
       "    <tr>\n",
       "      <th>0</th>\n",
       "      <td>Sales &amp; Marketing</td>\n",
       "      <td>region_7</td>\n",
       "      <td>Master's &amp; above</td>\n",
       "      <td>f</td>\n",
       "      <td>sourcing</td>\n",
       "      <td>1</td>\n",
       "      <td>35</td>\n",
       "      <td>5.0</td>\n",
       "      <td>8</td>\n",
       "      <td>1</td>\n",
       "      <td>0</td>\n",
       "      <td>49</td>\n",
       "      <td>0</td>\n",
       "      <td>16312</td>\n",
       "      <td>4843</td>\n",
       "      <td>16840</td>\n",
       "      <td>23220</td>\n",
       "      <td>0</td>\n",
       "      <td>8-10</td>\n",
       "      <td>30-39</td>\n",
       "    </tr>\n",
       "    <tr>\n",
       "      <th>1</th>\n",
       "      <td>Operations</td>\n",
       "      <td>region_22</td>\n",
       "      <td>Bachelor's</td>\n",
       "      <td>m</td>\n",
       "      <td>other</td>\n",
       "      <td>1</td>\n",
       "      <td>30</td>\n",
       "      <td>5.0</td>\n",
       "      <td>4</td>\n",
       "      <td>0</td>\n",
       "      <td>0</td>\n",
       "      <td>60</td>\n",
       "      <td>0</td>\n",
       "      <td>38496</td>\n",
       "      <td>6428</td>\n",
       "      <td>11348</td>\n",
       "      <td>30446</td>\n",
       "      <td>0</td>\n",
       "      <td>3-5</td>\n",
       "      <td>30-39</td>\n",
       "    </tr>\n",
       "    <tr>\n",
       "      <th>2</th>\n",
       "      <td>Sales &amp; Marketing</td>\n",
       "      <td>region_19</td>\n",
       "      <td>Bachelor's</td>\n",
       "      <td>m</td>\n",
       "      <td>sourcing</td>\n",
       "      <td>1</td>\n",
       "      <td>34</td>\n",
       "      <td>3.0</td>\n",
       "      <td>7</td>\n",
       "      <td>0</td>\n",
       "      <td>0</td>\n",
       "      <td>50</td>\n",
       "      <td>0</td>\n",
       "      <td>38496</td>\n",
       "      <td>874</td>\n",
       "      <td>16840</td>\n",
       "      <td>23220</td>\n",
       "      <td>0</td>\n",
       "      <td>5-7</td>\n",
       "      <td>30-39</td>\n",
       "    </tr>\n",
       "    <tr>\n",
       "      <th>3</th>\n",
       "      <td>Sales &amp; Marketing</td>\n",
       "      <td>region_23</td>\n",
       "      <td>Bachelor's</td>\n",
       "      <td>m</td>\n",
       "      <td>other</td>\n",
       "      <td>2</td>\n",
       "      <td>39</td>\n",
       "      <td>1.0</td>\n",
       "      <td>10</td>\n",
       "      <td>0</td>\n",
       "      <td>0</td>\n",
       "      <td>50</td>\n",
       "      <td>0</td>\n",
       "      <td>38496</td>\n",
       "      <td>1175</td>\n",
       "      <td>16840</td>\n",
       "      <td>30446</td>\n",
       "      <td>1</td>\n",
       "      <td>8-10</td>\n",
       "      <td>30-39</td>\n",
       "    </tr>\n",
       "    <tr>\n",
       "      <th>4</th>\n",
       "      <td>Technology</td>\n",
       "      <td>region_26</td>\n",
       "      <td>Bachelor's</td>\n",
       "      <td>m</td>\n",
       "      <td>other</td>\n",
       "      <td>1</td>\n",
       "      <td>45</td>\n",
       "      <td>3.0</td>\n",
       "      <td>2</td>\n",
       "      <td>0</td>\n",
       "      <td>0</td>\n",
       "      <td>73</td>\n",
       "      <td>0</td>\n",
       "      <td>38496</td>\n",
       "      <td>2260</td>\n",
       "      <td>7138</td>\n",
       "      <td>30446</td>\n",
       "      <td>0</td>\n",
       "      <td>0-2</td>\n",
       "      <td>40-49</td>\n",
       "    </tr>\n",
       "  </tbody>\n",
       "</table>\n",
       "</div>"
      ],
      "text/plain": [
       "          department     region         education gender recruitment_channel  \\\n",
       "0  Sales & Marketing   region_7  Master's & above      f            sourcing   \n",
       "1         Operations  region_22        Bachelor's      m               other   \n",
       "2  Sales & Marketing  region_19        Bachelor's      m            sourcing   \n",
       "3  Sales & Marketing  region_23        Bachelor's      m               other   \n",
       "4         Technology  region_26        Bachelor's      m               other   \n",
       "\n",
       "   no_of_trainings  age  previous_year_rating  length_of_service  \\\n",
       "0                1   35                   5.0                  8   \n",
       "1                1   30                   5.0                  4   \n",
       "2                1   34                   3.0                  7   \n",
       "3                2   39                   1.0                 10   \n",
       "4                1   45                   3.0                  2   \n",
       "\n",
       "  KPIs_met >80% awards_won?  avg_training_score is_promoted  gender_count  \\\n",
       "0             1           0                  49           0         16312   \n",
       "1             0           0                  60           0         38496   \n",
       "2             0           0                  50           0         38496   \n",
       "3             0           0                  50           0         38496   \n",
       "4             0           0                  73           0         38496   \n",
       "\n",
       "   region_count  department_count  recruitment_channel_count  \\\n",
       "0          4843             16840                      23220   \n",
       "1          6428             11348                      30446   \n",
       "2           874             16840                      23220   \n",
       "3          1175             16840                      30446   \n",
       "4          2260              7138                      30446   \n",
       "\n",
       "  is_multiple_training_completed length_of_service_binned age_binned  \n",
       "0                              0                     8-10      30-39  \n",
       "1                              0                      3-5      30-39  \n",
       "2                              0                      5-7      30-39  \n",
       "3                              1                     8-10      30-39  \n",
       "4                              0                      0-2      40-49  "
      ]
     },
     "execution_count": 25,
     "metadata": {},
     "output_type": "execute_result"
    }
   ],
   "source": [
    "train.head()"
   ]
  },
  {
   "cell_type": "code",
   "execution_count": 27,
   "metadata": {
    "id": "zjrIhwdyw_uz"
   },
   "outputs": [],
   "source": [
    "num_cols, cat_cols = ut.get_dtypes(train)\n",
    "# since is_promoted is a dependent variable and we will perform transformations on independent variables only, we remove it from cat_cols column and store it in target variable.\n",
    "cat_cols.remove('is_promoted') \n",
    "target = 'is_promoted' "
   ]
  },
  {
   "cell_type": "code",
   "execution_count": 28,
   "metadata": {
    "colab": {
     "base_uri": "https://localhost:8080/"
    },
    "executionInfo": {
     "elapsed": 10814,
     "status": "ok",
     "timestamp": 1601535418651,
     "user": {
      "displayName": "SAHIL MANKAD",
      "photoUrl": "",
      "userId": "01524592176474520459"
     },
     "user_tz": -330
    },
    "id": "IXzvTznDxgL4",
    "outputId": "e34ff758-90ac-484f-bbb7-a6cffcd7f4f5"
   },
   "outputs": [
    {
     "data": {
      "text/plain": [
       "(['no_of_trainings',\n",
       "  'age',\n",
       "  'previous_year_rating',\n",
       "  'length_of_service',\n",
       "  'avg_training_score',\n",
       "  'gender_count',\n",
       "  'region_count',\n",
       "  'department_count',\n",
       "  'recruitment_channel_count',\n",
       "  'length_of_service_binned',\n",
       "  'age_binned'],\n",
       " ['department',\n",
       "  'region',\n",
       "  'education',\n",
       "  'gender',\n",
       "  'recruitment_channel',\n",
       "  'KPIs_met >80%',\n",
       "  'awards_won?',\n",
       "  'is_multiple_training_completed'])"
      ]
     },
     "execution_count": 28,
     "metadata": {},
     "output_type": "execute_result"
    }
   ],
   "source": [
    "num_cols,cat_cols"
   ]
  },
  {
   "cell_type": "code",
   "execution_count": 30,
   "metadata": {
    "colab": {
     "base_uri": "https://localhost:8080/"
    },
    "executionInfo": {
     "elapsed": 10799,
     "status": "ok",
     "timestamp": 1601535418654,
     "user": {
      "displayName": "SAHIL MANKAD",
      "photoUrl": "",
      "userId": "01524592176474520459"
     },
     "user_tz": -330
    },
    "id": "M2_plqMaxPIK",
    "outputId": "54c4bcb5-94c9-4d10-aeac-f633da45b810"
   },
   "outputs": [
    {
     "name": "stdout",
     "output_type": "stream",
     "text": [
      "no_of_trainings - Number of Unique Values: 10\n",
      "age - Number of Unique Values: 41\n",
      "previous_year_rating - Number of Unique Values: 6\n",
      "length_of_service - Number of Unique Values: 35\n",
      "avg_training_score - Number of Unique Values: 61\n",
      "gender_count - Number of Unique Values: 2\n",
      "region_count - Number of Unique Values: 34\n",
      "department_count - Number of Unique Values: 8\n",
      "recruitment_channel_count - Number of Unique Values: 3\n",
      "length_of_service_binned - Number of Unique Values: 5\n",
      "age_binned - Number of Unique Values: 4\n"
     ]
    }
   ],
   "source": [
    "ut.get_unique_instances(train,num_cols)"
   ]
  },
  {
   "cell_type": "markdown",
   "metadata": {
    "id": "XVpNpcwqy47I"
   },
   "source": [
    "There are quite a few unique values for our numerical variables, hence we won't convert them to categorical variables."
   ]
  },
  {
   "cell_type": "code",
   "execution_count": 31,
   "metadata": {
    "colab": {
     "base_uri": "https://localhost:8080/"
    },
    "executionInfo": {
     "elapsed": 10788,
     "status": "ok",
     "timestamp": 1601535418655,
     "user": {
      "displayName": "SAHIL MANKAD",
      "photoUrl": "",
      "userId": "01524592176474520459"
     },
     "user_tz": -330
    },
    "id": "3Cb8xG3QxpNo",
    "outputId": "c2e18a2f-0647-4942-ecc6-ca932d5b8f81"
   },
   "outputs": [
    {
     "name": "stdout",
     "output_type": "stream",
     "text": [
      "department - Number of Unique Values: 9\n",
      "region - Number of Unique Values: 34\n",
      "education - Number of Unique Values: 4\n",
      "gender - Number of Unique Values: 2\n",
      "recruitment_channel - Number of Unique Values: 3\n",
      "KPIs_met >80% - Number of Unique Values: 2\n",
      "awards_won? - Number of Unique Values: 2\n",
      "is_multiple_training_completed - Number of Unique Values: 2\n"
     ]
    }
   ],
   "source": [
    "ut.get_unique_instances(train,cat_cols)"
   ]
  },
  {
   "cell_type": "markdown",
   "metadata": {
    "id": "spVDZ6rszN0c"
   },
   "source": [
    "1. There are many unique regions in the data, we will combine sparse classes for this attributes.\n",
    "2. By peeking into data, we can infer that education,KPIs_met >80%,awards_won and is_multiple_training_completed are ordinal variables. We will have to perform label encoding for education. The rest are already in label encoded from(0's and 1's.)"
   ]
  },
  {
   "cell_type": "code",
   "execution_count": 32,
   "metadata": {
    "colab": {
     "base_uri": "https://localhost:8080/"
    },
    "executionInfo": {
     "elapsed": 10774,
     "status": "ok",
     "timestamp": 1601535418656,
     "user": {
      "displayName": "SAHIL MANKAD",
      "photoUrl": "",
      "userId": "01524592176474520459"
     },
     "user_tz": -330
    },
    "id": "xvtNLaFZmOo9",
    "outputId": "73a6fa02-0f6c-421d-b128-84db24c5acc4"
   },
   "outputs": [
    {
     "data": {
      "text/plain": [
       "region\n",
       "region_2     12343\n",
       "region_22     6428\n",
       "region_7      4843\n",
       "region_15     2808\n",
       "region_13     2648\n",
       "region_26     2260\n",
       "region_31     1935\n",
       "region_4      1703\n",
       "region_27     1659\n",
       "region_16     1465\n",
       "region_28     1318\n",
       "region_11     1315\n",
       "region_23     1175\n",
       "region_29      994\n",
       "region_32      945\n",
       "region_19      874\n",
       "region_20      850\n",
       "region_14      827\n",
       "region_25      819\n",
       "region_17      796\n",
       "region_5       766\n",
       "region_6       690\n",
       "region_30      657\n",
       "region_8       655\n",
       "region_10      648\n",
       "region_1       610\n",
       "region_24      508\n",
       "region_12      500\n",
       "region_9       420\n",
       "region_21      411\n",
       "region_3       346\n",
       "region_34      292\n",
       "region_33      269\n",
       "region_18       31\n",
       "Name: count, dtype: int64"
      ]
     },
     "execution_count": 32,
     "metadata": {},
     "output_type": "execute_result"
    }
   ],
   "source": [
    "train['region'].value_counts() "
   ]
  },
  {
   "cell_type": "markdown",
   "metadata": {
    "id": "W5cafxAHv2yg"
   },
   "source": [
    "We can group the regions according to the number of employees working at each region. Let' say we divide region into 2 parts, having employees > 2000 and less than 2000 into variable region_high_employees."
   ]
  },
  {
   "cell_type": "code",
   "execution_count": 33,
   "metadata": {
    "colab": {
     "base_uri": "https://localhost:8080/"
    },
    "executionInfo": {
     "elapsed": 11301,
     "status": "ok",
     "timestamp": 1601535419200,
     "user": {
      "displayName": "SAHIL MANKAD",
      "photoUrl": "",
      "userId": "01524592176474520459"
     },
     "user_tz": -330
    },
    "id": "94fT9Wj7u4gJ",
    "outputId": "5f910de1-daf9-4768-ff19-3449a7ca851a"
   },
   "outputs": [
    {
     "name": "stdout",
     "output_type": "stream",
     "text": [
      "54808\n",
      "region_high_employees\n",
      "1    31330\n",
      "0    23478\n",
      "Name: count, dtype: int64\n",
      "region_high_employees\n",
      "1    0.571632\n",
      "0    0.428368\n",
      "Name: proportion, dtype: float64\n"
     ]
    }
   ],
   "source": [
    "more_than_2000 = ['region_2','region_22','region_7','region_15','region_13','region_26']\n",
    "\n",
    "temp = []\n",
    "no_rows = train.shape[0]\n",
    "print(no_rows)\n",
    "for i in range(0, no_rows):\n",
    "  if train['region'][i] in more_than_2000:\n",
    "    temp.append(1)\n",
    "  else:\n",
    "    temp.append(0)\n",
    "\n",
    "\n",
    "train['region_high_employees'] = pd.Series(temp).astype('object')\n",
    "print(train['region_high_employees'].value_counts())\n",
    "print(train['region_high_employees'].value_counts(normalize=True))"
   ]
  },
  {
   "cell_type": "markdown",
   "metadata": {
    "id": "-wNeX1hdz1LR"
   },
   "source": [
    "More than 57% of employees belong to 6 regions, while remaining 23 represent 43%. "
   ]
  },
  {
   "cell_type": "markdown",
   "metadata": {
    "id": "DIe-g2IW0H8w"
   },
   "source": [
    "Region high employees is an ordinal variable, since it signifies the employee strength in a region. We will not need to label encode it since it's already in 0/1 format. "
   ]
  },
  {
   "cell_type": "code",
   "execution_count": 34,
   "metadata": {
    "id": "u0xO0QWVwxLd"
   },
   "outputs": [],
   "source": [
    "train.drop(['region'],axis=1,inplace=True)\n",
    "cat_cols.append('region_high_employees')\n",
    "cat_cols.remove('region')"
   ]
  },
  {
   "cell_type": "code",
   "execution_count": 35,
   "metadata": {
    "colab": {
     "base_uri": "https://localhost:8080/"
    },
    "executionInfo": {
     "elapsed": 11282,
     "status": "ok",
     "timestamp": 1601535419202,
     "user": {
      "displayName": "SAHIL MANKAD",
      "photoUrl": "",
      "userId": "01524592176474520459"
     },
     "user_tz": -330
    },
    "id": "4Lov9AER0o_Y",
    "outputId": "919e1c79-4ce6-40e2-861e-3e34ae4081da"
   },
   "outputs": [
    {
     "data": {
      "text/plain": [
       "(54808, 20)"
      ]
     },
     "execution_count": 35,
     "metadata": {},
     "output_type": "execute_result"
    }
   ],
   "source": [
    "train.shape"
   ]
  },
  {
   "cell_type": "markdown",
   "metadata": {
    "id": "6mVYVSIz3k_N"
   },
   "source": [
    "## Encoding for categorical variables"
   ]
  },
  {
   "cell_type": "code",
   "execution_count": 36,
   "metadata": {
    "colab": {
     "base_uri": "https://localhost:8080/"
    },
    "executionInfo": {
     "elapsed": 11270,
     "status": "ok",
     "timestamp": 1601535419203,
     "user": {
      "displayName": "SAHIL MANKAD",
      "photoUrl": "",
      "userId": "01524592176474520459"
     },
     "user_tz": -330
    },
    "id": "AGifblNTz_8o",
    "outputId": "4e8e30b1-9631-44d0-cfb3-9f480d7e5263"
   },
   "outputs": [
    {
     "data": {
      "text/plain": [
       "['department',\n",
       " 'education',\n",
       " 'gender',\n",
       " 'recruitment_channel',\n",
       " 'KPIs_met >80%',\n",
       " 'awards_won?',\n",
       " 'is_multiple_training_completed',\n",
       " 'region_high_employees']"
      ]
     },
     "execution_count": 36,
     "metadata": {},
     "output_type": "execute_result"
    }
   ],
   "source": [
    "cat_cols"
   ]
  },
  {
   "cell_type": "code",
   "execution_count": 37,
   "metadata": {
    "colab": {
     "base_uri": "https://localhost:8080/"
    },
    "executionInfo": {
     "elapsed": 11251,
     "status": "ok",
     "timestamp": 1601535419204,
     "user": {
      "displayName": "SAHIL MANKAD",
      "photoUrl": "",
      "userId": "01524592176474520459"
     },
     "user_tz": -330
    },
    "id": "tpGV463t0wgh",
    "outputId": "27dc2f83-4793-41bd-eeb3-077ef4d6adc6"
   },
   "outputs": [
    {
     "data": {
      "text/html": [
       "<div>\n",
       "<style scoped>\n",
       "    .dataframe tbody tr th:only-of-type {\n",
       "        vertical-align: middle;\n",
       "    }\n",
       "\n",
       "    .dataframe tbody tr th {\n",
       "        vertical-align: top;\n",
       "    }\n",
       "\n",
       "    .dataframe thead th {\n",
       "        text-align: right;\n",
       "    }\n",
       "</style>\n",
       "<table border=\"1\" class=\"dataframe\">\n",
       "  <thead>\n",
       "    <tr style=\"text-align: right;\">\n",
       "      <th></th>\n",
       "      <th>department</th>\n",
       "      <th>education</th>\n",
       "      <th>gender</th>\n",
       "      <th>recruitment_channel</th>\n",
       "      <th>KPIs_met &gt;80%</th>\n",
       "      <th>awards_won?</th>\n",
       "      <th>is_multiple_training_completed</th>\n",
       "      <th>region_high_employees</th>\n",
       "    </tr>\n",
       "  </thead>\n",
       "  <tbody>\n",
       "    <tr>\n",
       "      <th>0</th>\n",
       "      <td>Sales &amp; Marketing</td>\n",
       "      <td>Master's &amp; above</td>\n",
       "      <td>f</td>\n",
       "      <td>sourcing</td>\n",
       "      <td>1</td>\n",
       "      <td>0</td>\n",
       "      <td>0</td>\n",
       "      <td>1</td>\n",
       "    </tr>\n",
       "    <tr>\n",
       "      <th>1</th>\n",
       "      <td>Operations</td>\n",
       "      <td>Bachelor's</td>\n",
       "      <td>m</td>\n",
       "      <td>other</td>\n",
       "      <td>0</td>\n",
       "      <td>0</td>\n",
       "      <td>0</td>\n",
       "      <td>1</td>\n",
       "    </tr>\n",
       "    <tr>\n",
       "      <th>2</th>\n",
       "      <td>Sales &amp; Marketing</td>\n",
       "      <td>Bachelor's</td>\n",
       "      <td>m</td>\n",
       "      <td>sourcing</td>\n",
       "      <td>0</td>\n",
       "      <td>0</td>\n",
       "      <td>0</td>\n",
       "      <td>0</td>\n",
       "    </tr>\n",
       "    <tr>\n",
       "      <th>3</th>\n",
       "      <td>Sales &amp; Marketing</td>\n",
       "      <td>Bachelor's</td>\n",
       "      <td>m</td>\n",
       "      <td>other</td>\n",
       "      <td>0</td>\n",
       "      <td>0</td>\n",
       "      <td>1</td>\n",
       "      <td>0</td>\n",
       "    </tr>\n",
       "    <tr>\n",
       "      <th>4</th>\n",
       "      <td>Technology</td>\n",
       "      <td>Bachelor's</td>\n",
       "      <td>m</td>\n",
       "      <td>other</td>\n",
       "      <td>0</td>\n",
       "      <td>0</td>\n",
       "      <td>0</td>\n",
       "      <td>1</td>\n",
       "    </tr>\n",
       "  </tbody>\n",
       "</table>\n",
       "</div>"
      ],
      "text/plain": [
       "          department         education gender recruitment_channel  \\\n",
       "0  Sales & Marketing  Master's & above      f            sourcing   \n",
       "1         Operations        Bachelor's      m               other   \n",
       "2  Sales & Marketing        Bachelor's      m            sourcing   \n",
       "3  Sales & Marketing        Bachelor's      m               other   \n",
       "4         Technology        Bachelor's      m               other   \n",
       "\n",
       "  KPIs_met >80% awards_won? is_multiple_training_completed  \\\n",
       "0             1           0                              0   \n",
       "1             0           0                              0   \n",
       "2             0           0                              0   \n",
       "3             0           0                              1   \n",
       "4             0           0                              0   \n",
       "\n",
       "  region_high_employees  \n",
       "0                     1  \n",
       "1                     1  \n",
       "2                     0  \n",
       "3                     0  \n",
       "4                     1  "
      ]
     },
     "execution_count": 37,
     "metadata": {},
     "output_type": "execute_result"
    }
   ],
   "source": [
    "train[cat_cols].head()"
   ]
  },
  {
   "cell_type": "code",
   "execution_count": 38,
   "metadata": {
    "id": "HJJ20vKzz8cl"
   },
   "outputs": [],
   "source": [
    "nominal = ['department','recruitment_channel','length_of_service_binned','age_binned','gender'] \n",
    "ordinal = ['education', 'KPIs_met >80%', 'awards_won?', 'is_multiple_training_completed', 'region_high_employees']"
   ]
  },
  {
   "cell_type": "code",
   "execution_count": 40,
   "metadata": {
    "id": "KrKtUQg44UIf"
   },
   "outputs": [],
   "source": [
    "train = ut.one_hot_encoding(train,nominal)"
   ]
  },
  {
   "cell_type": "code",
   "execution_count": 41,
   "metadata": {
    "colab": {
     "base_uri": "https://localhost:8080/"
    },
    "executionInfo": {
     "elapsed": 12142,
     "status": "ok",
     "timestamp": 1601535420120,
     "user": {
      "displayName": "SAHIL MANKAD",
      "photoUrl": "",
      "userId": "01524592176474520459"
     },
     "user_tz": -330
    },
    "id": "u7HrEMQY1tby",
    "outputId": "6b1b1ff1-a330-4391-e4f4-d0fde203972b"
   },
   "outputs": [
    {
     "data": {
      "text/html": [
       "<div>\n",
       "<style scoped>\n",
       "    .dataframe tbody tr th:only-of-type {\n",
       "        vertical-align: middle;\n",
       "    }\n",
       "\n",
       "    .dataframe tbody tr th {\n",
       "        vertical-align: top;\n",
       "    }\n",
       "\n",
       "    .dataframe thead th {\n",
       "        text-align: right;\n",
       "    }\n",
       "</style>\n",
       "<table border=\"1\" class=\"dataframe\">\n",
       "  <thead>\n",
       "    <tr style=\"text-align: right;\">\n",
       "      <th></th>\n",
       "      <th>education</th>\n",
       "      <th>no_of_trainings</th>\n",
       "      <th>age</th>\n",
       "      <th>previous_year_rating</th>\n",
       "      <th>length_of_service</th>\n",
       "      <th>KPIs_met &gt;80%</th>\n",
       "      <th>awards_won?</th>\n",
       "      <th>avg_training_score</th>\n",
       "      <th>is_promoted</th>\n",
       "      <th>gender_count</th>\n",
       "      <th>...</th>\n",
       "      <th>length_of_service_binned_3-5</th>\n",
       "      <th>length_of_service_binned_5-7</th>\n",
       "      <th>length_of_service_binned_8-10</th>\n",
       "      <th>length_of_service_binned_more_than_10</th>\n",
       "      <th>age_binned_less_than_30</th>\n",
       "      <th>age_binned_30-39</th>\n",
       "      <th>age_binned_40-49</th>\n",
       "      <th>age_binned_more_equal_to_50</th>\n",
       "      <th>gender_f</th>\n",
       "      <th>gender_m</th>\n",
       "    </tr>\n",
       "  </thead>\n",
       "  <tbody>\n",
       "    <tr>\n",
       "      <th>0</th>\n",
       "      <td>Master's &amp; above</td>\n",
       "      <td>1</td>\n",
       "      <td>35</td>\n",
       "      <td>5.0</td>\n",
       "      <td>8</td>\n",
       "      <td>1</td>\n",
       "      <td>0</td>\n",
       "      <td>49</td>\n",
       "      <td>0</td>\n",
       "      <td>16312</td>\n",
       "      <td>...</td>\n",
       "      <td>False</td>\n",
       "      <td>False</td>\n",
       "      <td>True</td>\n",
       "      <td>False</td>\n",
       "      <td>False</td>\n",
       "      <td>True</td>\n",
       "      <td>False</td>\n",
       "      <td>False</td>\n",
       "      <td>True</td>\n",
       "      <td>False</td>\n",
       "    </tr>\n",
       "    <tr>\n",
       "      <th>1</th>\n",
       "      <td>Bachelor's</td>\n",
       "      <td>1</td>\n",
       "      <td>30</td>\n",
       "      <td>5.0</td>\n",
       "      <td>4</td>\n",
       "      <td>0</td>\n",
       "      <td>0</td>\n",
       "      <td>60</td>\n",
       "      <td>0</td>\n",
       "      <td>38496</td>\n",
       "      <td>...</td>\n",
       "      <td>True</td>\n",
       "      <td>False</td>\n",
       "      <td>False</td>\n",
       "      <td>False</td>\n",
       "      <td>False</td>\n",
       "      <td>True</td>\n",
       "      <td>False</td>\n",
       "      <td>False</td>\n",
       "      <td>False</td>\n",
       "      <td>True</td>\n",
       "    </tr>\n",
       "    <tr>\n",
       "      <th>2</th>\n",
       "      <td>Bachelor's</td>\n",
       "      <td>1</td>\n",
       "      <td>34</td>\n",
       "      <td>3.0</td>\n",
       "      <td>7</td>\n",
       "      <td>0</td>\n",
       "      <td>0</td>\n",
       "      <td>50</td>\n",
       "      <td>0</td>\n",
       "      <td>38496</td>\n",
       "      <td>...</td>\n",
       "      <td>False</td>\n",
       "      <td>True</td>\n",
       "      <td>False</td>\n",
       "      <td>False</td>\n",
       "      <td>False</td>\n",
       "      <td>True</td>\n",
       "      <td>False</td>\n",
       "      <td>False</td>\n",
       "      <td>False</td>\n",
       "      <td>True</td>\n",
       "    </tr>\n",
       "    <tr>\n",
       "      <th>3</th>\n",
       "      <td>Bachelor's</td>\n",
       "      <td>2</td>\n",
       "      <td>39</td>\n",
       "      <td>1.0</td>\n",
       "      <td>10</td>\n",
       "      <td>0</td>\n",
       "      <td>0</td>\n",
       "      <td>50</td>\n",
       "      <td>0</td>\n",
       "      <td>38496</td>\n",
       "      <td>...</td>\n",
       "      <td>False</td>\n",
       "      <td>False</td>\n",
       "      <td>True</td>\n",
       "      <td>False</td>\n",
       "      <td>False</td>\n",
       "      <td>True</td>\n",
       "      <td>False</td>\n",
       "      <td>False</td>\n",
       "      <td>False</td>\n",
       "      <td>True</td>\n",
       "    </tr>\n",
       "    <tr>\n",
       "      <th>4</th>\n",
       "      <td>Bachelor's</td>\n",
       "      <td>1</td>\n",
       "      <td>45</td>\n",
       "      <td>3.0</td>\n",
       "      <td>2</td>\n",
       "      <td>0</td>\n",
       "      <td>0</td>\n",
       "      <td>73</td>\n",
       "      <td>0</td>\n",
       "      <td>38496</td>\n",
       "      <td>...</td>\n",
       "      <td>False</td>\n",
       "      <td>False</td>\n",
       "      <td>False</td>\n",
       "      <td>False</td>\n",
       "      <td>False</td>\n",
       "      <td>False</td>\n",
       "      <td>True</td>\n",
       "      <td>False</td>\n",
       "      <td>False</td>\n",
       "      <td>True</td>\n",
       "    </tr>\n",
       "  </tbody>\n",
       "</table>\n",
       "<p>5 rows × 38 columns</p>\n",
       "</div>"
      ],
      "text/plain": [
       "          education  no_of_trainings  age  previous_year_rating  \\\n",
       "0  Master's & above                1   35                   5.0   \n",
       "1        Bachelor's                1   30                   5.0   \n",
       "2        Bachelor's                1   34                   3.0   \n",
       "3        Bachelor's                2   39                   1.0   \n",
       "4        Bachelor's                1   45                   3.0   \n",
       "\n",
       "   length_of_service KPIs_met >80% awards_won?  avg_training_score  \\\n",
       "0                  8             1           0                  49   \n",
       "1                  4             0           0                  60   \n",
       "2                  7             0           0                  50   \n",
       "3                 10             0           0                  50   \n",
       "4                  2             0           0                  73   \n",
       "\n",
       "  is_promoted  gender_count  ...  length_of_service_binned_3-5  \\\n",
       "0           0         16312  ...                         False   \n",
       "1           0         38496  ...                          True   \n",
       "2           0         38496  ...                         False   \n",
       "3           0         38496  ...                         False   \n",
       "4           0         38496  ...                         False   \n",
       "\n",
       "   length_of_service_binned_5-7  length_of_service_binned_8-10  \\\n",
       "0                         False                           True   \n",
       "1                         False                          False   \n",
       "2                          True                          False   \n",
       "3                         False                           True   \n",
       "4                         False                          False   \n",
       "\n",
       "  length_of_service_binned_more_than_10 age_binned_less_than_30  \\\n",
       "0                                 False                   False   \n",
       "1                                 False                   False   \n",
       "2                                 False                   False   \n",
       "3                                 False                   False   \n",
       "4                                 False                   False   \n",
       "\n",
       "  age_binned_30-39 age_binned_40-49 age_binned_more_equal_to_50 gender_f  \\\n",
       "0             True            False                       False     True   \n",
       "1             True            False                       False    False   \n",
       "2             True            False                       False    False   \n",
       "3             True            False                       False    False   \n",
       "4            False             True                       False    False   \n",
       "\n",
       "  gender_m  \n",
       "0    False  \n",
       "1     True  \n",
       "2     True  \n",
       "3     True  \n",
       "4     True  \n",
       "\n",
       "[5 rows x 38 columns]"
      ]
     },
     "execution_count": 41,
     "metadata": {},
     "output_type": "execute_result"
    }
   ],
   "source": [
    "train.head()"
   ]
  },
  {
   "cell_type": "code",
   "execution_count": 42,
   "metadata": {
    "colab": {
     "base_uri": "https://localhost:8080/"
    },
    "executionInfo": {
     "elapsed": 12132,
     "status": "ok",
     "timestamp": 1601535420121,
     "user": {
      "displayName": "SAHIL MANKAD",
      "photoUrl": "",
      "userId": "01524592176474520459"
     },
     "user_tz": -330
    },
    "id": "IapaN5c9211v",
    "outputId": "a18c541d-262e-4f44-ae01-0669303d4584"
   },
   "outputs": [
    {
     "data": {
      "text/plain": [
       "education\n",
       "Bachelor's          36669\n",
       "Master's & above    14925\n",
       "null                 2409\n",
       "Below Secondary       805\n",
       "Name: count, dtype: int64"
      ]
     },
     "execution_count": 42,
     "metadata": {},
     "output_type": "execute_result"
    }
   ],
   "source": [
    "train['education'].value_counts()"
   ]
  },
  {
   "cell_type": "markdown",
   "metadata": {
    "id": "4DHzGn-O3RdF"
   },
   "source": [
    "We can assign numeric values to education as follows:\n",
    "0 - null\n",
    "1 - Below Secondary\n",
    "2- Bachelors\n",
    "3 - Masters and above"
   ]
  },
  {
   "cell_type": "code",
   "execution_count": 43,
   "metadata": {
    "colab": {
     "base_uri": "https://localhost:8080/"
    },
    "executionInfo": {
     "elapsed": 12124,
     "status": "ok",
     "timestamp": 1601535420122,
     "user": {
      "displayName": "SAHIL MANKAD",
      "photoUrl": "",
      "userId": "01524592176474520459"
     },
     "user_tz": -330
    },
    "id": "OATGnlwu2mKa",
    "outputId": "113b33bd-673f-4a6c-9074-a6d516c772eb"
   },
   "outputs": [
    {
     "name": "stdout",
     "output_type": "stream",
     "text": [
      "education\n",
      "2    36669\n",
      "3    14925\n",
      "0     2409\n",
      "1      805\n",
      "Name: count, dtype: int64\n"
     ]
    }
   ],
   "source": [
    "train['education'] = train['education'].map({'null':0,'Below Secondary':1,\"Bachelor's\":2,\"Master's & above\":3})\n",
    "print(train['education'].value_counts())"
   ]
  },
  {
   "cell_type": "code",
   "execution_count": 44,
   "metadata": {
    "colab": {
     "base_uri": "https://localhost:8080/"
    },
    "executionInfo": {
     "elapsed": 12113,
     "status": "ok",
     "timestamp": 1601535420122,
     "user": {
      "displayName": "SAHIL MANKAD",
      "photoUrl": "",
      "userId": "01524592176474520459"
     },
     "user_tz": -330
    },
    "id": "hZWB9HA88og0",
    "outputId": "846b4781-f57c-47e8-cea4-01c115a66ab4"
   },
   "outputs": [
    {
     "data": {
      "text/plain": [
       "(54808, 38)"
      ]
     },
     "execution_count": 44,
     "metadata": {},
     "output_type": "execute_result"
    }
   ],
   "source": [
    "train.shape"
   ]
  },
  {
   "cell_type": "markdown",
   "metadata": {
    "id": "pIdjJZ6X5NnR"
   },
   "source": [
    "Since we've already converted the attributes into numerical form, let's also convert the attribute datatype to integer, which will make it easier to use for dimensionality reduction and modelling."
   ]
  },
  {
   "cell_type": "code",
   "execution_count": 45,
   "metadata": {
    "colab": {
     "base_uri": "https://localhost:8080/"
    },
    "executionInfo": {
     "elapsed": 12107,
     "status": "ok",
     "timestamp": 1601535420124,
     "user": {
      "displayName": "SAHIL MANKAD",
      "photoUrl": "",
      "userId": "01524592176474520459"
     },
     "user_tz": -330
    },
    "id": "WuJaipK05fKL",
    "outputId": "b7a65be6-1fb6-4c33-fc35-9e8e5608967f"
   },
   "outputs": [
    {
     "data": {
      "text/plain": [
       "education                                  int64\n",
       "no_of_trainings                            int64\n",
       "age                                        int64\n",
       "previous_year_rating                     float64\n",
       "length_of_service                          int64\n",
       "KPIs_met >80%                             object\n",
       "awards_won?                               object\n",
       "avg_training_score                         int64\n",
       "is_promoted                               object\n",
       "gender_count                               int64\n",
       "region_count                               int64\n",
       "department_count                           int64\n",
       "recruitment_channel_count                  int64\n",
       "is_multiple_training_completed            object\n",
       "region_high_employees                     object\n",
       "department_Analytics                      object\n",
       "department_Finance                        object\n",
       "department_HR                             object\n",
       "department_Legal                          object\n",
       "department_Operations                     object\n",
       "department_Procurement                    object\n",
       "department_R&D                            object\n",
       "department_Sales & Marketing              object\n",
       "department_Technology                     object\n",
       "recruitment_channel_other                 object\n",
       "recruitment_channel_referred              object\n",
       "recruitment_channel_sourcing              object\n",
       "length_of_service_binned_0-2              object\n",
       "length_of_service_binned_3-5              object\n",
       "length_of_service_binned_5-7              object\n",
       "length_of_service_binned_8-10             object\n",
       "length_of_service_binned_more_than_10     object\n",
       "age_binned_less_than_30                   object\n",
       "age_binned_30-39                          object\n",
       "age_binned_40-49                          object\n",
       "age_binned_more_equal_to_50               object\n",
       "gender_f                                  object\n",
       "gender_m                                  object\n",
       "dtype: object"
      ]
     },
     "execution_count": 45,
     "metadata": {},
     "output_type": "execute_result"
    }
   ],
   "source": [
    "train.dtypes"
   ]
  },
  {
   "cell_type": "code",
   "execution_count": 46,
   "metadata": {
    "id": "9ahWzMJ26EAQ"
   },
   "outputs": [],
   "source": [
    "for variable in train.columns:\n",
    "  if(train[variable].dtypes == \"object\"): \n",
    "    #print(variable)\n",
    "    train[variable] = train[variable].apply(lambda x:int(x))"
   ]
  },
  {
   "cell_type": "code",
   "execution_count": 47,
   "metadata": {
    "id": "tAkpuxGHHX46"
   },
   "outputs": [],
   "source": [
    "# Since there are only 2 genders in the dataset, male and female, one of gender_m and gender_f can represent the relevant information. \n",
    "\n",
    "#Dropping gender_f variable.\n",
    "train.drop(['gender_f'],axis=1,inplace=True,errors='ignore')"
   ]
  },
  {
   "cell_type": "code",
   "execution_count": 48,
   "metadata": {
    "colab": {
     "base_uri": "https://localhost:8080/"
    },
    "executionInfo": {
     "elapsed": 12655,
     "status": "ok",
     "timestamp": 1601535420696,
     "user": {
      "displayName": "SAHIL MANKAD",
      "photoUrl": "",
      "userId": "01524592176474520459"
     },
     "user_tz": -330
    },
    "id": "K3-ZauM56_Y5",
    "outputId": "586fa125-c40a-42e0-982d-788f966698c3"
   },
   "outputs": [
    {
     "data": {
      "text/plain": [
       "education                                  int64\n",
       "no_of_trainings                            int64\n",
       "age                                        int64\n",
       "previous_year_rating                     float64\n",
       "length_of_service                          int64\n",
       "KPIs_met >80%                              int64\n",
       "awards_won?                                int64\n",
       "avg_training_score                         int64\n",
       "is_promoted                                int64\n",
       "gender_count                               int64\n",
       "region_count                               int64\n",
       "department_count                           int64\n",
       "recruitment_channel_count                  int64\n",
       "is_multiple_training_completed             int64\n",
       "region_high_employees                      int64\n",
       "department_Analytics                       int64\n",
       "department_Finance                         int64\n",
       "department_HR                              int64\n",
       "department_Legal                           int64\n",
       "department_Operations                      int64\n",
       "department_Procurement                     int64\n",
       "department_R&D                             int64\n",
       "department_Sales & Marketing               int64\n",
       "department_Technology                      int64\n",
       "recruitment_channel_other                  int64\n",
       "recruitment_channel_referred               int64\n",
       "recruitment_channel_sourcing               int64\n",
       "length_of_service_binned_0-2               int64\n",
       "length_of_service_binned_3-5               int64\n",
       "length_of_service_binned_5-7               int64\n",
       "length_of_service_binned_8-10              int64\n",
       "length_of_service_binned_more_than_10      int64\n",
       "age_binned_less_than_30                    int64\n",
       "age_binned_30-39                           int64\n",
       "age_binned_40-49                           int64\n",
       "age_binned_more_equal_to_50                int64\n",
       "gender_m                                   int64\n",
       "dtype: object"
      ]
     },
     "execution_count": 48,
     "metadata": {},
     "output_type": "execute_result"
    }
   ],
   "source": [
    "train.dtypes"
   ]
  },
  {
   "cell_type": "code",
   "execution_count": 49,
   "metadata": {
    "colab": {
     "base_uri": "https://localhost:8080/"
    },
    "executionInfo": {
     "elapsed": 12646,
     "status": "ok",
     "timestamp": 1601535420697,
     "user": {
      "displayName": "SAHIL MANKAD",
      "photoUrl": "",
      "userId": "01524592176474520459"
     },
     "user_tz": -330
    },
    "id": "Q_9fWqQr5pt7",
    "outputId": "1dc99cef-2434-4415-e812-6b435ce174ab"
   },
   "outputs": [
    {
     "data": {
      "text/plain": [
       "(54808, 37)"
      ]
     },
     "execution_count": 49,
     "metadata": {},
     "output_type": "execute_result"
    }
   ],
   "source": [
    "train.shape"
   ]
  },
  {
   "cell_type": "markdown",
   "metadata": {
    "id": "vfup7biB8m9e"
   },
   "source": [
    "## Numerical variables processing\n"
   ]
  },
  {
   "cell_type": "code",
   "execution_count": 50,
   "metadata": {
    "colab": {
     "base_uri": "https://localhost:8080/"
    },
    "executionInfo": {
     "elapsed": 12636,
     "status": "ok",
     "timestamp": 1601535420699,
     "user": {
      "displayName": "SAHIL MANKAD",
      "photoUrl": "",
      "userId": "01524592176474520459"
     },
     "user_tz": -330
    },
    "id": "C_D4KwVm8sWX",
    "outputId": "4fa793f9-ad95-4d36-dec8-7b5592b66cf3"
   },
   "outputs": [
    {
     "data": {
      "text/plain": [
       "['no_of_trainings',\n",
       " 'age',\n",
       " 'previous_year_rating',\n",
       " 'length_of_service',\n",
       " 'avg_training_score',\n",
       " 'gender_count',\n",
       " 'region_count',\n",
       " 'department_count',\n",
       " 'recruitment_channel_count']"
      ]
     },
     "execution_count": 50,
     "metadata": {},
     "output_type": "execute_result"
    }
   ],
   "source": [
    "num_cols.remove('length_of_service_binned')\n",
    "num_cols.remove('age_binned')\n",
    "num_cols"
   ]
  },
  {
   "cell_type": "code",
   "execution_count": 51,
   "metadata": {},
   "outputs": [
    {
     "data": {
      "text/plain": [
       "Index(['education', 'no_of_trainings', 'age', 'previous_year_rating',\n",
       "       'length_of_service', 'KPIs_met >80%', 'awards_won?',\n",
       "       'avg_training_score', 'is_promoted', 'gender_count', 'region_count',\n",
       "       'department_count', 'recruitment_channel_count',\n",
       "       'is_multiple_training_completed', 'region_high_employees',\n",
       "       'department_Analytics', 'department_Finance', 'department_HR',\n",
       "       'department_Legal', 'department_Operations', 'department_Procurement',\n",
       "       'department_R&D', 'department_Sales & Marketing',\n",
       "       'department_Technology', 'recruitment_channel_other',\n",
       "       'recruitment_channel_referred', 'recruitment_channel_sourcing',\n",
       "       'length_of_service_binned_0-2', 'length_of_service_binned_3-5',\n",
       "       'length_of_service_binned_5-7', 'length_of_service_binned_8-10',\n",
       "       'length_of_service_binned_more_than_10', 'age_binned_less_than_30',\n",
       "       'age_binned_30-39', 'age_binned_40-49', 'age_binned_more_equal_to_50',\n",
       "       'gender_m'],\n",
       "      dtype='object')"
      ]
     },
     "execution_count": 51,
     "metadata": {},
     "output_type": "execute_result"
    }
   ],
   "source": [
    "train.columns"
   ]
  },
  {
   "cell_type": "code",
   "execution_count": 52,
   "metadata": {
    "colab": {
     "base_uri": "https://localhost:8080/"
    },
    "executionInfo": {
     "elapsed": 12627,
     "status": "ok",
     "timestamp": 1601535420700,
     "user": {
      "displayName": "SAHIL MANKAD",
      "photoUrl": "",
      "userId": "01524592176474520459"
     },
     "user_tz": -330
    },
    "id": "dTXTlTviIm7l",
    "outputId": "9b1997e9-1cce-4a9a-d641-214a57b77f93"
   },
   "outputs": [
    {
     "data": {
      "text/plain": [
       "no_of_trainings                int64\n",
       "age                            int64\n",
       "previous_year_rating         float64\n",
       "length_of_service              int64\n",
       "avg_training_score             int64\n",
       "gender_count                   int64\n",
       "region_count                   int64\n",
       "department_count               int64\n",
       "recruitment_channel_count      int64\n",
       "dtype: object"
      ]
     },
     "execution_count": 52,
     "metadata": {},
     "output_type": "execute_result"
    }
   ],
   "source": [
    "train[num_cols].dtypes"
   ]
  },
  {
   "cell_type": "code",
   "execution_count": 53,
   "metadata": {
    "id": "BazkWVuBIstb"
   },
   "outputs": [],
   "source": [
    "# changing previous_year_rating to int since it has discrete values\n",
    "train['previous_year_rating'] = train['previous_year_rating'].apply(lambda x:int(x)) #train['previous_year_rating']"
   ]
  },
  {
   "cell_type": "code",
   "execution_count": 54,
   "metadata": {
    "colab": {
     "base_uri": "https://localhost:8080/"
    },
    "executionInfo": {
     "elapsed": 12603,
     "status": "ok",
     "timestamp": 1601535420703,
     "user": {
      "displayName": "SAHIL MANKAD",
      "photoUrl": "",
      "userId": "01524592176474520459"
     },
     "user_tz": -330
    },
    "id": "eo_6q6NQFD7b",
    "outputId": "d4804a0d-b2e2-4198-c7ec-cdc07ca3b1a0"
   },
   "outputs": [
    {
     "data": {
      "text/plain": [
       "no_of_trainings              int64\n",
       "age                          int64\n",
       "previous_year_rating         int64\n",
       "length_of_service            int64\n",
       "avg_training_score           int64\n",
       "gender_count                 int64\n",
       "region_count                 int64\n",
       "department_count             int64\n",
       "recruitment_channel_count    int64\n",
       "dtype: object"
      ]
     },
     "execution_count": 54,
     "metadata": {},
     "output_type": "execute_result"
    }
   ],
   "source": [
    "train[num_cols].dtypes"
   ]
  },
  {
   "cell_type": "code",
   "execution_count": 56,
   "metadata": {
    "colab": {
     "base_uri": "https://localhost:8080/"
    },
    "executionInfo": {
     "elapsed": 22366,
     "status": "ok",
     "timestamp": 1601535430497,
     "user": {
      "displayName": "SAHIL MANKAD",
      "photoUrl": "",
      "userId": "01524592176474520459"
     },
     "user_tz": -330
    },
    "id": "wH3-UnVYEqQZ",
    "outputId": "55d5d46a-d2c3-4f30-d93f-2823e103b6a2"
   },
   "outputs": [
    {
     "data": {
      "image/png": "[encoded data removed]",
      "text/plain": [
       "<Figure size 1200x600 with 2 Axes>"
      ]
     },
     "metadata": {},
     "output_type": "display_data"
    },
    {
     "data": {
      "image/png": "[encoded data removed]",
      "text/plain": [
       "<Figure size 1200x600 with 2 Axes>"
      ]
     },
     "metadata": {},
     "output_type": "display_data"
    },
    {
     "data": {
      "image/png": "[encoded data removed]",
      "text/plain": [
       "<Figure size 1200x600 with 2 Axes>"
      ]
     },
     "metadata": {},
     "output_type": "display_data"
    },
    {
     "data": {
      "image/png": "[encoded data removed]",
      "text/plain": [
       "<Figure size 1200x600 with 2 Axes>"
      ]
     },
     "metadata": {},
     "output_type": "display_data"
    },
    {
     "data": {
      "image/png": "[encoded data removed]",
      "text/plain": [
       "<Figure size 1200x600 with 2 Axes>"
      ]
     },
     "metadata": {},
     "output_type": "display_data"
    },
    {
     "data": {
      "image/png": "[encoded data removed]",
      "text/plain": [
       "<Figure size 1200x600 with 2 Axes>"
      ]
     },
     "metadata": {},
     "output_type": "display_data"
    },
    {
     "data": {
      "image/png": "[encoded data removed]",
      "text/plain": [
       "<Figure size 1200x600 with 2 Axes>"
      ]
     },
     "metadata": {},
     "output_type": "display_data"
    },
    {
     "data": {
      "image/png": "[encoded data removed]",
      "text/plain": [
       "<Figure size 1200x600 with 2 Axes>"
      ]
     },
     "metadata": {},
     "output_type": "display_data"
    },
    {
     "data": {
      "image/png": "[encoded data removed]",
      "text/plain": [
       "<Figure size 1200x600 with 2 Axes>"
      ]
     },
     "metadata": {},
     "output_type": "display_data"
    }
   ],
   "source": [
    "for col in num_cols:\n",
    "  # print(\"For column name: \",col)\n",
    "  ut.plot_numerical(train[col])\n",
    "  # print(\"---------------------------------\")"
   ]
  },
  {
   "cell_type": "markdown",
   "metadata": {
    "id": "4LSsmCYWDkgl"
   },
   "source": [
    "All our numerical columns  can have genuine outliers(lower/higher values). \n",
    "Hence **we will not be processing outliers** in this case. \n",
    "Following can be induced for each variable from the above plots\n",
    "\n",
    "1. previous_year_rating: The actual ratings are between 1 and 5, while 0 is a placeholder value for null values. No outliers(since all vals are between 0-5) and distribution is somewhat normal, so we do not require any transformations\n",
    "3. avg_training_score: Training scores are between 40-100, hence outliers can be genuine.  The distribution is slightly right-skewed."
   ]
  },
  {
   "cell_type": "markdown",
   "metadata": {
    "id": "T9u2Ljfsla1g"
   },
   "source": [
    "Let's scale the numeric variables and then visualize them again"
   ]
  },
  {
   "cell_type": "code",
   "execution_count": 57,
   "metadata": {
    "id": "wKIvE8lino86"
   },
   "outputs": [],
   "source": [
    "train_copy = train.copy()"
   ]
  },
  {
   "cell_type": "code",
   "execution_count": 58,
   "metadata": {
    "colab": {
     "base_uri": "https://localhost:8080/"
    },
    "executionInfo": {
     "elapsed": 22350,
     "status": "ok",
     "timestamp": 1601535430500,
     "user": {
      "displayName": "SAHIL MANKAD",
      "photoUrl": "",
      "userId": "01524592176474520459"
     },
     "user_tz": -330
    },
    "id": "Sa9oiTYPnE1e",
    "outputId": "ff9fe093-58fb-4ef1-aee3-2592f9a90091"
   },
   "outputs": [
    {
     "data": {
      "text/html": [
       "<div>\n",
       "<style scoped>\n",
       "    .dataframe tbody tr th:only-of-type {\n",
       "        vertical-align: middle;\n",
       "    }\n",
       "\n",
       "    .dataframe tbody tr th {\n",
       "        vertical-align: top;\n",
       "    }\n",
       "\n",
       "    .dataframe thead th {\n",
       "        text-align: right;\n",
       "    }\n",
       "</style>\n",
       "<table border=\"1\" class=\"dataframe\">\n",
       "  <thead>\n",
       "    <tr style=\"text-align: right;\">\n",
       "      <th></th>\n",
       "      <th>education</th>\n",
       "      <th>no_of_trainings</th>\n",
       "      <th>age</th>\n",
       "      <th>previous_year_rating</th>\n",
       "      <th>length_of_service</th>\n",
       "      <th>KPIs_met &gt;80%</th>\n",
       "      <th>awards_won?</th>\n",
       "      <th>avg_training_score</th>\n",
       "      <th>is_promoted</th>\n",
       "      <th>gender_count</th>\n",
       "      <th>...</th>\n",
       "      <th>length_of_service_binned_0-2</th>\n",
       "      <th>length_of_service_binned_3-5</th>\n",
       "      <th>length_of_service_binned_5-7</th>\n",
       "      <th>length_of_service_binned_8-10</th>\n",
       "      <th>length_of_service_binned_more_than_10</th>\n",
       "      <th>age_binned_less_than_30</th>\n",
       "      <th>age_binned_30-39</th>\n",
       "      <th>age_binned_40-49</th>\n",
       "      <th>age_binned_more_equal_to_50</th>\n",
       "      <th>gender_m</th>\n",
       "    </tr>\n",
       "  </thead>\n",
       "  <tbody>\n",
       "    <tr>\n",
       "      <th>0</th>\n",
       "      <td>3</td>\n",
       "      <td>1</td>\n",
       "      <td>35</td>\n",
       "      <td>5</td>\n",
       "      <td>8</td>\n",
       "      <td>1</td>\n",
       "      <td>0</td>\n",
       "      <td>49</td>\n",
       "      <td>0</td>\n",
       "      <td>16312</td>\n",
       "      <td>...</td>\n",
       "      <td>0</td>\n",
       "      <td>0</td>\n",
       "      <td>0</td>\n",
       "      <td>1</td>\n",
       "      <td>0</td>\n",
       "      <td>0</td>\n",
       "      <td>1</td>\n",
       "      <td>0</td>\n",
       "      <td>0</td>\n",
       "      <td>0</td>\n",
       "    </tr>\n",
       "    <tr>\n",
       "      <th>1</th>\n",
       "      <td>2</td>\n",
       "      <td>1</td>\n",
       "      <td>30</td>\n",
       "      <td>5</td>\n",
       "      <td>4</td>\n",
       "      <td>0</td>\n",
       "      <td>0</td>\n",
       "      <td>60</td>\n",
       "      <td>0</td>\n",
       "      <td>38496</td>\n",
       "      <td>...</td>\n",
       "      <td>0</td>\n",
       "      <td>1</td>\n",
       "      <td>0</td>\n",
       "      <td>0</td>\n",
       "      <td>0</td>\n",
       "      <td>0</td>\n",
       "      <td>1</td>\n",
       "      <td>0</td>\n",
       "      <td>0</td>\n",
       "      <td>1</td>\n",
       "    </tr>\n",
       "    <tr>\n",
       "      <th>2</th>\n",
       "      <td>2</td>\n",
       "      <td>1</td>\n",
       "      <td>34</td>\n",
       "      <td>3</td>\n",
       "      <td>7</td>\n",
       "      <td>0</td>\n",
       "      <td>0</td>\n",
       "      <td>50</td>\n",
       "      <td>0</td>\n",
       "      <td>38496</td>\n",
       "      <td>...</td>\n",
       "      <td>0</td>\n",
       "      <td>0</td>\n",
       "      <td>1</td>\n",
       "      <td>0</td>\n",
       "      <td>0</td>\n",
       "      <td>0</td>\n",
       "      <td>1</td>\n",
       "      <td>0</td>\n",
       "      <td>0</td>\n",
       "      <td>1</td>\n",
       "    </tr>\n",
       "    <tr>\n",
       "      <th>3</th>\n",
       "      <td>2</td>\n",
       "      <td>2</td>\n",
       "      <td>39</td>\n",
       "      <td>1</td>\n",
       "      <td>10</td>\n",
       "      <td>0</td>\n",
       "      <td>0</td>\n",
       "      <td>50</td>\n",
       "      <td>0</td>\n",
       "      <td>38496</td>\n",
       "      <td>...</td>\n",
       "      <td>0</td>\n",
       "      <td>0</td>\n",
       "      <td>0</td>\n",
       "      <td>1</td>\n",
       "      <td>0</td>\n",
       "      <td>0</td>\n",
       "      <td>1</td>\n",
       "      <td>0</td>\n",
       "      <td>0</td>\n",
       "      <td>1</td>\n",
       "    </tr>\n",
       "    <tr>\n",
       "      <th>4</th>\n",
       "      <td>2</td>\n",
       "      <td>1</td>\n",
       "      <td>45</td>\n",
       "      <td>3</td>\n",
       "      <td>2</td>\n",
       "      <td>0</td>\n",
       "      <td>0</td>\n",
       "      <td>73</td>\n",
       "      <td>0</td>\n",
       "      <td>38496</td>\n",
       "      <td>...</td>\n",
       "      <td>1</td>\n",
       "      <td>0</td>\n",
       "      <td>0</td>\n",
       "      <td>0</td>\n",
       "      <td>0</td>\n",
       "      <td>0</td>\n",
       "      <td>0</td>\n",
       "      <td>1</td>\n",
       "      <td>0</td>\n",
       "      <td>1</td>\n",
       "    </tr>\n",
       "  </tbody>\n",
       "</table>\n",
       "<p>5 rows × 37 columns</p>\n",
       "</div>"
      ],
      "text/plain": [
       "   education  no_of_trainings  age  previous_year_rating  length_of_service  \\\n",
       "0          3                1   35                     5                  8   \n",
       "1          2                1   30                     5                  4   \n",
       "2          2                1   34                     3                  7   \n",
       "3          2                2   39                     1                 10   \n",
       "4          2                1   45                     3                  2   \n",
       "\n",
       "   KPIs_met >80%  awards_won?  avg_training_score  is_promoted  gender_count  \\\n",
       "0              1            0                  49            0         16312   \n",
       "1              0            0                  60            0         38496   \n",
       "2              0            0                  50            0         38496   \n",
       "3              0            0                  50            0         38496   \n",
       "4              0            0                  73            0         38496   \n",
       "\n",
       "   ...  length_of_service_binned_0-2  length_of_service_binned_3-5  \\\n",
       "0  ...                             0                             0   \n",
       "1  ...                             0                             1   \n",
       "2  ...                             0                             0   \n",
       "3  ...                             0                             0   \n",
       "4  ...                             1                             0   \n",
       "\n",
       "   length_of_service_binned_5-7  length_of_service_binned_8-10  \\\n",
       "0                             0                              1   \n",
       "1                             0                              0   \n",
       "2                             1                              0   \n",
       "3                             0                              1   \n",
       "4                             0                              0   \n",
       "\n",
       "   length_of_service_binned_more_than_10  age_binned_less_than_30  \\\n",
       "0                                      0                        0   \n",
       "1                                      0                        0   \n",
       "2                                      0                        0   \n",
       "3                                      0                        0   \n",
       "4                                      0                        0   \n",
       "\n",
       "   age_binned_30-39  age_binned_40-49  age_binned_more_equal_to_50  gender_m  \n",
       "0                 1                 0                            0         0  \n",
       "1                 1                 0                            0         1  \n",
       "2                 1                 0                            0         1  \n",
       "3                 1                 0                            0         1  \n",
       "4                 0                 1                            0         1  \n",
       "\n",
       "[5 rows x 37 columns]"
      ]
     },
     "execution_count": 58,
     "metadata": {},
     "output_type": "execute_result"
    }
   ],
   "source": [
    "train.head()"
   ]
  },
  {
   "cell_type": "markdown",
   "metadata": {
    "id": "V7BJcXZpMa_P"
   },
   "source": [
    "Let's try log-transforming skewed variables(avg_training_score and no_of_trainings)."
   ]
  },
  {
   "cell_type": "code",
   "execution_count": 59,
   "metadata": {
    "colab": {
     "base_uri": "https://localhost:8080/"
    },
    "executionInfo": {
     "elapsed": 27021,
     "status": "ok",
     "timestamp": 1601535435181,
     "user": {
      "displayName": "SAHIL MANKAD",
      "photoUrl": "",
      "userId": "01524592176474520459"
     },
     "user_tz": -330
    },
    "id": "F_9Ncp0ePswm",
    "outputId": "c374a06a-36f6-4cbb-f00b-632c4ec89a55"
   },
   "outputs": [
    {
     "data": {
      "text/plain": [
       "<Axes: xlabel='log_no_of_trainings', ylabel='Density'>"
      ]
     },
     "execution_count": 59,
     "metadata": {},
     "output_type": "execute_result"
    },
    {
     "data": {
      "image/png": "[encoded data removed]",
      "text/plain": [
       "<Figure size 1200x600 with 4 Axes>"
      ]
     },
     "metadata": {},
     "output_type": "display_data"
    },
    {
     "data": {
      "image/png": "[encoded data removed]",
      "text/plain": [
       "<Figure size 1200x600 with 4 Axes>"
      ]
     },
     "metadata": {},
     "output_type": "display_data"
    }
   ],
   "source": [
    "train['log_avg_training_score'] = pd.DataFrame(np.log(train['avg_training_score'] * 5+ 100))\n",
    "\n",
    "fig, axes = plt.subplots(nrows =2 , ncols=2, figsize=(12, 6))\n",
    "fig.tight_layout()\n",
    "ax1,ax2,ax3,ax4 = axes[0][0],axes[0][1],axes[1][0],axes[1][1]\n",
    "\n",
    "sns.distplot(train['avg_training_score'], kde = True, bins = 20,ax=ax1)\n",
    "sns.distplot(train['log_avg_training_score'],kde = True, bins = 20,ax=ax2)\n",
    "\n",
    "train['log_no_of_trainings'] = pd.DataFrame(np.log(train['no_of_trainings'] * 5 + 100))\n",
    "\n",
    "fig, axes = plt.subplots(nrows =2 , ncols=2, figsize=(12, 6))\n",
    "fig.tight_layout()\n",
    "ax1,ax2,ax3,ax4 = axes[0][0],axes[0][1],axes[1][0],axes[1][1]\n",
    "\n",
    "sns.distplot(train['no_of_trainings'], kde = True, bins = 20,ax=ax1)\n",
    "sns.distplot(train['log_no_of_trainings'],kde = True, bins = 20,ax=ax2)"
   ]
  },
  {
   "cell_type": "markdown",
   "metadata": {
    "id": "gksfxmcxxBxm"
   },
   "source": [
    "From the above graphs, we can see that using log transform the right skewed variables have normalized to an extent. "
   ]
  },
  {
   "cell_type": "code",
   "execution_count": 60,
   "metadata": {
    "colab": {
     "base_uri": "https://localhost:8080/"
    },
    "executionInfo": {
     "elapsed": 27014,
     "status": "ok",
     "timestamp": 1601535435183,
     "user": {
      "displayName": "SAHIL MANKAD",
      "photoUrl": "",
      "userId": "01524592176474520459"
     },
     "user_tz": -330
    },
    "id": "vSv6aa1ysWZU",
    "outputId": "555f5bc6-d972-42b7-a3d7-84a3f5d808ba"
   },
   "outputs": [
    {
     "data": {
      "text/plain": [
       "['no_of_trainings',\n",
       " 'age',\n",
       " 'previous_year_rating',\n",
       " 'length_of_service',\n",
       " 'avg_training_score',\n",
       " 'gender_count',\n",
       " 'region_count',\n",
       " 'department_count',\n",
       " 'recruitment_channel_count']"
      ]
     },
     "execution_count": 60,
     "metadata": {},
     "output_type": "execute_result"
    }
   ],
   "source": [
    "num_cols"
   ]
  },
  {
   "cell_type": "code",
   "execution_count": 61,
   "metadata": {
    "colab": {
     "base_uri": "https://localhost:8080/"
    },
    "executionInfo": {
     "elapsed": 27008,
     "status": "ok",
     "timestamp": 1601535435185,
     "user": {
      "displayName": "SAHIL MANKAD",
      "photoUrl": "",
      "userId": "01524592176474520459"
     },
     "user_tz": -330
    },
    "id": "fAJH_fcEVm5F",
    "outputId": "597a1e42-7d2f-40d0-d9bc-5df77da3b0df"
   },
   "outputs": [
    {
     "name": "stdout",
     "output_type": "stream",
     "text": [
      "['age', 'previous_year_rating', 'length_of_service', 'gender_count', 'region_count', 'department_count', 'recruitment_channel_count', 'log_no_of_trainings', 'log_avg_training_score']\n"
     ]
    }
   ],
   "source": [
    "to_add = ['log_no_of_trainings','log_avg_training_score']\n",
    "to_drop = ['no_of_trainings','avg_training_score']\n",
    "train.drop(to_drop,axis=1,inplace=True)\n",
    "\n",
    "# changing num_cols values\n",
    "for col in to_drop:\n",
    "  num_cols.remove(col)\n",
    "\n",
    "for col in to_add:\n",
    "  num_cols.append(col)\n",
    "\n",
    "print(num_cols)"
   ]
  },
  {
   "cell_type": "code",
   "execution_count": 62,
   "metadata": {
    "colab": {
     "base_uri": "https://localhost:8080/"
    },
    "executionInfo": {
     "elapsed": 27002,
     "status": "ok",
     "timestamp": 1601535435185,
     "user": {
      "displayName": "SAHIL MANKAD",
      "photoUrl": "",
      "userId": "01524592176474520459"
     },
     "user_tz": -330
    },
    "id": "__pvijJRhgCJ",
    "outputId": "4d7ef288-63d9-4bf3-cb6d-3364619dbf2f"
   },
   "outputs": [
    {
     "data": {
      "text/plain": [
       "age                          0\n",
       "previous_year_rating         0\n",
       "length_of_service            0\n",
       "gender_count                 0\n",
       "region_count                 0\n",
       "department_count             0\n",
       "recruitment_channel_count    0\n",
       "log_no_of_trainings          0\n",
       "log_avg_training_score       0\n",
       "dtype: int64"
      ]
     },
     "execution_count": 62,
     "metadata": {},
     "output_type": "execute_result"
    }
   ],
   "source": [
    "train[num_cols].isnull().sum()"
   ]
  },
  {
   "cell_type": "markdown",
   "metadata": {
    "id": "ZmXb8WG8-Mrp"
   },
   "source": [
    "# Splitting and Normalizing the data\n"
   ]
  },
  {
   "cell_type": "code",
   "execution_count": 63,
   "metadata": {
    "id": "_uXZPrcOKcI6"
   },
   "outputs": [],
   "source": [
    "## shuffle the DataFrame rows \n",
    "train = train.sample(frac = 1,random_state=100)"
   ]
  },
  {
   "cell_type": "markdown",
   "metadata": {
    "id": "9oFzBAcXz6JE"
   },
   "source": [
    "Train:Test:Valid will be divided into 60:20:20 ratio"
   ]
  },
  {
   "cell_type": "code",
   "execution_count": 64,
   "metadata": {
    "id": "by6xquXa9UJH"
   },
   "outputs": [],
   "source": [
    "X = train.drop([target],axis=1)\n",
    "y = train[target]\n",
    "\n",
    "#saving column names\n",
    "columns = X.columns\n",
    "\n",
    "#divide into train-valid and test sets\n",
    "X_train,X_test,y_train,y_test = train_test_split(X,y, random_state = 101, stratify=y,test_size=0.2)\n",
    "\n",
    "#divide into train and valid sets\n",
    "X_train,X_valid,y_train,y_valid = train_test_split(X_train,y_train, random_state = 101, stratify=y_train,test_size=0.25)"
   ]
  },
  {
   "cell_type": "code",
   "execution_count": 66,
   "metadata": {
    "id": "chdLdLYMlF_n"
   },
   "outputs": [],
   "source": [
    "#retaining copy of old data\n",
    "X_train_old = X_train.copy()\n",
    "X_test_old = X_test.copy()\n",
    "X_valid_old = X_valid.copy()\n",
    "X_train[num_cols] = ut.min_max_normalization(X_train[num_cols])\n",
    "X_test[num_cols] = ut.min_max_normalization(X_test[num_cols])\n",
    "X_valid[num_cols] = ut.min_max_normalization(X_valid[num_cols])"
   ]
  },
  {
   "cell_type": "code",
   "execution_count": 67,
   "metadata": {
    "colab": {
     "base_uri": "https://localhost:8080/"
    },
    "executionInfo": {
     "elapsed": 27589,
     "status": "ok",
     "timestamp": 1601535435792,
     "user": {
      "displayName": "SAHIL MANKAD",
      "photoUrl": "",
      "userId": "01524592176474520459"
     },
     "user_tz": -330
    },
    "id": "HW0W1i2Fd0i6",
    "outputId": "4603e81c-5acd-4e99-e66a-38e3fb2bcf6c"
   },
   "outputs": [
    {
     "data": {
      "text/plain": [
       "((32884, 36), (10962, 36), (10962, 36))"
      ]
     },
     "execution_count": 67,
     "metadata": {},
     "output_type": "execute_result"
    }
   ],
   "source": [
    "X_train.shape,X_test.shape,X_valid.shape"
   ]
  },
  {
   "cell_type": "markdown",
   "metadata": {},
   "source": [
    "Pickle files can be loaded from pickle files folder. One can enter the path accordingly"
   ]
  },
  {
   "cell_type": "code",
   "execution_count": 68,
   "metadata": {
    "id": "HPSYqqit8q-3"
   },
   "outputs": [],
   "source": [
    "# Uncomment to save above processed data, one can change filepath for dumping data\n",
    "\n",
    "# filename = 'X_train.sav'\n",
    "# pickle.dump(X_train, open(filename, 'wb'))\n",
    "\n",
    "# filename = 'X_test.sav'\n",
    "# pickle.dump(X_test, open(filename, 'wb'))\n",
    "\n",
    "# filename = 'X_valid.sav'\n",
    "# pickle.dump(X_valid, open(filename, 'wb'))\n",
    "\n",
    "# filename = 'y_train.sav'\n",
    "# pickle.dump(y_train, open(filename, 'wb'))\n",
    "\n",
    "# filename = 'y_test.sav'\n",
    "# pickle.dump(y_test, open(filename, 'wb'))\n",
    "\n",
    "# filename = 'y_valid.sav'\n",
    "# pickle.dump(y_valid, open(filename, 'wb'))"
   ]
  },
  {
   "cell_type": "markdown",
   "metadata": {
    "id": "qumm-51519yx"
   },
   "source": [
    "# Model Selection\n"
   ]
  },
  {
   "cell_type": "markdown",
   "metadata": {
    "id": "C6tSkb0o--W-"
   },
   "source": [
    "If the difference between 2 classes is large, it's an imbalanced dataset."
   ]
  },
  {
   "cell_type": "code",
   "execution_count": 69,
   "metadata": {
    "colab": {
     "base_uri": "https://localhost:8080/",
     "height": 68
    },
    "executionInfo": {
     "elapsed": 28213,
     "status": "ok",
     "timestamp": 1601451210300,
     "user": {
      "displayName": "SAHIL MANKAD",
      "photoUrl": "",
      "userId": "01524592176474520459"
     },
     "user_tz": -330
    },
    "id": "svHfT6_6-7BU",
    "outputId": "e9adf68e-30c2-431c-9c74-4c1c349a802e"
   },
   "outputs": [
    {
     "data": {
      "text/plain": [
       "is_promoted\n",
       "0    91.482995\n",
       "1     8.517005\n",
       "Name: proportion, dtype: float64"
      ]
     },
     "execution_count": 69,
     "metadata": {},
     "output_type": "execute_result"
    }
   ],
   "source": [
    "train[target].value_counts(normalize=True) * 100"
   ]
  },
  {
   "cell_type": "markdown",
   "metadata": {
    "id": "MNabz7Cc4csl"
   },
   "source": [
    "Performing cross-validation to evaluate accuracy for different models.\n",
    "\n",
    "0    91.482995\n",
    "\n",
    "1     8.517005\n",
    "\n",
    "Name: is_promoted, dtype: float64"
   ]
  },
  {
   "cell_type": "markdown",
   "metadata": {
    "id": "XzswFtA9FpKs"
   },
   "source": [
    "We will use the f1 score to calculate the model performance, since avoiding both false positive(undeserving promotion) and false negatives(deserving employees not getting promoted) are equally improtant and we need a trade-off between precision and recall."
   ]
  },
  {
   "cell_type": "markdown",
   "metadata": {},
   "source": [
    "Pickle files can be dumped into pickle files folder. One can enter the path accordingly"
   ]
  },
  {
   "cell_type": "code",
   "execution_count": 70,
   "metadata": {
    "colab": {
     "base_uri": "https://localhost:8080/",
     "height": 629
    },
    "executionInfo": {
     "elapsed": 373264,
     "status": "ok",
     "timestamp": 1601462782565,
     "user": {
      "displayName": "SAHIL MANKAD",
      "photoUrl": "",
      "userId": "01524592176474520459"
     },
     "user_tz": -330
    },
    "id": "2gxMbKFmz5Gm",
    "outputId": "80c3bc18-43cd-45d1-b3e3-1d3501c91d85"
   },
   "outputs": [
    {
     "name": "stdout",
     "output_type": "stream",
     "text": [
      "Name:  ComplementNB\n",
      "Score:  0.5434514402295171\n",
      "Name:  LGBMClassifier\n",
      "Score:  0.734660181232093\n",
      "Name:  CatBoostClassifier\n",
      "Score:  0.7385740622867037\n",
      "Name:  LogisticRegression\n",
      "Score:  0.6144206687691252\n",
      "Name:  DecisionTreeClassifier\n",
      "Score:  0.6853146650643582\n",
      "Name:  SVC\n",
      "Score:  0.5917618292149386\n",
      "Name:  RandomForestClassifier\n",
      "Score:  0.6900413456908074\n",
      "Name:  AdaBoostClassifier\n",
      "Score:  0.6242053994148882\n",
      "Name:  XGBClassifier\n",
      "Score:  0.6036435543012983\n",
      "Name:  ComplementNB\n",
      "Score:  0.5408190452544916\n",
      "Name:  LGBMClassifier\n",
      "Score:  0.7248616463942555\n",
      "Name:  CatBoostClassifier\n",
      "Score:  0.7282808699088363\n",
      "Name:  LogisticRegression\n",
      "Score:  0.6074909483988847\n",
      "Name:  DecisionTreeClassifier\n",
      "Score:  0.681059822727611\n",
      "Name:  SVC\n",
      "Score:  0.5897048194625261\n",
      "Name:  RandomForestClassifier\n",
      "Score:  0.6504344849882735\n",
      "Name:  AdaBoostClassifier\n",
      "Score:  0.6248917031720144\n",
      "Name:  XGBClassifier\n",
      "Score:  0.6380994056195284\n"
     ]
    }
   ],
   "source": [
    "results = ut.check_clf(X_train,y_train,'f1_macro')\n",
    "\n",
    "filename = 'train_cv_results.sav'\n",
    "pickle.dump(results, open(filename, 'wb'))\n",
    "\n",
    "results = ut.check_clf(X_valid,y_valid,'f1_macro')\n",
    "\n",
    "filename = 'valid_cv_results.sav'\n",
    "pickle.dump(results, open(filename, 'wb'))"
   ]
  },
  {
   "cell_type": "markdown",
   "metadata": {
    "id": "k6eKfFs64ZEJ"
   },
   "source": [
    "LGBM and Catboost are the 2 best performing algorithms on train and validation set. We'll try the 2 of them individually and then combine them to form an ensemble model. "
   ]
  },
  {
   "cell_type": "markdown",
   "metadata": {
    "id": "lOXR3jHBTCkc"
   },
   "source": [
    "# Loading Train,Test and Valid sets"
   ]
  },
  {
   "cell_type": "markdown",
   "metadata": {},
   "source": [
    "Pickle files can be loaded from pickle files folder. One can enter the path accordingly"
   ]
  },
  {
   "cell_type": "code",
   "execution_count": 71,
   "metadata": {
    "executionInfo": {
     "elapsed": 18023,
     "status": "ok",
     "timestamp": 1603691971171,
     "user": {
      "displayName": "SAHIL MANKAD",
      "photoUrl": "",
      "userId": "01524592176474520459"
     },
     "user_tz": -330
    },
    "id": "K_FTKkRmTFXN"
   },
   "outputs": [],
   "source": [
    "#Uncomment when you need to load data directly\n",
    "\n",
    "# filename = 'X_train.sav'\n",
    "# X_train = pickle.load(open(filename, 'rb'))\n",
    "\n",
    "# filename = 'X_test.sav'\n",
    "# X_test = pickle.load(open(filename, 'rb'))\n",
    "\n",
    "# filename = 'X_valid.sav'\n",
    "# X_valid = pickle.load(open(filename, 'rb'))\n",
    "\n",
    "# filename = 'y_train.sav'\n",
    "# y_train = pickle.load(open(filename, 'rb'))\n",
    "\n",
    "# filename = 'y_test.sav'\n",
    "# y_test = pickle.load(open(filename, 'rb'))\n",
    "\n",
    "# filename = 'y_valid.sav'\n",
    "# y_valid = pickle.load(open(filename, 'rb'))"
   ]
  },
  {
   "cell_type": "markdown",
   "metadata": {
    "id": "LreB3ABr9BE-"
   },
   "source": [
    "# Note: The model will be trained on train dataset and then validated on validation dataset. The test set will be used to compare performance with validation set to see if we haven't overfitted on validation set. Our goal is to keep the performance almost similar on all 3 sets, to ensure a better generalized model."
   ]
  },
  {
   "cell_type": "markdown",
   "metadata": {
    "id": "hy2jpozuEsPw"
   },
   "source": [
    "# Catboost"
   ]
  },
  {
   "cell_type": "code",
   "execution_count": 78,
   "metadata": {
    "colab": {
     "base_uri": "https://localhost:8080/",
     "height": 629
    },
    "executionInfo": {
     "elapsed": 19637,
     "status": "ok",
     "timestamp": 1601536957076,
     "user": {
      "displayName": "SAHIL MANKAD",
      "photoUrl": "",
      "userId": "01524592176474520459"
     },
     "user_tz": -330
    },
    "id": "iIHF7oY9EuVT",
    "outputId": "97bb4460-98ad-404f-e079-2850af5c9f2c"
   },
   "outputs": [
    {
     "name": "stdout",
     "output_type": "stream",
     "text": [
      "Training score:  0.7814381086603348\n",
      "valid score:  0.736753441923599\n",
      "test score:  0.7273661313080136\n",
      "\n",
      " For train set \n",
      "\n",
      "Actual value counts\n",
      "0    30084\n",
      "1     2800\n",
      "Name: count, dtype: int64\n",
      "Predicted value counts\n",
      "0    31687\n",
      "1     1197\n",
      "Name: count, dtype: int64\n",
      "\n",
      " For validation set \n",
      "\n",
      "Actual value counts\n",
      "0    10028\n",
      "1      934\n",
      "Name: count, dtype: int64\n",
      "Predicted value counts\n",
      "0    10600\n",
      "1      362\n",
      "Name: count, dtype: int64\n",
      "\n",
      " For test set \n",
      "\n",
      "Actual value counts\n",
      "0    10028\n",
      "1      934\n",
      "Name: count, dtype: int64\n",
      "Predicted value counts\n",
      "0    10633\n",
      "1      329\n",
      "Name: count, dtype: int64\n"
     ]
    }
   ],
   "source": [
    "clf = CatBoostClassifier(verbose=0)\n",
    "y_train_pred,y_valid_pred,y_test_pred = ut.check_clf_score(clf,X_train, y_train.values, X_valid, y_valid.values, X_test,y_test.values)"
   ]
  },
  {
   "cell_type": "code",
   "execution_count": 79,
   "metadata": {
    "id": "lm6uDwo7jPI0"
   },
   "outputs": [],
   "source": [
    "params = {'depth':[3,1,2,6,4,5,7,8,9,10],\n",
    "          'iterations':[250,100,500,1000], \n",
    "          'learning_rate':[0.03,0.001,0.01,0.1,0.2,0.3], \n",
    "          'l2_leaf_reg':[3,1,5,10,100], \n",
    "          'border_count':[32,5,10,20,50,100,200]}\n",
    "\n",
    "clf = CatBoostClassifier(verbose=0)\n",
    "catboost_params = ut.random_search(clf,params,'catboost',80, X_train,y_train)"
   ]
  },
  {
   "cell_type": "code",
   "execution_count": 81,
   "metadata": {
    "colab": {
     "base_uri": "https://localhost:8080/",
     "height": 34
    },
    "executionInfo": {
     "elapsed": 6223,
     "status": "ok",
     "timestamp": 1603470823437,
     "user": {
      "displayName": "SAHIL MANKAD",
      "photoUrl": "",
      "userId": "01524592176474520459"
     },
     "user_tz": -330
    },
    "id": "nyURZguszU_m",
    "outputId": "1a8bad96-bac6-43ee-acfc-3f18ce946c8d"
   },
   "outputs": [
    {
     "name": "stdout",
     "output_type": "stream",
     "text": [
      "{'learning_rate': 0.3, 'l2_leaf_reg': 3, 'iterations': 100, 'depth': 4, 'border_count': 100}\n"
     ]
    }
   ],
   "source": [
    "filename = 'catboost_best_params.sav'\n",
    "catboost_params = pickle.load(open(filename, 'rb'))\n",
    "print(catboost_params)"
   ]
  },
  {
   "cell_type": "code",
   "execution_count": 82,
   "metadata": {
    "colab": {
     "base_uri": "https://localhost:8080/",
     "height": 629
    },
    "executionInfo": {
     "elapsed": 15100,
     "status": "ok",
     "timestamp": 1601537068268,
     "user": {
      "displayName": "SAHIL MANKAD",
      "photoUrl": "",
      "userId": "01524592176474520459"
     },
     "user_tz": -330
    },
    "id": "OveI-92ay6Dx",
    "outputId": "1aefe293-2f67-4430-c969-2dbf864b015e"
   },
   "outputs": [
    {
     "name": "stdout",
     "output_type": "stream",
     "text": [
      "Training score:  0.7483263494165266\n",
      "valid score:  0.7384244093381395\n",
      "test score:  0.7272348762104472\n",
      "\n",
      " For train set \n",
      "\n",
      "Actual value counts\n",
      "0    30084\n",
      "1     2800\n",
      "Name: count, dtype: int64\n",
      "Predicted value counts\n",
      "0    31844\n",
      "1     1040\n",
      "Name: count, dtype: int64\n",
      "\n",
      " For validation set \n",
      "\n",
      "Actual value counts\n",
      "0    10028\n",
      "1      934\n",
      "Name: count, dtype: int64\n",
      "Predicted value counts\n",
      "0    10615\n",
      "1      347\n",
      "Name: count, dtype: int64\n",
      "\n",
      " For test set \n",
      "\n",
      "Actual value counts\n",
      "0    10028\n",
      "1      934\n",
      "Name: count, dtype: int64\n",
      "Predicted value counts\n",
      "0    10644\n",
      "1      318\n",
      "Name: count, dtype: int64\n"
     ]
    }
   ],
   "source": [
    "clf = CatBoostClassifier(verbose=0,**catboost_params)\n",
    "y_train_pred,y_valid_pred,y_test_pred = ut.check_clf_score(clf, X_train, y_train.values, X_valid, y_valid.values, X_test,y_test.values)"
   ]
  },
  {
   "cell_type": "code",
   "execution_count": 83,
   "metadata": {
    "id": "Prq728RCVNNh"
   },
   "outputs": [],
   "source": [
    "#save columns selected, since we selected all columns, we'll save the columns variables selected earlier\n",
    "filename = 'columns_selected'\n",
    "pickle.dump(columns, open(filename, 'wb'))"
   ]
  },
  {
   "cell_type": "markdown",
   "metadata": {
    "id": "qHu3SQNLRYkQ"
   },
   "source": [
    "## F1 score optimization"
   ]
  },
  {
   "cell_type": "code",
   "execution_count": 84,
   "metadata": {
    "colab": {
     "base_uri": "https://localhost:8080/",
     "height": 221
    },
    "executionInfo": {
     "elapsed": 10854,
     "status": "ok",
     "timestamp": 1603470941506,
     "user": {
      "displayName": "SAHIL MANKAD",
      "photoUrl": "",
      "userId": "01524592176474520459"
     },
     "user_tz": -330
    },
    "id": "eBOD8zfA580k",
    "outputId": "8505a914-b1ef-4b78-be9a-1f2f6cc0cc33"
   },
   "outputs": [
    {
     "name": "stdout",
     "output_type": "stream",
     "text": [
      "0:\tlearn: 0.4322038\ttest: 0.4327398\tbest: 0.4327398 (0)\ttotal: 41.6ms\tremaining: 4.11s\n",
      "99:\tlearn: 0.1527247\ttest: 0.1657205\tbest: 0.1656300 (86)\ttotal: 4.98s\tremaining: 0us\n",
      "\n",
      "bestTest = 0.1656300482\n",
      "bestIteration = 86\n",
      "\n",
      "Shrink model to first 87 iterations.\n"
     ]
    }
   ],
   "source": [
    "clf = CatBoostClassifier(verbose=0,**catboost_params)\n",
    "fit_params = {'verbose': 100, 'early_stopping_rounds': 100}\n",
    "y_train_pred, y_valid_pred = ut.run_gradient_boosting(clf, fit_params, X_train,y_train,X_valid,y_valid)"
   ]
  },
  {
   "cell_type": "code",
   "execution_count": 85,
   "metadata": {
    "colab": {
     "base_uri": "https://localhost:8080/",
     "height": 438
    },
    "executionInfo": {
     "elapsed": 14460,
     "status": "ok",
     "timestamp": 1603470958553,
     "user": {
      "displayName": "SAHIL MANKAD",
      "photoUrl": "",
      "userId": "01524592176474520459"
     },
     "user_tz": -330
    },
    "id": "66k6Kg18uAcR",
    "outputId": "e9089871-0af9-4adf-f00f-da9be8d3991b"
   },
   "outputs": [
    {
     "name": "stdout",
     "output_type": "stream",
     "text": [
      "Best Threshold:  0.26\n",
      "Best Score:  0.07846653962560252\n"
     ]
    },
    {
     "data": {
      "image/png": "[encoded data removed]",
      "text/plain": [
       "<Figure size 1000x600 with 1 Axes>"
      ]
     },
     "metadata": {},
     "output_type": "display_data"
    }
   ],
   "source": [
    "ut.get_optimal_f1_thresh(y_train.values, y_train_pred)"
   ]
  },
  {
   "cell_type": "code",
   "execution_count": 86,
   "metadata": {
    "colab": {
     "base_uri": "https://localhost:8080/",
     "height": 433
    },
    "executionInfo": {
     "elapsed": 8393,
     "status": "ok",
     "timestamp": 1603470959347,
     "user": {
      "displayName": "SAHIL MANKAD",
      "photoUrl": "",
      "userId": "01524592176474520459"
     },
     "user_tz": -330
    },
    "id": "Il0qB-Xf0-i8",
    "outputId": "99b583e3-6711-43d1-9a78-8f6ddb5bf6af"
   },
   "outputs": [
    {
     "name": "stdout",
     "output_type": "stream",
     "text": [
      "Best Threshold:  0.4\n",
      "Best Score:  0.0785137861466039\n"
     ]
    },
    {
     "data": {
      "image/png": "[encoded data removed]",
      "text/plain": [
       "<Figure size 1000x600 with 1 Axes>"
      ]
     },
     "metadata": {},
     "output_type": "display_data"
    }
   ],
   "source": [
    "ut.get_optimal_f1_thresh(y_valid.values, y_valid_pred)"
   ]
  },
  {
   "cell_type": "markdown",
   "metadata": {
    "id": "PgyOExLnU3mp"
   },
   "source": [
    "Looking at the graphs above, we can select 0.25 as optimal threshold "
   ]
  },
  {
   "cell_type": "code",
   "execution_count": 87,
   "metadata": {},
   "outputs": [
    {
     "name": "stdout",
     "output_type": "stream",
     "text": [
      "0.7668024926572777\n"
     ]
    }
   ],
   "source": [
    "y_train_pred =  clf.predict_proba(X_train)[:, 1]\n",
    "optimal_thresh = 0.25\n",
    "y_train_pred_rounded = (y_train_pred > optimal_thresh) * 1\n",
    "train_score = f1_score(y_train.values, y_train_pred_rounded, average='macro')\n",
    "print(train_score)"
   ]
  },
  {
   "cell_type": "code",
   "execution_count": 88,
   "metadata": {},
   "outputs": [
    {
     "name": "stdout",
     "output_type": "stream",
     "text": [
      "0.7337506990617038\n"
     ]
    }
   ],
   "source": [
    "y_valid_pred =  clf.predict_proba(X_valid)[:, 1]\n",
    "optimal_thresh = 0.25\n",
    "y_valid_pred_rounded = (y_valid_pred > optimal_thresh) * 1\n",
    "valid_score = f1_score(y_valid.values, y_valid_pred_rounded, average='macro')\n",
    "print(valid_score)"
   ]
  },
  {
   "cell_type": "code",
   "execution_count": 89,
   "metadata": {
    "id": "vuoUrkzQ-E3N"
   },
   "outputs": [
    {
     "name": "stdout",
     "output_type": "stream",
     "text": [
      "0.7378065304205811\n"
     ]
    }
   ],
   "source": [
    "y_test_pred =  clf.predict_proba(X_test)[:, 1]\n",
    "optimal_thresh = 0.25\n",
    "y_test_pred_rounded = (y_test_pred > optimal_thresh) * 1\n",
    "test_score = f1_score(y_test.values, y_test_pred_rounded, average='macro')\n",
    "print(test_score)"
   ]
  },
  {
   "cell_type": "markdown",
   "metadata": {
    "id": "qwGZ0sEEWWYp"
   },
   "source": [
    "The train,test and valid scores are all between 0.73 and 0.77. Therefore, we can say that the proper parameters have been selected."
   ]
  },
  {
   "cell_type": "markdown",
   "metadata": {
    "id": "SggMnffw-otC"
   },
   "source": [
    "# LightGBM\n"
   ]
  },
  {
   "cell_type": "code",
   "execution_count": 90,
   "metadata": {
    "colab": {
     "base_uri": "https://localhost:8080/",
     "height": 629
    },
    "executionInfo": {
     "elapsed": 2128,
     "status": "ok",
     "timestamp": 1603436718170,
     "user": {
      "displayName": "SAHIL MANKAD",
      "photoUrl": "",
      "userId": "01524592176474520459"
     },
     "user_tz": -330
    },
    "id": "D1tKaQJv6cS0",
    "outputId": "30d7021c-80f0-4f7d-8d0c-57fbb82a4f85"
   },
   "outputs": [
    {
     "name": "stdout",
     "output_type": "stream",
     "text": [
      "[LightGBM] [Warning] Found whitespace in feature_names, replace with underlines\n",
      "[LightGBM] [Info] Number of positive: 2800, number of negative: 30084\n",
      "[LightGBM] [Info] Auto-choosing row-wise multi-threading, the overhead of testing was 0.011677 seconds.\n",
      "You can set `force_row_wise=true` to remove the overhead.\n",
      "And if memory is not enough, you can set `force_col_wise=true`.\n",
      "[LightGBM] [Info] Total Bins 254\n",
      "[LightGBM] [Info] Number of data points in the train set: 32884, number of used features: 36\n",
      "[LightGBM] [Info] [binary:BoostFromScore]: pavg=0.500000 -> initscore=-0.000000\n",
      "[LightGBM] [Info] Start training from score -0.000000\n",
      "Training score:  0.6590041638990993\n",
      "valid score:  0.6207629431154338\n",
      "test score:  0.6212455944698336\n",
      "\n",
      " For train set \n",
      "\n",
      "Actual value counts\n",
      "0    30084\n",
      "1     2800\n",
      "Name: count, dtype: int64\n",
      "Predicted value counts\n",
      "0    23514\n",
      "1     9370\n",
      "Name: count, dtype: int64\n",
      "\n",
      " For validation set \n",
      "\n",
      "Actual value counts\n",
      "0    10028\n",
      "1      934\n",
      "Name: count, dtype: int64\n",
      "Predicted value counts\n",
      "0    7686\n",
      "1    3276\n",
      "Name: count, dtype: int64\n",
      "\n",
      " For test set \n",
      "\n",
      "Actual value counts\n",
      "0    10028\n",
      "1      934\n",
      "Name: count, dtype: int64\n",
      "Predicted value counts\n",
      "0    7760\n",
      "1    3202\n",
      "Name: count, dtype: int64\n"
     ]
    }
   ],
   "source": [
    "clf = LGBMClassifier(class_weight='balanced')\n",
    "y_train_pred,y_valid_pred,y_test_pred = ut.check_clf_score(clf, X_train, y_train.values, X_valid, y_valid.values, X_test,y_test.values)"
   ]
  },
  {
   "cell_type": "markdown",
   "metadata": {
    "id": "LXBnXiQ7FlmG"
   },
   "source": [
    "## Hyperparameter Tuning"
   ]
  },
  {
   "cell_type": "code",
   "execution_count": 91,
   "metadata": {
    "id": "qpiXSQ3QFpC7"
   },
   "outputs": [],
   "source": [
    "params = {\n",
    "    'boosting_type':['gbdt','dart','rf'],\n",
    "    'n_estimators': [250,500],\n",
    "    'num_leaves': [100,150],\n",
    "    'learning_rate': [0.01,0.1,0.5,1],\n",
    "    'max_depth': [10,12],\n",
    "    'colsample_bytree':[0.5,0.75,1],\n",
    "    'bagging_freq': [2,5,8],\n",
    "    'bagging_fraction': [0.25,0.5,0.75,1],\n",
    "    'lambda_l2': [0.5,0.6,0.7] \n",
    "}"
   ]
  },
  {
   "cell_type": "code",
   "execution_count": 92,
   "metadata": {
    "id": "sQRaIh5YGEnT"
   },
   "outputs": [
    {
     "name": "stdout",
     "output_type": "stream",
     "text": [
      "[LightGBM] [Warning] lambda_l2 is set=0.5, reg_lambda=0.0 will be ignored. Current value: lambda_l2=0.5\n",
      "[LightGBM] [Warning] bagging_fraction is set=1, subsample=1.0 will be ignored. Current value: bagging_fraction=1\n",
      "[LightGBM] [Warning] bagging_freq is set=5, subsample_freq=0 will be ignored. Current value: bagging_freq=5\n",
      "[LightGBM] [Warning] Found whitespace in feature_names, replace with underlines\n",
      "[LightGBM] [Warning] lambda_l2 is set=0.5, reg_lambda=0.0 will be ignored. Current value: lambda_l2=0.5\n",
      "[LightGBM] [Warning] bagging_fraction is set=1, subsample=1.0 will be ignored. Current value: bagging_fraction=1\n",
      "[LightGBM] [Warning] bagging_freq is set=5, subsample_freq=0 will be ignored. Current value: bagging_freq=5\n",
      "[LightGBM] [Info] Number of positive: 2800, number of negative: 30084\n",
      "[LightGBM] [Info] Auto-choosing row-wise multi-threading, the overhead of testing was 0.021340 seconds.\n",
      "You can set `force_row_wise=true` to remove the overhead.\n",
      "And if memory is not enough, you can set `force_col_wise=true`.\n",
      "[LightGBM] [Info] Total Bins 254\n",
      "[LightGBM] [Info] Number of data points in the train set: 32884, number of used features: 36\n",
      "[LightGBM] [Info] [binary:BoostFromScore]: pavg=0.500000 -> initscore=-0.000000\n",
      "[LightGBM] [Info] Start training from score -0.000000\n",
      "[LightGBM] [Warning] No further splits with positive gain, best gain: -inf\n",
      "[LightGBM] [Warning] No further splits with positive gain, best gain: -inf\n",
      "[LightGBM] [Warning] No further splits with positive gain, best gain: -inf\n",
      "[LightGBM] [Warning] No further splits with positive gain, best gain: -inf\n",
      "[LightGBM] [Warning] No further splits with positive gain, best gain: -inf\n",
      "[LightGBM] [Warning] No further splits with positive gain, best gain: -inf\n",
      "[LightGBM] [Warning] No further splits with positive gain, best gain: -inf\n",
      "[LightGBM] [Warning] No further splits with positive gain, best gain: -inf\n",
      "[LightGBM] [Warning] No further splits with positive gain, best gain: -inf\n",
      "[LightGBM] [Warning] No further splits with positive gain, best gain: -inf\n",
      "[LightGBM] [Warning] No further splits with positive gain, best gain: -inf\n",
      "[LightGBM] [Warning] No further splits with positive gain, best gain: -inf\n",
      "[LightGBM] [Warning] No further splits with positive gain, best gain: -inf\n",
      "[LightGBM] [Warning] No further splits with positive gain, best gain: -inf\n",
      "[LightGBM] [Warning] No further splits with positive gain, best gain: -inf\n",
      "[LightGBM] [Warning] No further splits with positive gain, best gain: -inf\n",
      "[LightGBM] [Warning] No further splits with positive gain, best gain: -inf\n",
      "[LightGBM] [Warning] No further splits with positive gain, best gain: -inf\n",
      "[LightGBM] [Warning] No further splits with positive gain, best gain: -inf\n",
      "[LightGBM] [Warning] No further splits with positive gain, best gain: -inf\n",
      "[LightGBM] [Warning] No further splits with positive gain, best gain: -inf\n",
      "[LightGBM] [Warning] No further splits with positive gain, best gain: -inf\n",
      "[LightGBM] [Warning] No further splits with positive gain, best gain: -inf\n",
      "[LightGBM] [Warning] No further splits with positive gain, best gain: -inf\n",
      "[LightGBM] [Warning] No further splits with positive gain, best gain: -inf\n",
      "[LightGBM] [Warning] No further splits with positive gain, best gain: -inf\n",
      "[LightGBM] [Warning] No further splits with positive gain, best gain: -inf\n",
      "[LightGBM] [Warning] No further splits with positive gain, best gain: -inf\n",
      "[LightGBM] [Warning] No further splits with positive gain, best gain: -inf\n",
      "[LightGBM] [Warning] No further splits with positive gain, best gain: -inf\n"
     ]
    }
   ],
   "source": [
    "clf = LGBMClassifier(class_weight='balanced')\n",
    "y_train = y_train.astype('int')\n",
    "lgbm_params = ut.random_search(clf,params,'lgbm',25,X_train,y_train)"
   ]
  },
  {
   "cell_type": "code",
   "execution_count": 94,
   "metadata": {
    "colab": {
     "base_uri": "https://localhost:8080/",
     "height": 34
    },
    "executionInfo": {
     "elapsed": 2411,
     "status": "ok",
     "timestamp": 1603618879920,
     "user": {
      "displayName": "SAHIL MANKAD",
      "photoUrl": "",
      "userId": "01524592176474520459"
     },
     "user_tz": -330
    },
    "id": "UA-VXrNOGZQU",
    "outputId": "799d5998-7403-47b0-c259-508a26973b4e"
   },
   "outputs": [
    {
     "name": "stdout",
     "output_type": "stream",
     "text": [
      "{'num_leaves': 150, 'n_estimators': 500, 'max_depth': 12, 'learning_rate': 0.5, 'lambda_l2': 0.5, 'colsample_bytree': 1, 'boosting_type': 'dart', 'bagging_freq': 5, 'bagging_fraction': 1}\n"
     ]
    }
   ],
   "source": [
    "filename = 'lgbm_best_params.sav'\n",
    "lgbm_params = pickle.load(open(filename, 'rb'))\n",
    "print(lgbm_params)"
   ]
  },
  {
   "cell_type": "code",
   "execution_count": 95,
   "metadata": {
    "colab": {
     "base_uri": "https://localhost:8080/",
     "height": 629
    },
    "executionInfo": {
     "elapsed": 2124747,
     "status": "ok",
     "timestamp": 1603438840804,
     "user": {
      "displayName": "SAHIL MANKAD",
      "photoUrl": "",
      "userId": "01524592176474520459"
     },
     "user_tz": -330
    },
    "id": "762_h-3TIVL0",
    "outputId": "1f718afb-a97a-47f5-cb8c-a1ea79dd4340"
   },
   "outputs": [
    {
     "name": "stdout",
     "output_type": "stream",
     "text": [
      "[LightGBM] [Warning] lambda_l2 is set=0.5, reg_lambda=0.0 will be ignored. Current value: lambda_l2=0.5\n",
      "[LightGBM] [Warning] bagging_fraction is set=1, subsample=1.0 will be ignored. Current value: bagging_fraction=1\n",
      "[LightGBM] [Warning] bagging_freq is set=5, subsample_freq=0 will be ignored. Current value: bagging_freq=5\n",
      "[LightGBM] [Warning] Found whitespace in feature_names, replace with underlines\n",
      "[LightGBM] [Warning] lambda_l2 is set=0.5, reg_lambda=0.0 will be ignored. Current value: lambda_l2=0.5\n",
      "[LightGBM] [Warning] bagging_fraction is set=1, subsample=1.0 will be ignored. Current value: bagging_fraction=1\n",
      "[LightGBM] [Warning] bagging_freq is set=5, subsample_freq=0 will be ignored. Current value: bagging_freq=5\n",
      "[LightGBM] [Info] Number of positive: 2800, number of negative: 30084\n",
      "[LightGBM] [Info] Auto-choosing col-wise multi-threading, the overhead of testing was 0.039505 seconds.\n",
      "You can set `force_col_wise=true` to remove the overhead.\n",
      "[LightGBM] [Info] Total Bins 254\n",
      "[LightGBM] [Info] Number of data points in the train set: 32884, number of used features: 36\n",
      "[LightGBM] [Info] [binary:BoostFromScore]: pavg=0.500000 -> initscore=-0.000000\n",
      "[LightGBM] [Info] Start training from score -0.000000\n",
      "[LightGBM] [Warning] No further splits with positive gain, best gain: -inf\n",
      "[LightGBM] [Warning] No further splits with positive gain, best gain: -inf\n",
      "[LightGBM] [Warning] No further splits with positive gain, best gain: -inf\n",
      "[LightGBM] [Warning] No further splits with positive gain, best gain: -inf\n",
      "[LightGBM] [Warning] No further splits with positive gain, best gain: -inf\n",
      "[LightGBM] [Warning] No further splits with positive gain, best gain: -inf\n",
      "[LightGBM] [Warning] No further splits with positive gain, best gain: -inf\n",
      "[LightGBM] [Warning] No further splits with positive gain, best gain: -inf\n",
      "[LightGBM] [Warning] No further splits with positive gain, best gain: -inf\n",
      "[LightGBM] [Warning] No further splits with positive gain, best gain: -inf\n",
      "[LightGBM] [Warning] No further splits with positive gain, best gain: -inf\n",
      "[LightGBM] [Warning] No further splits with positive gain, best gain: -inf\n",
      "[LightGBM] [Warning] No further splits with positive gain, best gain: -inf\n",
      "[LightGBM] [Warning] No further splits with positive gain, best gain: -inf\n",
      "[LightGBM] [Warning] No further splits with positive gain, best gain: -inf\n",
      "[LightGBM] [Warning] No further splits with positive gain, best gain: -inf\n",
      "[LightGBM] [Warning] No further splits with positive gain, best gain: -inf\n",
      "[LightGBM] [Warning] No further splits with positive gain, best gain: -inf\n",
      "[LightGBM] [Warning] No further splits with positive gain, best gain: -inf\n",
      "[LightGBM] [Warning] No further splits with positive gain, best gain: -inf\n",
      "[LightGBM] [Warning] No further splits with positive gain, best gain: -inf\n",
      "[LightGBM] [Warning] No further splits with positive gain, best gain: -inf\n",
      "[LightGBM] [Warning] No further splits with positive gain, best gain: -inf\n",
      "[LightGBM] [Warning] No further splits with positive gain, best gain: -inf\n",
      "[LightGBM] [Warning] No further splits with positive gain, best gain: -inf\n",
      "[LightGBM] [Warning] No further splits with positive gain, best gain: -inf\n",
      "[LightGBM] [Warning] No further splits with positive gain, best gain: -inf\n",
      "[LightGBM] [Warning] No further splits with positive gain, best gain: -inf\n",
      "[LightGBM] [Warning] No further splits with positive gain, best gain: -inf\n",
      "[LightGBM] [Warning] No further splits with positive gain, best gain: -inf\n",
      "[LightGBM] [Warning] lambda_l2 is set=0.5, reg_lambda=0.0 will be ignored. Current value: lambda_l2=0.5\n",
      "[LightGBM] [Warning] bagging_fraction is set=1, subsample=1.0 will be ignored. Current value: bagging_fraction=1\n",
      "[LightGBM] [Warning] bagging_freq is set=5, subsample_freq=0 will be ignored. Current value: bagging_freq=5\n",
      "[LightGBM] [Warning] lambda_l2 is set=0.5, reg_lambda=0.0 will be ignored. Current value: lambda_l2=0.5\n",
      "[LightGBM] [Warning] bagging_fraction is set=1, subsample=1.0 will be ignored. Current value: bagging_fraction=1\n",
      "[LightGBM] [Warning] bagging_freq is set=5, subsample_freq=0 will be ignored. Current value: bagging_freq=5\n",
      "Training score:  0.9993176030502089\n",
      "valid score:  0.7168968984547657\n",
      "[LightGBM] [Warning] lambda_l2 is set=0.5, reg_lambda=0.0 will be ignored. Current value: lambda_l2=0.5\n",
      "[LightGBM] [Warning] bagging_fraction is set=1, subsample=1.0 will be ignored. Current value: bagging_fraction=1\n",
      "[LightGBM] [Warning] bagging_freq is set=5, subsample_freq=0 will be ignored. Current value: bagging_freq=5\n",
      "test score:  0.7072326581744505\n",
      "\n",
      " For train set \n",
      "\n",
      "Actual value counts\n",
      "0    30084\n",
      "1     2800\n",
      "Name: count, dtype: int64\n",
      "Predicted value counts\n",
      "0    30077\n",
      "1     2807\n",
      "Name: count, dtype: int64\n",
      "\n",
      " For validation set \n",
      "\n",
      "Actual value counts\n",
      "0    10028\n",
      "1      934\n",
      "Name: count, dtype: int64\n",
      "Predicted value counts\n",
      "0    10135\n",
      "1      827\n",
      "Name: count, dtype: int64\n",
      "\n",
      " For test set \n",
      "\n",
      "Actual value counts\n",
      "0    10028\n",
      "1      934\n",
      "Name: count, dtype: int64\n",
      "Predicted value counts\n",
      "0    10160\n",
      "1      802\n",
      "Name: count, dtype: int64\n"
     ]
    }
   ],
   "source": [
    "clf = LGBMClassifier(class_weight='balanced',**lgbm_params)\n",
    "y_train_pred,y_valid_pred,y_test_pred = ut.check_clf_score(clf, X_train, y_train.values, X_valid, y_valid.values, X_test,y_test.values) "
   ]
  },
  {
   "cell_type": "markdown",
   "metadata": {
    "id": "2MGUS_-NRO4f"
   },
   "source": [
    "## F1 score optimization"
   ]
  },
  {
   "cell_type": "code",
   "execution_count": 97,
   "metadata": {
    "colab": {
     "base_uri": "https://localhost:8080/",
     "height": 85
    },
    "executionInfo": {
     "elapsed": 2566,
     "status": "ok",
     "timestamp": 1603618897077,
     "user": {
      "displayName": "SAHIL MANKAD",
      "photoUrl": "",
      "userId": "01524592176474520459"
     },
     "user_tz": -330
    },
    "id": "GptXRG6tuqsC",
    "outputId": "a5a11be7-896e-462a-e459-751bbc986dd8"
   },
   "outputs": [
    {
     "name": "stdout",
     "output_type": "stream",
     "text": [
      "[LightGBM] [Warning] lambda_l2 is set=0.5, reg_lambda=0.0 will be ignored. Current value: lambda_l2=0.5\n",
      "[LightGBM] [Warning] bagging_fraction is set=1, subsample=1.0 will be ignored. Current value: bagging_fraction=1\n",
      "[LightGBM] [Warning] bagging_freq is set=5, subsample_freq=0 will be ignored. Current value: bagging_freq=5\n",
      "[LightGBM] [Warning] Found whitespace in feature_names, replace with underlines\n",
      "[LightGBM] [Warning] lambda_l2 is set=0.5, reg_lambda=0.0 will be ignored. Current value: lambda_l2=0.5\n",
      "[LightGBM] [Warning] bagging_fraction is set=1, subsample=1.0 will be ignored. Current value: bagging_fraction=1\n",
      "[LightGBM] [Warning] bagging_freq is set=5, subsample_freq=0 will be ignored. Current value: bagging_freq=5\n",
      "[LightGBM] [Info] Number of positive: 2800, number of negative: 30084\n",
      "[LightGBM] [Info] Auto-choosing row-wise multi-threading, the overhead of testing was 0.005287 seconds.\n",
      "You can set `force_row_wise=true` to remove the overhead.\n",
      "And if memory is not enough, you can set `force_col_wise=true`.\n",
      "[LightGBM] [Info] Total Bins 254\n",
      "[LightGBM] [Info] Number of data points in the train set: 32884, number of used features: 36\n",
      "[LightGBM] [Warning] lambda_l2 is set=0.5, reg_lambda=0.0 will be ignored. Current value: lambda_l2=0.5\n",
      "[LightGBM] [Warning] bagging_fraction is set=1, subsample=1.0 will be ignored. Current value: bagging_fraction=1\n",
      "[LightGBM] [Warning] bagging_freq is set=5, subsample_freq=0 will be ignored. Current value: bagging_freq=5\n",
      "[LightGBM] [Warning] Found whitespace in feature_names, replace with underlines\n",
      "[LightGBM] [Info] [binary:BoostFromScore]: pavg=0.500000 -> initscore=-0.000000\n",
      "[LightGBM] [Info] Start training from score -0.000000\n",
      "[LightGBM] [Warning] No further splits with positive gain, best gain: -inf\n",
      "[LightGBM] [Warning] No further splits with positive gain, best gain: -inf\n",
      "[LightGBM] [Warning] No further splits with positive gain, best gain: -inf\n",
      "[LightGBM] [Warning] No further splits with positive gain, best gain: -inf\n",
      "[LightGBM] [Warning] No further splits with positive gain, best gain: -inf\n",
      "[LightGBM] [Warning] No further splits with positive gain, best gain: -inf\n",
      "[LightGBM] [Warning] No further splits with positive gain, best gain: -inf\n",
      "[LightGBM] [Warning] No further splits with positive gain, best gain: -inf\n",
      "[LightGBM] [Warning] No further splits with positive gain, best gain: -inf\n",
      "[LightGBM] [Warning] No further splits with positive gain, best gain: -inf\n",
      "[LightGBM] [Warning] No further splits with positive gain, best gain: -inf\n",
      "[LightGBM] [Warning] No further splits with positive gain, best gain: -inf\n",
      "[LightGBM] [Warning] No further splits with positive gain, best gain: -inf\n",
      "[LightGBM] [Warning] No further splits with positive gain, best gain: -inf\n",
      "[LightGBM] [Warning] No further splits with positive gain, best gain: -inf\n",
      "[LightGBM] [Warning] No further splits with positive gain, best gain: -inf\n",
      "[LightGBM] [Warning] No further splits with positive gain, best gain: -inf\n",
      "[LightGBM] [Warning] No further splits with positive gain, best gain: -inf\n",
      "[LightGBM] [Warning] No further splits with positive gain, best gain: -inf\n",
      "[LightGBM] [Warning] No further splits with positive gain, best gain: -inf\n",
      "[LightGBM] [Warning] No further splits with positive gain, best gain: -inf\n",
      "[LightGBM] [Warning] No further splits with positive gain, best gain: -inf\n",
      "[LightGBM] [Warning] No further splits with positive gain, best gain: -inf\n",
      "[LightGBM] [Warning] No further splits with positive gain, best gain: -inf\n",
      "[LightGBM] [Warning] No further splits with positive gain, best gain: -inf\n",
      "[LightGBM] [Warning] No further splits with positive gain, best gain: -inf\n",
      "[LightGBM] [Warning] No further splits with positive gain, best gain: -inf\n",
      "[LightGBM] [Warning] No further splits with positive gain, best gain: -inf\n",
      "[LightGBM] [Warning] No further splits with positive gain, best gain: -inf\n",
      "[LightGBM] [Warning] No further splits with positive gain, best gain: -inf\n",
      "[LightGBM] [Warning] lambda_l2 is set=0.5, reg_lambda=0.0 will be ignored. Current value: lambda_l2=0.5\n",
      "[LightGBM] [Warning] bagging_fraction is set=1, subsample=1.0 will be ignored. Current value: bagging_fraction=1\n",
      "[LightGBM] [Warning] bagging_freq is set=5, subsample_freq=0 will be ignored. Current value: bagging_freq=5\n",
      "[LightGBM] [Warning] lambda_l2 is set=0.5, reg_lambda=0.0 will be ignored. Current value: lambda_l2=0.5\n",
      "[LightGBM] [Warning] bagging_fraction is set=1, subsample=1.0 will be ignored. Current value: bagging_fraction=1\n",
      "[LightGBM] [Warning] bagging_freq is set=5, subsample_freq=0 will be ignored. Current value: bagging_freq=5\n"
     ]
    }
   ],
   "source": [
    "# lgb_params = {'num_leaves': 150, 'n_estimators': 500, 'max_depth': 12, 'learning_rate': 0.5, 'colsample_bytree': 0.75, 'boosting_type': 'gbdt'}\n",
    "clf = LGBMClassifier(class_weight='balanced',**lgbm_params)\n",
    "fit_params = {} #'verbose': 100,\n",
    "y_train_pred, y_valid_pred = ut.run_gradient_boosting(clf, fit_params, X_train,y_train,X_valid,y_valid,True)"
   ]
  },
  {
   "cell_type": "code",
   "execution_count": 98,
   "metadata": {
    "colab": {
     "base_uri": "https://localhost:8080/",
     "height": 435
    },
    "executionInfo": {
     "elapsed": 3028,
     "status": "ok",
     "timestamp": 1603618906952,
     "user": {
      "displayName": "SAHIL MANKAD",
      "photoUrl": "",
      "userId": "01524592176474520459"
     },
     "user_tz": -330
    },
    "id": "DPhHJ_GRI6Fq",
    "outputId": "66ba19ed-6c32-4a8c-c16f-48bec9f44876"
   },
   "outputs": [
    {
     "name": "stdout",
     "output_type": "stream",
     "text": [
      "Best Threshold:  0.72\n",
      "Best Score:  0.07846653962560252\n"
     ]
    },
    {
     "data": {
      "image/png": "[encoded data removed]",
      "text/plain": [
       "<Figure size 1000x600 with 1 Axes>"
      ]
     },
     "metadata": {},
     "output_type": "display_data"
    }
   ],
   "source": [
    "ut.get_optimal_f1_thresh(y_train, y_train_pred)"
   ]
  },
  {
   "cell_type": "code",
   "execution_count": 99,
   "metadata": {
    "colab": {
     "base_uri": "https://localhost:8080/",
     "height": 433
    },
    "executionInfo": {
     "elapsed": 2735,
     "status": "ok",
     "timestamp": 1603618911536,
     "user": {
      "displayName": "SAHIL MANKAD",
      "photoUrl": "",
      "userId": "01524592176474520459"
     },
     "user_tz": -330
    },
    "id": "-GSWvRp5I6xa",
    "outputId": "cc7dcd93-16c6-41ea-970b-e557740da306"
   },
   "outputs": [
    {
     "name": "stdout",
     "output_type": "stream",
     "text": [
      "Best Threshold:  0.85\n",
      "Best Score:  0.0785137861466039\n"
     ]
    },
    {
     "data": {
      "image/png": "[encoded data removed]",
      "text/plain": [
       "<Figure size 1000x600 with 1 Axes>"
      ]
     },
     "metadata": {},
     "output_type": "display_data"
    }
   ],
   "source": [
    "y_valid = y_valid.astype('int')\n",
    "ut.get_optimal_f1_thresh(y_valid, y_valid_pred)"
   ]
  },
  {
   "cell_type": "markdown",
   "metadata": {
    "id": "LJoWssq-ZWML"
   },
   "source": [
    "Based on above graphs, we can see that the threshold of 0.8 is the best one"
   ]
  },
  {
   "cell_type": "code",
   "execution_count": 100,
   "metadata": {
    "colab": {
     "base_uri": "https://localhost:8080/",
     "height": 34
    },
    "executionInfo": {
     "elapsed": 2161,
     "status": "ok",
     "timestamp": 1603618917873,
     "user": {
      "displayName": "SAHIL MANKAD",
      "photoUrl": "",
      "userId": "01524592176474520459"
     },
     "user_tz": -330
    },
    "id": "V3n6nWNWNyh8",
    "outputId": "aef49963-b805-4e19-a958-dceb8303b4e3"
   },
   "outputs": [
    {
     "name": "stdout",
     "output_type": "stream",
     "text": [
      "[LightGBM] [Warning] lambda_l2 is set=0.5, reg_lambda=0.0 will be ignored. Current value: lambda_l2=0.5\n",
      "[LightGBM] [Warning] bagging_fraction is set=1, subsample=1.0 will be ignored. Current value: bagging_fraction=1\n",
      "[LightGBM] [Warning] bagging_freq is set=5, subsample_freq=0 will be ignored. Current value: bagging_freq=5\n",
      "0.7123570739771319\n"
     ]
    }
   ],
   "source": [
    "y_test_pred =  clf.predict_proba(X_test)[:, 1]\n",
    "optimal_thresh = 0.8\n",
    "y_test_pred_rounded = (y_test_pred > optimal_thresh) * 1\n",
    "y_test = y_test.astype('int')\n",
    "test_score = f1_score(y_test, y_test_pred_rounded, average='macro')\n",
    "print(test_score)"
   ]
  },
  {
   "cell_type": "markdown",
   "metadata": {
    "id": "8yvjmT_QGnih"
   },
   "source": [
    "# Ensembling"
   ]
  },
  {
   "cell_type": "code",
   "execution_count": 101,
   "metadata": {
    "id": "KuHCzQ3_HC6V"
   },
   "outputs": [],
   "source": [
    "filename = 'lgbm_best_params.sav'\n",
    "lgbm_params = pickle.load(open(filename, 'rb'))\n",
    "clf1 = LGBMClassifier(class_weight='balanced',**lgbm_params)\n",
    "\n",
    "filename = 'catboost_best_params.sav'\n",
    "catboost_params = pickle.load(open(filename, 'rb'))\n",
    "clf2 = CatBoostClassifier(verbose=0,**catboost_params)"
   ]
  },
  {
   "cell_type": "code",
   "execution_count": 102,
   "metadata": {
    "id": "fwI22LN8JqlL"
   },
   "outputs": [],
   "source": [
    "estimators = [('lgbm', clf1),('catboost', clf2)]"
   ]
  },
  {
   "cell_type": "code",
   "execution_count": 103,
   "metadata": {
    "colab": {
     "base_uri": "https://localhost:8080/",
     "height": 34
    },
    "executionInfo": {
     "elapsed": 1122103,
     "status": "ok",
     "timestamp": 1603643412588,
     "user": {
      "displayName": "SAHIL MANKAD",
      "photoUrl": "",
      "userId": "01524592176474520459"
     },
     "user_tz": -330
    },
    "id": "SSUOKQpbLQKU",
    "outputId": "630a5ab4-f770-45c3-911e-1b3cd9cc563a"
   },
   "outputs": [
    {
     "name": "stdout",
     "output_type": "stream",
     "text": [
      "{'LGBMClassifier': 0.7362404623067512, 'CatBoostClassifier': 0.7349529978439187, 'XGBClassifier': 0.7360590005871437}\n"
     ]
    }
   ],
   "source": [
    "results = {}\n",
    "models = [LGBMClassifier(),CatBoostClassifier(verbose=0),XGBClassifier(random_state=96)]  \n",
    "model_names = ['LGBMClassifier','CatBoostClassifier','XGBClassifier']\n",
    "for i in range(len(models)):\n",
    "    clf = StackingClassifier(estimators=estimators, final_estimator=models[i]) \n",
    "    results[model_names[i]] = mean(cross_val_score(clf, X_train, y_train, cv = 5, scoring='f1_macro',n_jobs=-1))\n",
    "print(results)"
   ]
  },
  {
   "cell_type": "code",
   "execution_count": 104,
   "metadata": {
    "colab": {
     "base_uri": "https://localhost:8080/",
     "height": 34
    },
    "executionInfo": {
     "elapsed": 386669,
     "status": "ok",
     "timestamp": 1603643811626,
     "user": {
      "displayName": "SAHIL MANKAD",
      "photoUrl": "",
      "userId": "01524592176474520459"
     },
     "user_tz": -330
    },
    "id": "JbpVCCC9NHvH",
    "outputId": "b77440a6-bc00-4d63-be44-5559f183e6e1"
   },
   "outputs": [
    {
     "name": "stderr",
     "output_type": "stream",
     "text": [
      "2024-04-07 19:26:19,713 - distributed.scheduler - WARNING - Worker failed to heartbeat within 300 seconds. Closing: <WorkerState 'inproc://192.168.1.103/22488/4', name: 0, status: running, memory: 0, processing: 0>\n",
      "2024-04-07 19:26:19,720 - distributed.scheduler - WARNING - Received heartbeat from unregistered worker 'inproc://192.168.1.103/22488/4'.\n",
      "2024-04-07 19:26:19,723 - distributed.worker - WARNING - Scheduler was unaware of this worker; shutting down.\n"
     ]
    },
    {
     "name": "stdout",
     "output_type": "stream",
     "text": [
      "{'LGBMClassifier': 0.7199667172396037, 'CatBoostClassifier': 0.7197343371020194, 'XGBClassifier': 0.7242180631593103}\n"
     ]
    }
   ],
   "source": [
    "results = {}\n",
    "\n",
    "# with joblib.parallel_backend('dask'):\n",
    "#   models = [LGBMClassifier(),CatBoostClassifier(verbose=0),XGBClassifier(random_state=96)]  \n",
    "#   model_names = ['LGBMClassifier','CatBoostClassifier','XGBClassifier']\n",
    "#   for i in range(len(models)):\n",
    "#     clf = StackingClassifier(estimators=estimators, final_estimator=models[i]) \n",
    "#     results[model_names[i]] = mean(cross_val_score(clf, X_valid, y_valid, cv = 5, scoring='f1_macro',n_jobs=-1))\n",
    "\n",
    "models = [LGBMClassifier(),CatBoostClassifier(verbose=0),XGBClassifier(random_state=96)]  \n",
    "model_names = ['LGBMClassifier','CatBoostClassifier','XGBClassifier']\n",
    "for i in range(len(models)):\n",
    "    clf = StackingClassifier(estimators=estimators, final_estimator=models[i]) \n",
    "    results[model_names[i]] = mean(cross_val_score(clf, X_valid, y_valid, cv = 5, scoring='f1_macro',n_jobs=-1))\n",
    "print(results)"
   ]
  },
  {
   "cell_type": "code",
   "execution_count": 116,
   "metadata": {
    "id": "CjfuCbrmoXoc"
   },
   "outputs": [
    {
     "name": "stdout",
     "output_type": "stream",
     "text": [
      "[LightGBM] [Warning] lambda_l2 is set=0.5, reg_lambda=0.0 will be ignored. Current value: lambda_l2=0.5\n",
      "[LightGBM] [Warning] bagging_fraction is set=1, subsample=1.0 will be ignored. Current value: bagging_fraction=1\n",
      "[LightGBM] [Warning] bagging_freq is set=5, subsample_freq=0 will be ignored. Current value: bagging_freq=5\n",
      "[LightGBM] [Warning] Found whitespace in feature_names, replace with underlines\n",
      "[LightGBM] [Warning] lambda_l2 is set=0.5, reg_lambda=0.0 will be ignored. Current value: lambda_l2=0.5\n",
      "[LightGBM] [Warning] bagging_fraction is set=1, subsample=1.0 will be ignored. Current value: bagging_fraction=1\n",
      "[LightGBM] [Warning] bagging_freq is set=5, subsample_freq=0 will be ignored. Current value: bagging_freq=5\n",
      "[LightGBM] [Info] Number of positive: 2800, number of negative: 30084\n",
      "[LightGBM] [Info] Auto-choosing row-wise multi-threading, the overhead of testing was 0.004325 seconds.\n",
      "You can set `force_row_wise=true` to remove the overhead.\n",
      "And if memory is not enough, you can set `force_col_wise=true`.\n",
      "[LightGBM] [Info] Total Bins 254\n",
      "[LightGBM] [Info] Number of data points in the train set: 32884, number of used features: 36\n",
      "[LightGBM] [Info] [binary:BoostFromScore]: pavg=0.500000 -> initscore=-0.000000\n",
      "[LightGBM] [Info] Start training from score -0.000000\n",
      "[LightGBM] [Warning] No further splits with positive gain, best gain: -inf\n",
      "[LightGBM] [Warning] No further splits with positive gain, best gain: -inf\n",
      "[LightGBM] [Warning] No further splits with positive gain, best gain: -inf\n",
      "[LightGBM] [Warning] No further splits with positive gain, best gain: -inf\n",
      "[LightGBM] [Warning] No further splits with positive gain, best gain: -inf\n",
      "[LightGBM] [Warning] No further splits with positive gain, best gain: -inf\n",
      "[LightGBM] [Warning] No further splits with positive gain, best gain: -inf\n",
      "[LightGBM] [Warning] No further splits with positive gain, best gain: -inf\n",
      "[LightGBM] [Warning] No further splits with positive gain, best gain: -inf\n",
      "[LightGBM] [Warning] No further splits with positive gain, best gain: -inf\n",
      "[LightGBM] [Warning] No further splits with positive gain, best gain: -inf\n",
      "[LightGBM] [Warning] No further splits with positive gain, best gain: -inf\n",
      "[LightGBM] [Warning] No further splits with positive gain, best gain: -inf\n",
      "[LightGBM] [Warning] No further splits with positive gain, best gain: -inf\n",
      "[LightGBM] [Warning] No further splits with positive gain, best gain: -inf\n",
      "[LightGBM] [Warning] No further splits with positive gain, best gain: -inf\n",
      "[LightGBM] [Warning] No further splits with positive gain, best gain: -inf\n",
      "[LightGBM] [Warning] No further splits with positive gain, best gain: -inf\n",
      "[LightGBM] [Warning] No further splits with positive gain, best gain: -inf\n",
      "[LightGBM] [Warning] No further splits with positive gain, best gain: -inf\n",
      "[LightGBM] [Warning] No further splits with positive gain, best gain: -inf\n",
      "[LightGBM] [Warning] No further splits with positive gain, best gain: -inf\n",
      "[LightGBM] [Warning] No further splits with positive gain, best gain: -inf\n",
      "[LightGBM] [Warning] No further splits with positive gain, best gain: -inf\n",
      "[LightGBM] [Warning] No further splits with positive gain, best gain: -inf\n",
      "[LightGBM] [Warning] No further splits with positive gain, best gain: -inf\n",
      "[LightGBM] [Warning] No further splits with positive gain, best gain: -inf\n",
      "[LightGBM] [Warning] No further splits with positive gain, best gain: -inf\n",
      "[LightGBM] [Warning] No further splits with positive gain, best gain: -inf\n",
      "[LightGBM] [Warning] No further splits with positive gain, best gain: -inf\n",
      "[LightGBM] [Warning] lambda_l2 is set=0.5, reg_lambda=0.0 will be ignored. Current value: lambda_l2=0.5\n",
      "[LightGBM] [Warning] bagging_fraction is set=1, subsample=1.0 will be ignored. Current value: bagging_fraction=1\n",
      "[LightGBM] [Warning] bagging_freq is set=5, subsample_freq=0 will be ignored. Current value: bagging_freq=5\n",
      "[LightGBM] [Warning] Found whitespace in feature_names, replace with underlines\n",
      "[LightGBM] [Warning] lambda_l2 is set=0.5, reg_lambda=0.0 will be ignored. Current value: lambda_l2=0.5\n",
      "[LightGBM] [Warning] bagging_fraction is set=1, subsample=1.0 will be ignored. Current value: bagging_fraction=1\n",
      "[LightGBM] [Warning] bagging_freq is set=5, subsample_freq=0 will be ignored. Current value: bagging_freq=5\n",
      "[LightGBM] [Info] Number of positive: 2240, number of negative: 24067\n",
      "[LightGBM] [Info] Auto-choosing row-wise multi-threading, the overhead of testing was 0.003720 seconds.\n",
      "You can set `force_row_wise=true` to remove the overhead.\n",
      "And if memory is not enough, you can set `force_col_wise=true`.\n",
      "[LightGBM] [Info] Total Bins 253\n",
      "[LightGBM] [Info] Number of data points in the train set: 26307, number of used features: 36\n",
      "[LightGBM] [Info] [binary:BoostFromScore]: pavg=0.500000 -> initscore=0.000000\n",
      "[LightGBM] [Info] Start training from score 0.000000\n",
      "[LightGBM] [Warning] No further splits with positive gain, best gain: -inf\n",
      "[LightGBM] [Warning] No further splits with positive gain, best gain: -inf\n",
      "[LightGBM] [Warning] No further splits with positive gain, best gain: -inf\n",
      "[LightGBM] [Warning] No further splits with positive gain, best gain: -inf\n",
      "[LightGBM] [Warning] No further splits with positive gain, best gain: -inf\n",
      "[LightGBM] [Warning] No further splits with positive gain, best gain: -inf\n",
      "[LightGBM] [Warning] No further splits with positive gain, best gain: -inf\n",
      "[LightGBM] [Warning] No further splits with positive gain, best gain: -inf\n",
      "[LightGBM] [Warning] No further splits with positive gain, best gain: -inf\n",
      "[LightGBM] [Warning] No further splits with positive gain, best gain: -inf\n",
      "[LightGBM] [Warning] No further splits with positive gain, best gain: -inf\n",
      "[LightGBM] [Warning] No further splits with positive gain, best gain: -inf\n",
      "[LightGBM] [Warning] No further splits with positive gain, best gain: -inf\n",
      "[LightGBM] [Warning] No further splits with positive gain, best gain: -inf\n",
      "[LightGBM] [Warning] No further splits with positive gain, best gain: -inf\n",
      "[LightGBM] [Warning] No further splits with positive gain, best gain: -inf\n",
      "[LightGBM] [Warning] No further splits with positive gain, best gain: -inf\n",
      "[LightGBM] [Warning] No further splits with positive gain, best gain: -inf\n",
      "[LightGBM] [Warning] No further splits with positive gain, best gain: -inf\n",
      "[LightGBM] [Warning] No further splits with positive gain, best gain: -inf\n",
      "[LightGBM] [Warning] No further splits with positive gain, best gain: -inf\n",
      "[LightGBM] [Warning] No further splits with positive gain, best gain: -inf\n",
      "[LightGBM] [Warning] No further splits with positive gain, best gain: -inf\n",
      "[LightGBM] [Warning] No further splits with positive gain, best gain: -inf\n",
      "[LightGBM] [Warning] No further splits with positive gain, best gain: -inf\n",
      "[LightGBM] [Warning] No further splits with positive gain, best gain: -inf\n",
      "[LightGBM] [Warning] No further splits with positive gain, best gain: -inf\n",
      "[LightGBM] [Warning] No further splits with positive gain, best gain: -inf\n",
      "[LightGBM] [Warning] No further splits with positive gain, best gain: -inf\n",
      "[LightGBM] [Warning] No further splits with positive gain, best gain: -inf\n",
      "[LightGBM] [Warning] No further splits with positive gain, best gain: -inf\n",
      "[LightGBM] [Warning] No further splits with positive gain, best gain: -inf\n",
      "[LightGBM] [Warning] No further splits with positive gain, best gain: -inf\n",
      "[LightGBM] [Warning] No further splits with positive gain, best gain: -inf\n",
      "[LightGBM] [Warning] No further splits with positive gain, best gain: -inf\n",
      "[LightGBM] [Warning] No further splits with positive gain, best gain: -inf\n",
      "[LightGBM] [Warning] No further splits with positive gain, best gain: -inf\n",
      "[LightGBM] [Warning] No further splits with positive gain, best gain: -inf\n",
      "[LightGBM] [Warning] No further splits with positive gain, best gain: -inf\n",
      "[LightGBM] [Warning] No further splits with positive gain, best gain: -inf\n",
      "[LightGBM] [Warning] No further splits with positive gain, best gain: -inf\n",
      "[LightGBM] [Warning] No further splits with positive gain, best gain: -inf\n",
      "[LightGBM] [Warning] No further splits with positive gain, best gain: -inf\n",
      "[LightGBM] [Warning] lambda_l2 is set=0.5, reg_lambda=0.0 will be ignored. Current value: lambda_l2=0.5\n",
      "[LightGBM] [Warning] bagging_fraction is set=1, subsample=1.0 will be ignored. Current value: bagging_fraction=1\n",
      "[LightGBM] [Warning] bagging_freq is set=5, subsample_freq=0 will be ignored. Current value: bagging_freq=5\n",
      "[LightGBM] [Warning] lambda_l2 is set=0.5, reg_lambda=0.0 will be ignored. Current value: lambda_l2=0.5\n",
      "[LightGBM] [Warning] bagging_fraction is set=1, subsample=1.0 will be ignored. Current value: bagging_fraction=1\n",
      "[LightGBM] [Warning] bagging_freq is set=5, subsample_freq=0 will be ignored. Current value: bagging_freq=5\n",
      "[LightGBM] [Warning] Found whitespace in feature_names, replace with underlines\n",
      "[LightGBM] [Warning] lambda_l2 is set=0.5, reg_lambda=0.0 will be ignored. Current value: lambda_l2=0.5\n",
      "[LightGBM] [Warning] bagging_fraction is set=1, subsample=1.0 will be ignored. Current value: bagging_fraction=1\n",
      "[LightGBM] [Warning] bagging_freq is set=5, subsample_freq=0 will be ignored. Current value: bagging_freq=5\n",
      "[LightGBM] [Info] Number of positive: 2240, number of negative: 24067\n",
      "[LightGBM] [Info] Auto-choosing row-wise multi-threading, the overhead of testing was 0.003679 seconds.\n",
      "You can set `force_row_wise=true` to remove the overhead.\n",
      "And if memory is not enough, you can set `force_col_wise=true`.\n",
      "[LightGBM] [Info] Total Bins 253\n",
      "[LightGBM] [Info] Number of data points in the train set: 26307, number of used features: 36\n",
      "[LightGBM] [Info] [binary:BoostFromScore]: pavg=0.500000 -> initscore=0.000000\n",
      "[LightGBM] [Info] Start training from score 0.000000\n",
      "[LightGBM] [Warning] No further splits with positive gain, best gain: -inf\n",
      "[LightGBM] [Warning] No further splits with positive gain, best gain: -inf\n",
      "[LightGBM] [Warning] No further splits with positive gain, best gain: -inf\n",
      "[LightGBM] [Warning] No further splits with positive gain, best gain: -inf\n",
      "[LightGBM] [Warning] No further splits with positive gain, best gain: -inf\n",
      "[LightGBM] [Warning] No further splits with positive gain, best gain: -inf\n",
      "[LightGBM] [Warning] No further splits with positive gain, best gain: -inf\n",
      "[LightGBM] [Warning] No further splits with positive gain, best gain: -inf\n",
      "[LightGBM] [Warning] No further splits with positive gain, best gain: -inf\n",
      "[LightGBM] [Warning] No further splits with positive gain, best gain: -inf\n",
      "[LightGBM] [Warning] No further splits with positive gain, best gain: -inf\n",
      "[LightGBM] [Warning] No further splits with positive gain, best gain: -inf\n",
      "[LightGBM] [Warning] No further splits with positive gain, best gain: -inf\n",
      "[LightGBM] [Warning] No further splits with positive gain, best gain: -inf\n",
      "[LightGBM] [Warning] No further splits with positive gain, best gain: -inf\n",
      "[LightGBM] [Warning] No further splits with positive gain, best gain: -inf\n",
      "[LightGBM] [Warning] No further splits with positive gain, best gain: -inf\n",
      "[LightGBM] [Warning] No further splits with positive gain, best gain: -inf\n",
      "[LightGBM] [Warning] No further splits with positive gain, best gain: -inf\n",
      "[LightGBM] [Warning] No further splits with positive gain, best gain: -inf\n",
      "[LightGBM] [Warning] No further splits with positive gain, best gain: -inf\n",
      "[LightGBM] [Warning] No further splits with positive gain, best gain: -inf\n",
      "[LightGBM] [Warning] No further splits with positive gain, best gain: -inf\n",
      "[LightGBM] [Warning] No further splits with positive gain, best gain: -inf\n",
      "[LightGBM] [Warning] No further splits with positive gain, best gain: -inf\n",
      "[LightGBM] [Warning] No further splits with positive gain, best gain: -inf\n",
      "[LightGBM] [Warning] No further splits with positive gain, best gain: -inf\n",
      "[LightGBM] [Warning] No further splits with positive gain, best gain: -inf\n",
      "[LightGBM] [Warning] No further splits with positive gain, best gain: -inf\n",
      "[LightGBM] [Warning] No further splits with positive gain, best gain: -inf\n",
      "[LightGBM] [Warning] No further splits with positive gain, best gain: -inf\n",
      "[LightGBM] [Warning] No further splits with positive gain, best gain: -inf\n",
      "[LightGBM] [Warning] No further splits with positive gain, best gain: -inf\n",
      "[LightGBM] [Warning] No further splits with positive gain, best gain: -inf\n",
      "[LightGBM] [Warning] No further splits with positive gain, best gain: -inf\n",
      "[LightGBM] [Warning] No further splits with positive gain, best gain: -inf\n",
      "[LightGBM] [Warning] No further splits with positive gain, best gain: -inf\n",
      "[LightGBM] [Warning] No further splits with positive gain, best gain: -inf\n",
      "[LightGBM] [Warning] No further splits with positive gain, best gain: -inf\n",
      "[LightGBM] [Warning] No further splits with positive gain, best gain: -inf\n",
      "[LightGBM] [Warning] No further splits with positive gain, best gain: -inf\n",
      "[LightGBM] [Warning] No further splits with positive gain, best gain: -inf\n",
      "[LightGBM] [Warning] No further splits with positive gain, best gain: -inf\n",
      "[LightGBM] [Warning] No further splits with positive gain, best gain: -inf\n",
      "[LightGBM] [Warning] No further splits with positive gain, best gain: -inf\n",
      "[LightGBM] [Warning] No further splits with positive gain, best gain: -inf\n",
      "[LightGBM] [Warning] No further splits with positive gain, best gain: -inf\n",
      "[LightGBM] [Warning] No further splits with positive gain, best gain: -inf\n",
      "[LightGBM] [Warning] No further splits with positive gain, best gain: -inf\n",
      "[LightGBM] [Warning] lambda_l2 is set=0.5, reg_lambda=0.0 will be ignored. Current value: lambda_l2=0.5\n",
      "[LightGBM] [Warning] bagging_fraction is set=1, subsample=1.0 will be ignored. Current value: bagging_fraction=1\n",
      "[LightGBM] [Warning] bagging_freq is set=5, subsample_freq=0 will be ignored. Current value: bagging_freq=5\n",
      "[LightGBM] [Warning] lambda_l2 is set=0.5, reg_lambda=0.0 will be ignored. Current value: lambda_l2=0.5\n",
      "[LightGBM] [Warning] bagging_fraction is set=1, subsample=1.0 will be ignored. Current value: bagging_fraction=1\n",
      "[LightGBM] [Warning] bagging_freq is set=5, subsample_freq=0 will be ignored. Current value: bagging_freq=5\n",
      "[LightGBM] [Warning] Found whitespace in feature_names, replace with underlines\n",
      "[LightGBM] [Warning] lambda_l2 is set=0.5, reg_lambda=0.0 will be ignored. Current value: lambda_l2=0.5\n",
      "[LightGBM] [Warning] bagging_fraction is set=1, subsample=1.0 will be ignored. Current value: bagging_fraction=1\n",
      "[LightGBM] [Warning] bagging_freq is set=5, subsample_freq=0 will be ignored. Current value: bagging_freq=5\n",
      "[LightGBM] [Info] Number of positive: 2240, number of negative: 24067\n",
      "[LightGBM] [Info] Auto-choosing row-wise multi-threading, the overhead of testing was 0.005849 seconds.\n",
      "You can set `force_row_wise=true` to remove the overhead.\n",
      "And if memory is not enough, you can set `force_col_wise=true`.\n",
      "[LightGBM] [Info] Total Bins 253\n",
      "[LightGBM] [Info] Number of data points in the train set: 26307, number of used features: 36\n",
      "[LightGBM] [Info] [binary:BoostFromScore]: pavg=0.500000 -> initscore=0.000000\n",
      "[LightGBM] [Info] Start training from score 0.000000\n",
      "[LightGBM] [Warning] No further splits with positive gain, best gain: -inf\n",
      "[LightGBM] [Warning] No further splits with positive gain, best gain: -inf\n",
      "[LightGBM] [Warning] No further splits with positive gain, best gain: -inf\n",
      "[LightGBM] [Warning] No further splits with positive gain, best gain: -inf\n",
      "[LightGBM] [Warning] No further splits with positive gain, best gain: -inf\n",
      "[LightGBM] [Warning] No further splits with positive gain, best gain: -inf\n",
      "[LightGBM] [Warning] No further splits with positive gain, best gain: -inf\n",
      "[LightGBM] [Warning] No further splits with positive gain, best gain: -inf\n",
      "[LightGBM] [Warning] No further splits with positive gain, best gain: -inf\n",
      "[LightGBM] [Warning] No further splits with positive gain, best gain: -inf\n",
      "[LightGBM] [Warning] No further splits with positive gain, best gain: -inf\n",
      "[LightGBM] [Warning] No further splits with positive gain, best gain: -inf\n",
      "[LightGBM] [Warning] No further splits with positive gain, best gain: -inf\n",
      "[LightGBM] [Warning] No further splits with positive gain, best gain: -inf\n",
      "[LightGBM] [Warning] No further splits with positive gain, best gain: -inf\n",
      "[LightGBM] [Warning] No further splits with positive gain, best gain: -inf\n",
      "[LightGBM] [Warning] No further splits with positive gain, best gain: -inf\n",
      "[LightGBM] [Warning] No further splits with positive gain, best gain: -inf\n",
      "[LightGBM] [Warning] No further splits with positive gain, best gain: -inf\n",
      "[LightGBM] [Warning] No further splits with positive gain, best gain: -inf\n",
      "[LightGBM] [Warning] No further splits with positive gain, best gain: -inf\n",
      "[LightGBM] [Warning] No further splits with positive gain, best gain: -inf\n",
      "[LightGBM] [Warning] No further splits with positive gain, best gain: -inf\n",
      "[LightGBM] [Warning] No further splits with positive gain, best gain: -inf\n",
      "[LightGBM] [Warning] No further splits with positive gain, best gain: -inf\n",
      "[LightGBM] [Warning] No further splits with positive gain, best gain: -inf\n",
      "[LightGBM] [Warning] No further splits with positive gain, best gain: -inf\n",
      "[LightGBM] [Warning] No further splits with positive gain, best gain: -inf\n",
      "[LightGBM] [Warning] No further splits with positive gain, best gain: -inf\n",
      "[LightGBM] [Warning] No further splits with positive gain, best gain: -inf\n",
      "[LightGBM] [Warning] No further splits with positive gain, best gain: -inf\n",
      "[LightGBM] [Warning] No further splits with positive gain, best gain: -inf\n",
      "[LightGBM] [Warning] No further splits with positive gain, best gain: -inf\n",
      "[LightGBM] [Warning] No further splits with positive gain, best gain: -inf\n",
      "[LightGBM] [Warning] No further splits with positive gain, best gain: -inf\n",
      "[LightGBM] [Warning] No further splits with positive gain, best gain: -inf\n",
      "[LightGBM] [Warning] No further splits with positive gain, best gain: -inf\n",
      "[LightGBM] [Warning] No further splits with positive gain, best gain: -inf\n",
      "[LightGBM] [Warning] No further splits with positive gain, best gain: -inf\n",
      "[LightGBM] [Warning] No further splits with positive gain, best gain: -inf\n",
      "[LightGBM] [Warning] No further splits with positive gain, best gain: -inf\n",
      "[LightGBM] [Warning] No further splits with positive gain, best gain: -inf\n",
      "[LightGBM] [Warning] No further splits with positive gain, best gain: -inf\n",
      "[LightGBM] [Warning] No further splits with positive gain, best gain: -inf\n",
      "[LightGBM] [Warning] No further splits with positive gain, best gain: -inf\n",
      "[LightGBM] [Warning] No further splits with positive gain, best gain: -inf\n",
      "[LightGBM] [Warning] No further splits with positive gain, best gain: -inf\n",
      "[LightGBM] [Warning] lambda_l2 is set=0.5, reg_lambda=0.0 will be ignored. Current value: lambda_l2=0.5\n",
      "[LightGBM] [Warning] bagging_fraction is set=1, subsample=1.0 will be ignored. Current value: bagging_fraction=1\n",
      "[LightGBM] [Warning] bagging_freq is set=5, subsample_freq=0 will be ignored. Current value: bagging_freq=5\n",
      "[LightGBM] [Warning] lambda_l2 is set=0.5, reg_lambda=0.0 will be ignored. Current value: lambda_l2=0.5\n",
      "[LightGBM] [Warning] bagging_fraction is set=1, subsample=1.0 will be ignored. Current value: bagging_fraction=1\n",
      "[LightGBM] [Warning] bagging_freq is set=5, subsample_freq=0 will be ignored. Current value: bagging_freq=5\n",
      "[LightGBM] [Warning] Found whitespace in feature_names, replace with underlines\n",
      "[LightGBM] [Warning] lambda_l2 is set=0.5, reg_lambda=0.0 will be ignored. Current value: lambda_l2=0.5\n",
      "[LightGBM] [Warning] bagging_fraction is set=1, subsample=1.0 will be ignored. Current value: bagging_fraction=1\n",
      "[LightGBM] [Warning] bagging_freq is set=5, subsample_freq=0 will be ignored. Current value: bagging_freq=5\n",
      "[LightGBM] [Info] Number of positive: 2240, number of negative: 24067\n",
      "[LightGBM] [Info] Auto-choosing row-wise multi-threading, the overhead of testing was 0.004202 seconds.\n",
      "You can set `force_row_wise=true` to remove the overhead.\n",
      "And if memory is not enough, you can set `force_col_wise=true`.\n",
      "[LightGBM] [Info] Total Bins 253\n",
      "[LightGBM] [Info] Number of data points in the train set: 26307, number of used features: 36\n",
      "[LightGBM] [Info] [binary:BoostFromScore]: pavg=0.500000 -> initscore=0.000000\n",
      "[LightGBM] [Info] Start training from score 0.000000\n",
      "[LightGBM] [Warning] No further splits with positive gain, best gain: -inf\n",
      "[LightGBM] [Warning] No further splits with positive gain, best gain: -inf\n",
      "[LightGBM] [Warning] No further splits with positive gain, best gain: -inf\n",
      "[LightGBM] [Warning] No further splits with positive gain, best gain: -inf\n",
      "[LightGBM] [Warning] No further splits with positive gain, best gain: -inf\n",
      "[LightGBM] [Warning] No further splits with positive gain, best gain: -inf\n",
      "[LightGBM] [Warning] No further splits with positive gain, best gain: -inf\n",
      "[LightGBM] [Warning] No further splits with positive gain, best gain: -inf\n",
      "[LightGBM] [Warning] No further splits with positive gain, best gain: -inf\n",
      "[LightGBM] [Warning] No further splits with positive gain, best gain: -inf\n",
      "[LightGBM] [Warning] No further splits with positive gain, best gain: -inf\n",
      "[LightGBM] [Warning] No further splits with positive gain, best gain: -inf\n",
      "[LightGBM] [Warning] No further splits with positive gain, best gain: -inf\n",
      "[LightGBM] [Warning] No further splits with positive gain, best gain: -inf\n",
      "[LightGBM] [Warning] No further splits with positive gain, best gain: -inf\n",
      "[LightGBM] [Warning] No further splits with positive gain, best gain: -inf\n",
      "[LightGBM] [Warning] No further splits with positive gain, best gain: -inf\n",
      "[LightGBM] [Warning] No further splits with positive gain, best gain: -inf\n",
      "[LightGBM] [Warning] No further splits with positive gain, best gain: -inf\n",
      "[LightGBM] [Warning] No further splits with positive gain, best gain: -inf\n",
      "[LightGBM] [Warning] No further splits with positive gain, best gain: -inf\n",
      "[LightGBM] [Warning] No further splits with positive gain, best gain: -inf\n",
      "[LightGBM] [Warning] No further splits with positive gain, best gain: -inf\n",
      "[LightGBM] [Warning] No further splits with positive gain, best gain: -inf\n",
      "[LightGBM] [Warning] No further splits with positive gain, best gain: -inf\n",
      "[LightGBM] [Warning] No further splits with positive gain, best gain: -inf\n",
      "[LightGBM] [Warning] No further splits with positive gain, best gain: -inf\n",
      "[LightGBM] [Warning] No further splits with positive gain, best gain: -inf\n",
      "[LightGBM] [Warning] No further splits with positive gain, best gain: -inf\n",
      "[LightGBM] [Warning] No further splits with positive gain, best gain: -inf\n",
      "[LightGBM] [Warning] No further splits with positive gain, best gain: -inf\n",
      "[LightGBM] [Warning] No further splits with positive gain, best gain: -inf\n",
      "[LightGBM] [Warning] No further splits with positive gain, best gain: -inf\n",
      "[LightGBM] [Warning] No further splits with positive gain, best gain: -inf\n",
      "[LightGBM] [Warning] No further splits with positive gain, best gain: -inf\n",
      "[LightGBM] [Warning] No further splits with positive gain, best gain: -inf\n",
      "[LightGBM] [Warning] No further splits with positive gain, best gain: -inf\n",
      "[LightGBM] [Warning] No further splits with positive gain, best gain: -inf\n",
      "[LightGBM] [Warning] No further splits with positive gain, best gain: -inf\n",
      "[LightGBM] [Warning] No further splits with positive gain, best gain: -inf\n",
      "[LightGBM] [Warning] No further splits with positive gain, best gain: -inf\n",
      "[LightGBM] [Warning] No further splits with positive gain, best gain: -inf\n",
      "[LightGBM] [Warning] No further splits with positive gain, best gain: -inf\n",
      "[LightGBM] [Warning] No further splits with positive gain, best gain: -inf\n",
      "[LightGBM] [Warning] No further splits with positive gain, best gain: -inf\n",
      "[LightGBM] [Warning] No further splits with positive gain, best gain: -inf\n",
      "[LightGBM] [Warning] No further splits with positive gain, best gain: -inf\n",
      "[LightGBM] [Warning] No further splits with positive gain, best gain: -inf\n",
      "[LightGBM] [Warning] No further splits with positive gain, best gain: -inf\n",
      "[LightGBM] [Warning] No further splits with positive gain, best gain: -inf\n",
      "[LightGBM] [Warning] lambda_l2 is set=0.5, reg_lambda=0.0 will be ignored. Current value: lambda_l2=0.5\n",
      "[LightGBM] [Warning] bagging_fraction is set=1, subsample=1.0 will be ignored. Current value: bagging_fraction=1\n",
      "[LightGBM] [Warning] bagging_freq is set=5, subsample_freq=0 will be ignored. Current value: bagging_freq=5\n",
      "[LightGBM] [Warning] lambda_l2 is set=0.5, reg_lambda=0.0 will be ignored. Current value: lambda_l2=0.5\n",
      "[LightGBM] [Warning] bagging_fraction is set=1, subsample=1.0 will be ignored. Current value: bagging_fraction=1\n",
      "[LightGBM] [Warning] bagging_freq is set=5, subsample_freq=0 will be ignored. Current value: bagging_freq=5\n",
      "[LightGBM] [Warning] Found whitespace in feature_names, replace with underlines\n",
      "[LightGBM] [Warning] lambda_l2 is set=0.5, reg_lambda=0.0 will be ignored. Current value: lambda_l2=0.5\n",
      "[LightGBM] [Warning] bagging_fraction is set=1, subsample=1.0 will be ignored. Current value: bagging_fraction=1\n",
      "[LightGBM] [Warning] bagging_freq is set=5, subsample_freq=0 will be ignored. Current value: bagging_freq=5\n",
      "[LightGBM] [Info] Number of positive: 2240, number of negative: 24068\n",
      "[LightGBM] [Info] Auto-choosing row-wise multi-threading, the overhead of testing was 0.004635 seconds.\n",
      "You can set `force_row_wise=true` to remove the overhead.\n",
      "And if memory is not enough, you can set `force_col_wise=true`.\n",
      "[LightGBM] [Info] Total Bins 254\n",
      "[LightGBM] [Info] Number of data points in the train set: 26308, number of used features: 36\n",
      "[LightGBM] [Info] [binary:BoostFromScore]: pavg=0.500000 -> initscore=-0.000000\n",
      "[LightGBM] [Info] Start training from score -0.000000\n",
      "[LightGBM] [Warning] No further splits with positive gain, best gain: -inf\n",
      "[LightGBM] [Warning] No further splits with positive gain, best gain: -inf\n",
      "[LightGBM] [Warning] No further splits with positive gain, best gain: -inf\n",
      "[LightGBM] [Warning] No further splits with positive gain, best gain: -inf\n",
      "[LightGBM] [Warning] No further splits with positive gain, best gain: -inf\n",
      "[LightGBM] [Warning] No further splits with positive gain, best gain: -inf\n",
      "[LightGBM] [Warning] No further splits with positive gain, best gain: -inf\n",
      "[LightGBM] [Warning] No further splits with positive gain, best gain: -inf\n",
      "[LightGBM] [Warning] No further splits with positive gain, best gain: -inf\n",
      "[LightGBM] [Warning] No further splits with positive gain, best gain: -inf\n",
      "[LightGBM] [Warning] No further splits with positive gain, best gain: -inf\n",
      "[LightGBM] [Warning] No further splits with positive gain, best gain: -inf\n",
      "[LightGBM] [Warning] No further splits with positive gain, best gain: -inf\n",
      "[LightGBM] [Warning] No further splits with positive gain, best gain: -inf\n",
      "[LightGBM] [Warning] No further splits with positive gain, best gain: -inf\n",
      "[LightGBM] [Warning] No further splits with positive gain, best gain: -inf\n",
      "[LightGBM] [Warning] No further splits with positive gain, best gain: -inf\n",
      "[LightGBM] [Warning] No further splits with positive gain, best gain: -inf\n",
      "[LightGBM] [Warning] No further splits with positive gain, best gain: -inf\n",
      "[LightGBM] [Warning] No further splits with positive gain, best gain: -inf\n",
      "[LightGBM] [Warning] No further splits with positive gain, best gain: -inf\n",
      "[LightGBM] [Warning] No further splits with positive gain, best gain: -inf\n",
      "[LightGBM] [Warning] No further splits with positive gain, best gain: -inf\n",
      "[LightGBM] [Warning] No further splits with positive gain, best gain: -inf\n",
      "[LightGBM] [Warning] No further splits with positive gain, best gain: -inf\n",
      "[LightGBM] [Warning] No further splits with positive gain, best gain: -inf\n",
      "[LightGBM] [Warning] No further splits with positive gain, best gain: -inf\n",
      "[LightGBM] [Warning] No further splits with positive gain, best gain: -inf\n",
      "[LightGBM] [Warning] No further splits with positive gain, best gain: -inf\n",
      "[LightGBM] [Warning] No further splits with positive gain, best gain: -inf\n",
      "[LightGBM] [Warning] No further splits with positive gain, best gain: -inf\n",
      "[LightGBM] [Warning] No further splits with positive gain, best gain: -inf\n",
      "[LightGBM] [Warning] No further splits with positive gain, best gain: -inf\n",
      "[LightGBM] [Warning] No further splits with positive gain, best gain: -inf\n",
      "[LightGBM] [Warning] No further splits with positive gain, best gain: -inf\n",
      "[LightGBM] [Warning] No further splits with positive gain, best gain: -inf\n",
      "[LightGBM] [Warning] No further splits with positive gain, best gain: -inf\n",
      "[LightGBM] [Warning] No further splits with positive gain, best gain: -inf\n",
      "[LightGBM] [Warning] No further splits with positive gain, best gain: -inf\n",
      "[LightGBM] [Warning] No further splits with positive gain, best gain: -inf\n",
      "[LightGBM] [Warning] No further splits with positive gain, best gain: -inf\n",
      "[LightGBM] [Warning] No further splits with positive gain, best gain: -inf\n",
      "[LightGBM] [Warning] No further splits with positive gain, best gain: -inf\n",
      "[LightGBM] [Warning] No further splits with positive gain, best gain: -inf\n",
      "[LightGBM] [Warning] No further splits with positive gain, best gain: -inf\n",
      "[LightGBM] [Warning] No further splits with positive gain, best gain: -inf\n",
      "[LightGBM] [Warning] No further splits with positive gain, best gain: -inf\n",
      "[LightGBM] [Warning] No further splits with positive gain, best gain: -inf\n",
      "[LightGBM] [Warning] No further splits with positive gain, best gain: -inf\n",
      "[LightGBM] [Warning] No further splits with positive gain, best gain: -inf\n",
      "[LightGBM] [Warning] No further splits with positive gain, best gain: -inf\n",
      "[LightGBM] [Warning] No further splits with positive gain, best gain: -inf\n",
      "[LightGBM] [Warning] No further splits with positive gain, best gain: -inf\n",
      "[LightGBM] [Warning] No further splits with positive gain, best gain: -inf\n",
      "[LightGBM] [Warning] lambda_l2 is set=0.5, reg_lambda=0.0 will be ignored. Current value: lambda_l2=0.5\n",
      "[LightGBM] [Warning] bagging_fraction is set=1, subsample=1.0 will be ignored. Current value: bagging_fraction=1\n",
      "[LightGBM] [Warning] bagging_freq is set=5, subsample_freq=0 will be ignored. Current value: bagging_freq=5\n",
      "[LightGBM] [Warning] lambda_l2 is set=0.5, reg_lambda=0.0 will be ignored. Current value: lambda_l2=0.5\n",
      "[LightGBM] [Warning] bagging_fraction is set=1, subsample=1.0 will be ignored. Current value: bagging_fraction=1\n",
      "[LightGBM] [Warning] bagging_freq is set=5, subsample_freq=0 will be ignored. Current value: bagging_freq=5\n",
      "[LightGBM] [Warning] lambda_l2 is set=0.5, reg_lambda=0.0 will be ignored. Current value: lambda_l2=0.5\n",
      "[LightGBM] [Warning] bagging_fraction is set=1, subsample=1.0 will be ignored. Current value: bagging_fraction=1\n",
      "[LightGBM] [Warning] bagging_freq is set=5, subsample_freq=0 will be ignored. Current value: bagging_freq=5\n"
     ]
    }
   ],
   "source": [
    "clf = StackingClassifier(estimators=estimators, final_estimator = CatBoostClassifier(verbose=0))\n",
    "clf.fit(X_train,y_train)\n",
    "y_train_pred = clf.predict_proba(X_train)[:, 1]\n",
    "y_valid_pred = clf.predict_proba(X_valid)[:, 1]"
   ]
  },
  {
   "cell_type": "code",
   "execution_count": 117,
   "metadata": {
    "colab": {
     "base_uri": "https://localhost:8080/",
     "height": 433
    },
    "executionInfo": {
     "elapsed": 6076,
     "status": "ok",
     "timestamp": 1603646111159,
     "user": {
      "displayName": "SAHIL MANKAD",
      "photoUrl": "",
      "userId": "01524592176474520459"
     },
     "user_tz": -330
    },
    "id": "F6zfTbZypKkF",
    "outputId": "185c32fc-b9eb-44e4-c38a-936888abce06"
   },
   "outputs": [
    {
     "name": "stdout",
     "output_type": "stream",
     "text": [
      "Best Threshold:  0.22\n",
      "Best Score:  0.07846653962560252\n"
     ]
    },
    {
     "data": {
      "image/png": "[encoded data removed]",
      "text/plain": [
       "<Figure size 1000x600 with 1 Axes>"
      ]
     },
     "metadata": {},
     "output_type": "display_data"
    }
   ],
   "source": [
    "ut.get_optimal_f1_thresh(y_train, y_train_pred)"
   ]
  },
  {
   "cell_type": "code",
   "execution_count": 118,
   "metadata": {
    "colab": {
     "base_uri": "https://localhost:8080/",
     "height": 433
    },
    "executionInfo": {
     "elapsed": 7795,
     "status": "ok",
     "timestamp": 1603646132319,
     "user": {
      "displayName": "SAHIL MANKAD",
      "photoUrl": "",
      "userId": "01524592176474520459"
     },
     "user_tz": -330
    },
    "id": "eTqfM8PnqmYj",
    "outputId": "d13bf777-2c34-41c1-80fe-b78b0f5d3eeb"
   },
   "outputs": [
    {
     "name": "stdout",
     "output_type": "stream",
     "text": [
      "Best Threshold:  0.57\n",
      "Best Score:  0.0785137861466039\n"
     ]
    },
    {
     "data": {
      "image/png": "[encoded data removed]",
      "text/plain": [
       "<Figure size 1000x600 with 1 Axes>"
      ]
     },
     "metadata": {},
     "output_type": "display_data"
    }
   ],
   "source": [
    "ut.get_optimal_f1_thresh(y_valid, y_valid_pred)"
   ]
  },
  {
   "cell_type": "markdown",
   "metadata": {
    "id": "pULrazCfwnuK"
   },
   "source": [
    "0.5 seems like the ideal threshold from above 2 graphs"
   ]
  },
  {
   "cell_type": "code",
   "execution_count": 119,
   "metadata": {
    "colab": {
     "base_uri": "https://localhost:8080/",
     "height": 34
    },
    "executionInfo": {
     "elapsed": 6616,
     "status": "ok",
     "timestamp": 1603646212412,
     "user": {
      "displayName": "SAHIL MANKAD",
      "photoUrl": "",
      "userId": "01524592176474520459"
     },
     "user_tz": -330
    },
    "id": "r5KrFdolq-ZD",
    "outputId": "412a6913-72ba-47bc-94da-a85f29a7c7be"
   },
   "outputs": [
    {
     "name": "stdout",
     "output_type": "stream",
     "text": [
      "[LightGBM] [Warning] lambda_l2 is set=0.5, reg_lambda=0.0 will be ignored. Current value: lambda_l2=0.5\n",
      "[LightGBM] [Warning] bagging_fraction is set=1, subsample=1.0 will be ignored. Current value: bagging_fraction=1\n",
      "[LightGBM] [Warning] bagging_freq is set=5, subsample_freq=0 will be ignored. Current value: bagging_freq=5\n",
      "0.7253232269643949\n"
     ]
    }
   ],
   "source": [
    "y_test_pred =  clf.predict_proba(X_test)[:, 1]\n",
    "optimal_thresh = 0.5\n",
    "y_test_pred_rounded = (y_test_pred > optimal_thresh) * 1\n",
    "test_score = f1_score(y_test, y_test_pred_rounded, average='macro')\n",
    "print(test_score)"
   ]
  },
  {
   "cell_type": "markdown",
   "metadata": {
    "id": "a5pchxQLw9wM"
   },
   "source": [
    "The train,test and valid scores seem similar, which is okay. "
   ]
  },
  {
   "cell_type": "markdown",
   "metadata": {
    "id": "yFXXHUzDz9f7"
   },
   "source": [
    "# Averaging"
   ]
  },
  {
   "cell_type": "code",
   "execution_count": 120,
   "metadata": {
    "executionInfo": {
     "elapsed": 2312,
     "status": "ok",
     "timestamp": 1603691984336,
     "user": {
      "displayName": "SAHIL MANKAD",
      "photoUrl": "",
      "userId": "01524592176474520459"
     },
     "user_tz": -330
    },
    "id": "BDsN6GzMUfL2"
   },
   "outputs": [],
   "source": [
    "#Refernce: https://scikit-learn.org/stable/modules/generated/sklearn.ensemble.VotingClassifier.html\n",
    "\n",
    "#final_pred=(pred_val_1*w1 + pred_val_2*w2)\n",
    "\n",
    "filename = 'lgbm_best_params.sav'\n",
    "lgbm_params = pickle.load(open(filename, 'rb'))\n",
    "clf1 = LGBMClassifier(class_weight='balanced',**lgbm_params)\n",
    "\n",
    "filename = 'catboost_best_params.sav'\n",
    "catboost_params = pickle.load(open(filename, 'rb'))\n",
    "clf2 = CatBoostClassifier(verbose=0,**catboost_params)"
   ]
  },
  {
   "cell_type": "code",
   "execution_count": 121,
   "metadata": {
    "executionInfo": {
     "elapsed": 5120,
     "status": "ok",
     "timestamp": 1603692133717,
     "user": {
      "displayName": "SAHIL MANKAD",
      "photoUrl": "",
      "userId": "01524592176474520459"
     },
     "user_tz": -330
    },
    "id": "CP1ZTXlSfyLS"
   },
   "outputs": [],
   "source": [
    "weights = [0.1,0.2,0.3,0.4,0.5,0.6,0.7,0.8,0.9]"
   ]
  },
  {
   "cell_type": "code",
   "execution_count": 122,
   "metadata": {
    "colab": {
     "base_uri": "https://localhost:8080/",
     "height": 54
    },
    "executionInfo": {
     "elapsed": 706373,
     "status": "ok",
     "timestamp": 1603693609120,
     "user": {
      "displayName": "SAHIL MANKAD",
      "photoUrl": "",
      "userId": "01524592176474520459"
     },
     "user_tz": -330
    },
    "id": "4us8mDuIdhW3",
    "outputId": "8ce978b1-8683-4b23-a5bb-a612a119a048"
   },
   "outputs": [
    {
     "name": "stdout",
     "output_type": "stream",
     "text": [
      "{0.1: 0.7377943037181178, 0.2: 0.7385389409178778, 0.3: 0.7401570849483787, 0.4: 0.7406251265806602, 0.5: 0.7349338352585745, 0.6: 0.7272548369573921, 0.7: 0.7244817421279033, 0.8: 0.7219113666604625, 0.9: 0.7182082919716366}\n"
     ]
    }
   ],
   "source": [
    "results = {}\n",
    "for w in weights:\n",
    "  clf = VotingClassifier(estimators=[('lgb', clf1), ('cb', clf2)],voting='soft', weights=[w,1-w],flatten_transform=True)\n",
    "  results[w] = mean(cross_val_score(clf, X_train, y_train, cv = 5, scoring='f1_macro',n_jobs=-1))\n",
    "\n",
    "print(results)  "
   ]
  },
  {
   "cell_type": "code",
   "execution_count": 123,
   "metadata": {
    "colab": {
     "base_uri": "https://localhost:8080/",
     "height": 54
    },
    "executionInfo": {
     "elapsed": 235456,
     "status": "ok",
     "timestamp": 1603693896366,
     "user": {
      "displayName": "SAHIL MANKAD",
      "photoUrl": "",
      "userId": "01524592176474520459"
     },
     "user_tz": -330
    },
    "id": "fSi2CKOrcRfe",
    "outputId": "1dd85143-84bc-4df4-951f-7ea052b8085b"
   },
   "outputs": [
    {
     "name": "stdout",
     "output_type": "stream",
     "text": [
      "{0.1: 0.7302270485216877, 0.2: 0.7322630295180739, 0.3: 0.7347110705891322, 0.4: 0.7300634432683875, 0.5: 0.7262021368905879, 0.6: 0.7244794560709195, 0.7: 0.7252565038622688, 0.8: 0.7229142671077818, 0.9: 0.7199516574550363}\n"
     ]
    }
   ],
   "source": [
    "results = {}\n",
    "for w in weights:\n",
    "  clf = VotingClassifier(estimators=[('lgb', clf1), ('cb', clf2)],voting='soft', weights=[w,1-w],flatten_transform=True)\n",
    "  results[w] = mean(cross_val_score(clf, X_valid, y_valid, cv = 5, scoring='f1_macro',n_jobs=-1))\n",
    "\n",
    "print(results)  "
   ]
  },
  {
   "cell_type": "markdown",
   "metadata": {
    "id": "_0Wr4YqDnH0g"
   },
   "source": [
    "The value of 0.3 seems to be giving best results for train and valid set. Hence weightage will be 0.2 for lgb and 0.8 for catboost"
   ]
  },
  {
   "cell_type": "code",
   "execution_count": 124,
   "metadata": {
    "executionInfo": {
     "elapsed": 20008,
     "status": "ok",
     "timestamp": 1603694177417,
     "user": {
      "displayName": "SAHIL MANKAD",
      "photoUrl": "",
      "userId": "01524592176474520459"
     },
     "user_tz": -330
    },
    "id": "KO_ckywPdv3k"
   },
   "outputs": [
    {
     "name": "stdout",
     "output_type": "stream",
     "text": [
      "[LightGBM] [Warning] lambda_l2 is set=0.5, reg_lambda=0.0 will be ignored. Current value: lambda_l2=0.5\n",
      "[LightGBM] [Warning] bagging_fraction is set=1, subsample=1.0 will be ignored. Current value: bagging_fraction=1\n",
      "[LightGBM] [Warning] bagging_freq is set=5, subsample_freq=0 will be ignored. Current value: bagging_freq=5\n",
      "[LightGBM] [Warning] Found whitespace in feature_names, replace with underlines\n",
      "[LightGBM] [Warning] lambda_l2 is set=0.5, reg_lambda=0.0 will be ignored. Current value: lambda_l2=0.5\n",
      "[LightGBM] [Warning] bagging_fraction is set=1, subsample=1.0 will be ignored. Current value: bagging_fraction=1\n",
      "[LightGBM] [Warning] bagging_freq is set=5, subsample_freq=0 will be ignored. Current value: bagging_freq=5\n",
      "[LightGBM] [Info] Number of positive: 2800, number of negative: 30084\n",
      "[LightGBM] [Info] Auto-choosing row-wise multi-threading, the overhead of testing was 0.001664 seconds.\n",
      "You can set `force_row_wise=true` to remove the overhead.\n",
      "And if memory is not enough, you can set `force_col_wise=true`.\n",
      "[LightGBM] [Info] Total Bins 254\n",
      "[LightGBM] [Info] Number of data points in the train set: 32884, number of used features: 36\n",
      "[LightGBM] [Info] [binary:BoostFromScore]: pavg=0.500000 -> initscore=-0.000000\n",
      "[LightGBM] [Info] Start training from score -0.000000\n",
      "[LightGBM] [Warning] No further splits with positive gain, best gain: -inf\n",
      "[LightGBM] [Warning] No further splits with positive gain, best gain: -inf\n",
      "[LightGBM] [Warning] No further splits with positive gain, best gain: -inf\n",
      "[LightGBM] [Warning] No further splits with positive gain, best gain: -inf\n",
      "[LightGBM] [Warning] No further splits with positive gain, best gain: -inf\n",
      "[LightGBM] [Warning] No further splits with positive gain, best gain: -inf\n",
      "[LightGBM] [Warning] No further splits with positive gain, best gain: -inf\n",
      "[LightGBM] [Warning] No further splits with positive gain, best gain: -inf\n",
      "[LightGBM] [Warning] No further splits with positive gain, best gain: -inf\n",
      "[LightGBM] [Warning] No further splits with positive gain, best gain: -inf\n",
      "[LightGBM] [Warning] No further splits with positive gain, best gain: -inf\n",
      "[LightGBM] [Warning] No further splits with positive gain, best gain: -inf\n",
      "[LightGBM] [Warning] No further splits with positive gain, best gain: -inf\n",
      "[LightGBM] [Warning] No further splits with positive gain, best gain: -inf\n",
      "[LightGBM] [Warning] No further splits with positive gain, best gain: -inf\n",
      "[LightGBM] [Warning] No further splits with positive gain, best gain: -inf\n",
      "[LightGBM] [Warning] No further splits with positive gain, best gain: -inf\n",
      "[LightGBM] [Warning] No further splits with positive gain, best gain: -inf\n",
      "[LightGBM] [Warning] No further splits with positive gain, best gain: -inf\n",
      "[LightGBM] [Warning] No further splits with positive gain, best gain: -inf\n",
      "[LightGBM] [Warning] No further splits with positive gain, best gain: -inf\n",
      "[LightGBM] [Warning] No further splits with positive gain, best gain: -inf\n",
      "[LightGBM] [Warning] No further splits with positive gain, best gain: -inf\n",
      "[LightGBM] [Warning] No further splits with positive gain, best gain: -inf\n",
      "[LightGBM] [Warning] No further splits with positive gain, best gain: -inf\n",
      "[LightGBM] [Warning] No further splits with positive gain, best gain: -inf\n",
      "[LightGBM] [Warning] No further splits with positive gain, best gain: -inf\n",
      "[LightGBM] [Warning] No further splits with positive gain, best gain: -inf\n",
      "[LightGBM] [Warning] No further splits with positive gain, best gain: -inf\n",
      "[LightGBM] [Warning] No further splits with positive gain, best gain: -inf\n",
      "[LightGBM] [Warning] lambda_l2 is set=0.5, reg_lambda=0.0 will be ignored. Current value: lambda_l2=0.5\n",
      "[LightGBM] [Warning] bagging_fraction is set=1, subsample=1.0 will be ignored. Current value: bagging_fraction=1\n",
      "[LightGBM] [Warning] bagging_freq is set=5, subsample_freq=0 will be ignored. Current value: bagging_freq=5\n",
      "[LightGBM] [Warning] lambda_l2 is set=0.5, reg_lambda=0.0 will be ignored. Current value: lambda_l2=0.5\n",
      "[LightGBM] [Warning] bagging_fraction is set=1, subsample=1.0 will be ignored. Current value: bagging_fraction=1\n",
      "[LightGBM] [Warning] bagging_freq is set=5, subsample_freq=0 will be ignored. Current value: bagging_freq=5\n"
     ]
    }
   ],
   "source": [
    "best_w = 0.3\n",
    "clf = VotingClassifier(estimators=[('lgb', clf1), ('cb', clf2)],voting='soft', weights=[best_w,1-best_w],flatten_transform=True)\n",
    "clf.fit(X_train,y_train)\n",
    "y_train_pred = clf.predict_proba(X_train)[:, 1]\n",
    "y_valid_pred = clf.predict_proba(X_valid)[:, 1]"
   ]
  },
  {
   "cell_type": "code",
   "execution_count": 125,
   "metadata": {
    "colab": {
     "base_uri": "https://localhost:8080/",
     "height": 435
    },
    "executionInfo": {
     "elapsed": 6885,
     "status": "ok",
     "timestamp": 1603694186511,
     "user": {
      "displayName": "SAHIL MANKAD",
      "photoUrl": "",
      "userId": "01524592176474520459"
     },
     "user_tz": -330
    },
    "id": "wW0Gq29kd8uS",
    "outputId": "846d1a1f-e39a-48ba-aa5e-c094581abbe8"
   },
   "outputs": [
    {
     "name": "stdout",
     "output_type": "stream",
     "text": [
      "Best Threshold:  0.3\n",
      "Best Score:  0.07846653962560252\n"
     ]
    },
    {
     "data": {
      "image/png": "[encoded data removed]",
      "text/plain": [
       "<Figure size 1000x600 with 1 Axes>"
      ]
     },
     "metadata": {},
     "output_type": "display_data"
    }
   ],
   "source": [
    "ut.get_optimal_f1_thresh(y_train, y_train_pred)"
   ]
  },
  {
   "cell_type": "code",
   "execution_count": 126,
   "metadata": {
    "colab": {
     "base_uri": "https://localhost:8080/",
     "height": 433
    },
    "executionInfo": {
     "elapsed": 4046,
     "status": "ok",
     "timestamp": 1603694187227,
     "user": {
      "displayName": "SAHIL MANKAD",
      "photoUrl": "",
      "userId": "01524592176474520459"
     },
     "user_tz": -330
    },
    "id": "kkNvwYJtd9sR",
    "outputId": "921a6d9f-2033-47c8-ef66-14cc874a07a8"
   },
   "outputs": [
    {
     "name": "stdout",
     "output_type": "stream",
     "text": [
      "Best Threshold:  0.46\n",
      "Best Score:  0.0785137861466039\n"
     ]
    },
    {
     "data": {
      "image/png": "[encoded data removed]",
      "text/plain": [
       "<Figure size 1000x600 with 1 Axes>"
      ]
     },
     "metadata": {},
     "output_type": "display_data"
    }
   ],
   "source": [
    "ut.get_optimal_f1_thresh(y_valid, y_valid_pred)"
   ]
  },
  {
   "cell_type": "markdown",
   "metadata": {
    "id": "K6k4HffFn6OJ"
   },
   "source": [
    "0.6 seems to be the best value according to the graphs such that it avoids overfitting"
   ]
  },
  {
   "cell_type": "code",
   "execution_count": 128,
   "metadata": {
    "colab": {
     "base_uri": "https://localhost:8080/",
     "height": 34
    },
    "executionInfo": {
     "elapsed": 4363,
     "status": "ok",
     "timestamp": 1603694233508,
     "user": {
      "displayName": "SAHIL MANKAD",
      "photoUrl": "",
      "userId": "01524592176474520459"
     },
     "user_tz": -330
    },
    "id": "5v8qSJwneM6g",
    "outputId": "aa6bea31-97ca-4e8e-a6fa-c85914fa032e"
   },
   "outputs": [
    {
     "name": "stdout",
     "output_type": "stream",
     "text": [
      "[LightGBM] [Warning] lambda_l2 is set=0.5, reg_lambda=0.0 will be ignored. Current value: lambda_l2=0.5\n",
      "[LightGBM] [Warning] bagging_fraction is set=1, subsample=1.0 will be ignored. Current value: bagging_fraction=1\n",
      "[LightGBM] [Warning] bagging_freq is set=5, subsample_freq=0 will be ignored. Current value: bagging_freq=5\n",
      "0.7279230369905562\n"
     ]
    }
   ],
   "source": [
    "y_test_pred =  clf.predict_proba(X_test)[:, 1]\n",
    "optimal_thresh = 0.6\n",
    "y_test_pred_rounded = (y_test_pred > optimal_thresh) * 1\n",
    "test_score = f1_score(y_test, y_test_pred_rounded, average='macro')\n",
    "print(test_score)"
   ]
  },
  {
   "cell_type": "markdown",
   "metadata": {
    "id": "vXV76_O8oEsa"
   },
   "source": [
    "Values for train,test and valid scores are close to each other, which should be fine."
   ]
  }
 ],
 "metadata": {
  "colab": {
   "authorship_tag": "ABX9TyMNW+hoJX7sRKaGfGE51unu",
   "collapsed_sections": [
    "QbNhZfdJTJMW",
    "uKQkngiZNhj4",
    "IOVvitFta9G_",
    "ZmXb8WG8-Mrp",
    "qumm-51519yx",
    "hy2jpozuEsPw",
    "AsdHrMGujMOf",
    "qHu3SQNLRYkQ",
    "SggMnffw-otC",
    "LXBnXiQ7FlmG",
    "2MGUS_-NRO4f",
    "8yvjmT_QGnih"
   ],
   "name": "HR Analytics Modelling.ipynb",
   "provenance": []
  },
  "kernelspec": {
   "display_name": "Python 3 (ipykernel)",
   "language": "python",
   "name": "python3"
  },
  "language_info": {
   "codemirror_mode": {
    "name": "ipython",
    "version": 3
   },
   "file_extension": ".py",
   "mimetype": "text/x-python",
   "name": "python",
   "nbconvert_exporter": "python",
   "pygments_lexer": "ipython3",
   "version": "3.11.8"
  }
 },
 "nbformat": 4,
 "nbformat_minor": 4
}
